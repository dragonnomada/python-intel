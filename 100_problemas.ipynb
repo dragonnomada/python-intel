{
 "cells": [
  {
   "cell_type": "markdown",
   "source": [
    "## 1. Como consumir un servicio web\r\n",
    "\r\n",
    "Generalmente los servicios web modernos consisten en URLs capaces de generar datos exclusivos para el consumo de aplicaciones, por ejemplo, devolver listas de productos, usuarios, o realizar operaciones hacia las bases de datos.\r\n",
    "\r\n",
    "Los servicios web modernos se consumen mediante APIs con el formato JSON como la capa de datos.\r\n",
    "\r\n",
    "En python podemos consumir los servicios web como peticiones web mediante `requests`."
   ],
   "metadata": {}
  },
  {
   "cell_type": "code",
   "execution_count": 5,
   "source": [
    "# 1. Importar `requests`\r\n",
    "import requests\r\n",
    "\r\n",
    "results = 5\r\n",
    "page = 1\r\n",
    "seed = \"123\"\r\n",
    "nat = [\"us\", \"gb\", \"fr\"]\r\n",
    "\r\n",
    "# 2. Lanzar la petición y obtener la respuesta\r\n",
    "response = requests.get(f\"https://randomuser.me/api?results={results}&page={page}&seed={seed}&nat={','.join(nat)}\")\r\n",
    "\r\n",
    "# 3. Obtenemos los resultados de la respuesta convertidos a un diccionario de python\r\n",
    "data = response.json()\r\n",
    "\r\n",
    "# print(data) # {'results': [{'gender': 'male', 'name': {'title': 'Mr', 'first': 'Jared', 'last': 'Caldwell'}, ...\r\n",
    "\r\n",
    "for user in data[\"results\"]:\r\n",
    "    print(user[\"name\"][\"title\"], user[\"name\"][\"first\"], user[\"name\"][\"last\"])\r\n",
    "    print(user[\"gender\"], user[\"email\"])\r\n",
    "    print(\"-\" * 40)"
   ],
   "outputs": [
    {
     "output_type": "stream",
     "name": "stdout",
     "text": [
      "Mr Jared Caldwell\n",
      "male jared.caldwell@example.com\n",
      "----------------------------------------\n",
      "Miss Victoria Leclerc\n",
      "female victoria.leclerc@example.com\n",
      "----------------------------------------\n",
      "Mrs Léane Rolland\n",
      "female leane.rolland@example.com\n",
      "----------------------------------------\n",
      "Mr Jar Chavez\n",
      "male jar.chavez@example.com\n",
      "----------------------------------------\n",
      "Mr Clarence Dixon\n",
      "male clarence.dixon@example.com\n",
      "----------------------------------------\n"
     ]
    }
   ],
   "metadata": {}
  },
  {
   "cell_type": "markdown",
   "source": [
    "## 2. Descargar un archivo binario de internet\r\n",
    "\r\n",
    "Generalmente los archivos que no son de texto son llamados archivos binarios y estos pueden estar alojados en servidores para ser consumidos desde internet mediante URLs.\r\n",
    "\r\n",
    "En python podemos descargar estos archivos y guarlos en la computadora local."
   ],
   "metadata": {}
  },
  {
   "cell_type": "code",
   "execution_count": 15,
   "source": [
    "# 1. Importar `requests`\r\n",
    "response = requests.get(\"https://i.ytimg.com/vi/1Ne1hqOXKKI/maxresdefault.jpg\")\r\n",
    "\r\n",
    "# 2. Obtener el contenido descargado (binario)\r\n",
    "data = response.content\r\n",
    "\r\n",
    "print(len(data)) # 135,563 bytes ~ 130kb\r\n",
    "\r\n",
    "# Podemos abrir un archivo en modo escritura binaria\r\n",
    "f = open(\"datos/cat.jpg\", \"wb\")\r\n",
    "\r\n",
    "# Escribimos el contenido binario al archivo\r\n",
    "f.write(data)\r\n",
    "\r\n",
    "f.close()"
   ],
   "outputs": [
    {
     "output_type": "stream",
     "name": "stdout",
     "text": [
      "135563\n"
     ]
    }
   ],
   "metadata": {}
  },
  {
   "cell_type": "markdown",
   "source": [
    "## 3. Descomprimir un archivo ZIP\r\n",
    "\r\n",
    "Los archivos ZIP son archivos comprimidos o empaquetados cómo un único archivo binario para transportar múltiples archivos y carpetas, conservando su organización.\r\n",
    "\r\n",
    "En python podemos descomprimir estos archivos usando librerías estándar como `zlib` o `gzip`."
   ],
   "metadata": {}
  },
  {
   "cell_type": "code",
   "execution_count": 18,
   "source": [
    "from zipfile import ZipFile\r\n",
    "\r\n",
    "fzip = ZipFile(\"datos/archivos.zip\", \"r\")\r\n",
    "\r\n",
    "name_list = fzip.namelist()\r\n",
    "\r\n",
    "print(name_list)\r\n",
    "\r\n",
    "# fzip.extract(<path>)\r\n",
    "fzip.extractall(\"datos/output\")\r\n",
    "\r\n",
    "fzip.close()"
   ],
   "outputs": [
    {
     "output_type": "stream",
     "name": "stdout",
     "text": [
      "['catalogo.xml', 'numeros.txt', 'usuarios.txt']\n"
     ]
    }
   ],
   "metadata": {}
  },
  {
   "cell_type": "markdown",
   "source": [
    "## 4. Comprimir un archivo ZIP\r\n",
    "\r\n",
    "Para poder comprimir archivos ZIP es necesario dominar el manejo de las rutas del sistema operativo y poder caminar entre ellas.\r\n",
    "\r\n",
    "En python podemos comprimir archivos independientes y carpetas para poder automatizar el reespaldo de archivos ignorando aquellos que no sean relevantes."
   ],
   "metadata": {}
  },
  {
   "cell_type": "code",
   "execution_count": 34,
   "source": [
    "import os\r\n",
    "from zipfile import ZipFile\r\n",
    "\r\n",
    "def walk(path, targets=[]):\r\n",
    "    for root, dirnames, filenames in os.walk(path):\r\n",
    "        # for dirname in dirnames: # [foo]\r\n",
    "        #     dirpath = f\"{root}/{dirname}\" # \"datos/input/foo\"\r\n",
    "        #     walk(dirpath, targets=targets) # datos/input/foo\r\n",
    "        for filename in filenames: # [correos.txt]\r\n",
    "            filepath = f\"{root}/{filename}\" # \"datos/input/correos.txt\"\r\n",
    "            targets.append(os.path.normcase(filepath), filename)\r\n",
    "    return targets\r\n",
    "\r\n",
    "targets = walk(\"datos/input\")\r\n",
    "\r\n",
    "print(targets)\r\n",
    "\r\n",
    "fzip = ZipFile(\"datos/backup.zip\", \"w\")\r\n",
    "\r\n",
    "for filepath, filename in targets:\r\n",
    "    fzip.write(filepath, filepath.replace(os.path.normcase(\"datos/input\"), \"\")) # write(<source>, <destination>)\r\n",
    "\r\n",
    "fzip.close()"
   ],
   "outputs": [
    {
     "output_type": "stream",
     "name": "stdout",
     "text": [
      "[('datos\\\\input', 'datos\\\\input\\\\correos.txt', 'correos.txt'), ('datos\\\\input\\\\foo', 'datos\\\\input\\\\foo\\\\readme.md', 'readme.md'), ('datos\\\\input\\\\foo\\\\bar', 'datos\\\\input\\\\foo\\\\bar\\\\hello.txt', 'hello.txt')]\n"
     ]
    }
   ],
   "metadata": {}
  },
  {
   "cell_type": "markdown",
   "source": [
    "## 5. Extraer los correos de un archivo\r\n",
    "\r\n",
    "Los correos electrónicos tienen una estructura regular la cuál puede ser intrerpretada por expresiones regulares y por lo tanto es información que puede ser extraída de forma automática.\r\n",
    "\r\n",
    "En python podemos extraer información regular como correos, números de teléfono o cuentas bancarias, fechas, precios, nombres propios, etc. Esta información puede ser útil para generar reportes o crear bases de datos."
   ],
   "metadata": {}
  },
  {
   "cell_type": "code",
   "execution_count": 40,
   "source": [
    "import re\r\n",
    "\r\n",
    "pattern = r\"[a-z\\-\\.\\_]+\\@[a-z]+\\.[a-z]{2,3}(\\.[a-z]{2,3})?\" # A+ @ B+ . C{2,3} (. D{2,3})?\r\n",
    "\r\n",
    "f = open(\"datos/conversacion.txt\", \"r\")\r\n",
    "\r\n",
    "content = f.read()\r\n",
    "\r\n",
    "for match in re.finditer(pattern, content):\r\n",
    "    print(match.group(0))"
   ],
   "outputs": [
    {
     "output_type": "stream",
     "name": "stdout",
     "text": [
      "ana@gmail.com\n",
      "pepe@gmail.com\n",
      "karla@gmail.com\n",
      "mario@gmail.com\n",
      "berta@gmail.com\n"
     ]
    }
   ],
   "metadata": {}
  },
  {
   "cell_type": "markdown",
   "source": [
    "## 6. Consultar una base de datos MySQL\r\n",
    "\r\n",
    "Las bases de datos SQL son las más populares ya que mantienen la información de forma relacional y poseen un lenguaje de comandos para poder recuperar datos tabulares.\r\n",
    "\r\n",
    "En python podemos crear una conexión a la base de datos y lanzar consultas esperando los resultados."
   ],
   "metadata": {}
  },
  {
   "cell_type": "code",
   "execution_count": 10,
   "source": [
    "import mysql.connector as mysql\r\n",
    "\r\n",
    "conn = mysql.connect(host=\"localhost\", user=\"root\", password=\"password\", database=\"almacen\")\r\n",
    "\r\n",
    "print(\"Se ha establecido la conexión a MySQL\")\r\n",
    "\r\n",
    "cur = conn.cursor()\r\n",
    "\r\n",
    "cur.execute(\"SELECT nombre, descripcion FROM productos\")\r\n",
    "\r\n",
    "for record in cur:\r\n",
    "    print(record) # record -> tuple(<field>, ...)\r\n",
    "\r\n",
    "conn.close()"
   ],
   "outputs": [
    {
     "output_type": "stream",
     "name": "stdout",
     "text": [
      "Se ha establecido la conexión a MySQL\n",
      "('Pepsi', 'Refresco de cola')\n",
      "('Coca', 'Refresco de cola')\n",
      "('Chocoroll', 'Pan de chocolate')\n"
     ]
    }
   ],
   "metadata": {}
  },
  {
   "cell_type": "code",
   "execution_count": 9,
   "source": [
    "import mysql.connector as mysql\r\n",
    "\r\n",
    "conn = mysql.connect(host=\"localhost\", user=\"root\", password=\"password\", database=\"almacen\")\r\n",
    "\r\n",
    "print(\"Se ha establecido la conexión a MySQL\")\r\n",
    "\r\n",
    "cur = conn.cursor()\r\n",
    "\r\n",
    "nombre = input(\"Nombre: \")\r\n",
    "descripcion = input(\"Descripcion: \")\r\n",
    "imagen = input(\"Imagen: \")\r\n",
    "\r\n",
    "sql = \"INSERT INTO productos (nombre, descripcion, imagen) values (%s, %s, %s)\"\r\n",
    "\r\n",
    "data = (nombre, descripcion, imagen)\r\n",
    "\r\n",
    "cur.execute(sql, data)\r\n",
    "\r\n",
    "# INSERT, UPDATE, CREATE, DROP, ... necesitan hacer commit (enviar cambios)\r\n",
    "conn.commit()\r\n",
    "\r\n",
    "conn.close()"
   ],
   "outputs": [
    {
     "output_type": "stream",
     "name": "stdout",
     "text": [
      "Se ha establecido la conexión a MySQL\n"
     ]
    }
   ],
   "metadata": {}
  },
  {
   "cell_type": "markdown",
   "source": [
    "Referencias:\r\n",
    "* [MySQL con Python - W3Schools](https://www.w3schools.com/python/python_mysql_getstarted.asp)\r\n",
    "\r\n",
    "Comando | Sintaxis | Descripción\r\n",
    "--- | --- | ---\r\n",
    "`SELECT` | `SELECT <fields / *> FROM <table> ...` | Permite consultar los registros de una tabla\r\n",
    "`INSERT` | `INSERT INTO <table> (<field>, ...) VALUES (<value>, ...)` | Permite insertar un registro con valores. Usa `'<valor>'` si es de texto.\r\n",
    "`UPDATE` | `UPDATE <table> SET <field>=<value> ... WHERE <field>=<value>` | Permite actualizar el valor de un campo de todos los registros filtrados para una tabla\r\n",
    "`DELETE` | `DELETE FROM <table> WHERE <field>=<value>` | Permite eliminar los registros filtrados para una tabla"
   ],
   "metadata": {}
  },
  {
   "cell_type": "markdown",
   "source": [
    "## 7. Consultar una base de datos MongoDB\r\n",
    "\r\n",
    "Las bases de datos No-SQL se están popularizando por su facilidad de retener datos e información atómica no relacional. Esto permite un desarrollo acelarado en las empresas y se están consumiendo mucho. Las bases de datos No-SQL consisten en retener documentos similares a JSON con campos y valores (como un diccionario en python) y a través de filtros se especifican las búsquedas.\r\n",
    "\r\n",
    "En python podemos crear una conexión a la base de datos y lanzar consultas esperando los resultados."
   ],
   "metadata": {}
  },
  {
   "cell_type": "code",
   "execution_count": null,
   "source": [
    "! python -m pip install pymongo"
   ],
   "outputs": [],
   "metadata": {}
  },
  {
   "cell_type": "code",
   "execution_count": 26,
   "source": [
    "import pymongo as mongo\r\n",
    "\r\n",
    "conn = mongo.MongoClient(\"mongodb://localhost/tienda\")\r\n",
    "\r\n",
    "db = conn[\"tienda\"]\r\n",
    "\r\n",
    "products_coll = db[\"products\"]\r\n",
    "\r\n",
    "query = { \"brand\": \"nike\", \"price\": { \"$gt\": 100, \"$lt\": 120 } }\r\n",
    "\r\n",
    "projection = { \"_id\": 0, \"name\": 1, \"price\": 1, \"brand\": 1, \"existances\": 1 }\r\n",
    "\r\n",
    "products = products_coll.find(query, projection)\r\n",
    "\r\n",
    "s = 0\r\n",
    "\r\n",
    "for product in products:\r\n",
    "    s += product[\"price\"]\r\n",
    "    print(product)\r\n",
    "\r\n",
    "print(\"Total:\", s)\r\n",
    "\r\n",
    "conn.close()"
   ],
   "outputs": [
    {
     "output_type": "stream",
     "name": "stdout",
     "text": [
      "{'name': 'Gorra nike 13', 'price': 101.20414063424556, 'existances': 55.0, 'brand': 'nike'}\n",
      "{'name': 'Playera nike 13', 'price': 101.29263310473844, 'existances': 3.0, 'brand': 'nike'}\n",
      "{'name': 'Tennis nike 10', 'price': 104.66898812846708, 'existances': 69.0, 'brand': 'nike'}\n",
      "{'name': 'Playera nike 17', 'price': 106.30266260819842, 'existances': 5.0, 'brand': 'nike'}\n",
      "{'name': 'Gorra nike 7', 'price': 107.91749607516093, 'existances': 92.0, 'brand': 'nike'}\n",
      "{'name': 'Tennis nike 19', 'price': 108.30191456107978, 'existances': 91.0, 'brand': 'nike'}\n",
      "{'name': 'Tennis nike 1', 'price': 108.4156904132761, 'existances': 6.0, 'brand': 'nike'}\n",
      "{'name': 'Tennis nike 4', 'price': 110.22573990544822, 'existances': 52.0, 'brand': 'nike'}\n",
      "{'name': 'Playera nike 14', 'price': 113.06359663749473, 'existances': 93.0, 'brand': 'nike'}\n",
      "{'name': 'Gorra nike 4', 'price': 116.80910015451605, 'existances': 41.0, 'brand': 'nike'}\n",
      "{'name': 'Gorra nike 11', 'price': 117.97422954604585, 'existances': 77.0, 'brand': 'nike'}\n",
      "{'name': 'Tennis nike 6', 'price': 118.2090785842141, 'existances': 38.0, 'brand': 'nike'}\n",
      "{'name': 'Playera nike 16', 'price': 118.5624581982434, 'existances': 72.0, 'brand': 'nike'}\n",
      "Total: 1432.9477285511284\n"
     ]
    }
   ],
   "metadata": {}
  },
  {
   "cell_type": "code",
   "execution_count": 27,
   "source": [
    "import pymongo as mongo\r\n",
    "\r\n",
    "conn = mongo.MongoClient(\"mongodb://localhost/tienda\")\r\n",
    "\r\n",
    "db = conn[\"tienda\"]\r\n",
    "\r\n",
    "products_coll = db[\"products\"]\r\n",
    "\r\n",
    "document = {\r\n",
    "    \"name\": input(\"Nombre: \"),\r\n",
    "    \"description\": input(\"Descripción: \"),\r\n",
    "    \"price\": float(input(\"Precio: \")),\r\n",
    "    \"price_unit\": float(input(\"Precio Unitario: \")),\r\n",
    "    \"existances\": int(input(\"Existancias: \"))\r\n",
    "}\r\n",
    "\r\n",
    "result = products_coll.insert_one(document)\r\n",
    "\r\n",
    "print(result)\r\n",
    "\r\n",
    "conn.close()"
   ],
   "outputs": [
    {
     "output_type": "stream",
     "name": "stdout",
     "text": [
      "<pymongo.results.InsertOneResult object at 0x000002249DEC6040>\n"
     ]
    }
   ],
   "metadata": {}
  },
  {
   "cell_type": "markdown",
   "source": [
    "Referencias:\r\n",
    "\r\n",
    "* [Mongo DB con Python - W3Schools](https://www.w3schools.com/python/python_mongodb_find.asp)"
   ],
   "metadata": {}
  },
  {
   "cell_type": "markdown",
   "source": [
    "## 8. Crear una gráfica de Serie\r\n",
    "\r\n",
    "Las gráficas de Serie muestran datos correlacionados en el eje X y Y, por ejemplo, una altura sobre una distancia, el valor de un producto en el tiempo, la temperatura de un sensor contra la humedad, etc.\r\n",
    "\r\n",
    "En python podemos usar la librería `matplotlib` y `seaborn` para visualizar este tipo de gráficas a partir de listas simples o arreglos de la librería `numpy`."
   ],
   "metadata": {}
  },
  {
   "cell_type": "code",
   "execution_count": null,
   "source": [
    "! python -m pip install matplotlib"
   ],
   "outputs": [],
   "metadata": {}
  },
  {
   "cell_type": "code",
   "execution_count": null,
   "source": [
    "! python -m pip install seaborn"
   ],
   "outputs": [],
   "metadata": {}
  },
  {
   "cell_type": "code",
   "execution_count": 29,
   "source": [
    "import matplotlib.pyplot as plt\r\n",
    "\r\n",
    "x = [1, 2, 3, 4, 5]\r\n",
    "y = [7, 9, 3, 5, 6]\r\n",
    "\r\n",
    "plt.plot(x, y)\r\n",
    "\r\n",
    "plt.show()"
   ],
   "outputs": [
    {
     "output_type": "display_data",
     "data": {
      "image/png": "[encoded data removed]",
      "text/plain": [
       "<Figure size 432x288 with 1 Axes>"
      ]
     },
     "metadata": {
      "needs_background": "light"
     }
    }
   ],
   "metadata": {}
  },
  {
   "cell_type": "code",
   "execution_count": 30,
   "source": [
    "import matplotlib.pyplot as plt\r\n",
    "\r\n",
    "x = [1, 2, 3, 4, 5]\r\n",
    "y = [7, 9, 3, 5, 6]\r\n",
    "\r\n",
    "plt.plot(x, y, \"red\")\r\n",
    "\r\n",
    "plt.show()"
   ],
   "outputs": [
    {
     "output_type": "display_data",
     "data": {
      "image/png": "[encoded data removed]",
      "text/plain": [
       "<Figure size 432x288 with 1 Axes>"
      ]
     },
     "metadata": {
      "needs_background": "light"
     }
    }
   ],
   "metadata": {}
  },
  {
   "cell_type": "code",
   "execution_count": 31,
   "source": [
    "import matplotlib.pyplot as plt\r\n",
    "\r\n",
    "x = [1, 2, 3, 4, 5]\r\n",
    "y = [7, 9, 3, 5, 6]\r\n",
    "\r\n",
    "plt.plot(x, y, \"r+\")\r\n",
    "\r\n",
    "plt.show()"
   ],
   "outputs": [
    {
     "output_type": "display_data",
     "data": {
      "image/png": "[encoded data removed]",
      "text/plain": [
       "<Figure size 432x288 with 1 Axes>"
      ]
     },
     "metadata": {
      "needs_background": "light"
     }
    }
   ],
   "metadata": {}
  },
  {
   "cell_type": "code",
   "execution_count": 34,
   "source": [
    "import matplotlib.pyplot as plt\r\n",
    "\r\n",
    "x = [1, 2, 3, 4, 5]\r\n",
    "y = [7, 9, 3, 5, 6]\r\n",
    "\r\n",
    "plt.plot(x, y, \"ro-\")\r\n",
    "\r\n",
    "plt.show()"
   ],
   "outputs": [
    {
     "output_type": "display_data",
     "data": {
      "image/png": "[encoded data removed]",
      "text/plain": [
       "<Figure size 432x288 with 1 Axes>"
      ]
     },
     "metadata": {
      "needs_background": "light"
     }
    }
   ],
   "metadata": {}
  },
  {
   "cell_type": "code",
   "execution_count": 35,
   "source": [
    "import matplotlib.pyplot as plt\r\n",
    "\r\n",
    "x = [1, 2, 3, 4, 5]\r\n",
    "y = [7, 9, 3, 5, 6]\r\n",
    "\r\n",
    "plt.plot(x, y, \"bo--\")\r\n",
    "\r\n",
    "plt.show()"
   ],
   "outputs": [
    {
     "output_type": "display_data",
     "data": {
      "image/png": "[encoded data removed]",
      "text/plain": [
       "<Figure size 432x288 with 1 Axes>"
      ]
     },
     "metadata": {
      "needs_background": "light"
     }
    }
   ],
   "metadata": {}
  },
  {
   "cell_type": "code",
   "execution_count": 36,
   "source": [
    "import matplotlib.pyplot as plt\r\n",
    "\r\n",
    "x1 = [1, 2, 3, 4, 5]\r\n",
    "y1 = [7, 9, 3, 5, 6]\r\n",
    "\r\n",
    "x2 = [1.5, 2.3, 3.6, 4.1, 5.2]\r\n",
    "y2 = [4, 7, 2, 9, 4]\r\n",
    "\r\n",
    "plt.plot(x1, y1, \"bo--\")\r\n",
    "plt.plot(x2, y2, \"ro-\")\r\n",
    "\r\n",
    "plt.show()"
   ],
   "outputs": [
    {
     "output_type": "display_data",
     "data": {
      "image/png": "[encoded data removed]",
      "text/plain": [
       "<Figure size 432x288 with 1 Axes>"
      ]
     },
     "metadata": {
      "needs_background": "light"
     }
    }
   ],
   "metadata": {}
  },
  {
   "cell_type": "code",
   "execution_count": 40,
   "source": [
    "import matplotlib.pyplot as plt\r\n",
    "\r\n",
    "x1 = [1, 2, 3, 4, 5]\r\n",
    "y1 = [7, 9, 3, 5, 6]\r\n",
    "\r\n",
    "x2 = [1.5, 2.3, 3.6, 4.1, 5.2]\r\n",
    "y2 = [4, 7, 2, 9, 4]\r\n",
    "\r\n",
    "plt.plot(x1, y1, \"bo--\")\r\n",
    "plt.plot(x2, y2, \"ro-\")\r\n",
    "\r\n",
    "plt.savefig(\"datos/fig_1.png\")"
   ],
   "outputs": [
    {
     "output_type": "display_data",
     "data": {
      "image/png": "[encoded data removed]",
      "text/plain": [
       "<Figure size 432x288 with 1 Axes>"
      ]
     },
     "metadata": {
      "needs_background": "light"
     }
    }
   ],
   "metadata": {}
  },
  {
   "cell_type": "markdown",
   "source": [
    "Referencias:\r\n",
    "\r\n",
    "* [Matplotlib con Python - W3Schools](https://www.w3schools.com/python/matplotlib_intro.asp)\r\n",
    "* [The Python Graph Gallery](https://www.python-graph-gallery.com)\r\n",
    "* [Matplotlib Examples](https://matplotlib.org/stable/gallery/index.html)"
   ],
   "metadata": {}
  },
  {
   "cell_type": "markdown",
   "source": [
    "## 9. Cargar un dataframe de datos desde un CSV\r\n",
    "\r\n",
    "Un `DataFrame` es una estructura similar a una tabla y consiste en una lista de filas que poseen columnas o un diccionario de columnas que contienen filas. Entonces podemos acceder a datos tabulares como los que se definen en un archivo CSV (texto plano separado por comas).\r\n",
    "\r\n",
    "En python podemos usar la librería `pandas` y el método `read_csv(...)` para obtener la tabla de datos."
   ],
   "metadata": {}
  },
  {
   "cell_type": "code",
   "execution_count": null,
   "source": [
    "! python -m pip install pandas"
   ],
   "outputs": [],
   "metadata": {}
  },
  {
   "cell_type": "code",
   "execution_count": 43,
   "source": [
    "import pandas as pd\r\n",
    "\r\n",
    "# df - DataFrame (columnas, filas) / (columnas, registros)\r\n",
    "df = pd.read_csv(\"datos/calificaciones.csv\")\r\n",
    "\r\n",
    "print(df)"
   ],
   "outputs": [
    {
     "output_type": "stream",
     "name": "stdout",
     "text": [
      "  NOMBRE  CALIFICACION      MATERIA\n",
      "0    Ana          10.0  Matemáticas\n",
      "1   Paco           6.5       Física\n",
      "2  Pedro           7.0  Matemáticas\n",
      "3  Karen           9.0      Español\n",
      "4   Faby           8.0  Matemáticas\n"
     ]
    }
   ],
   "metadata": {}
  },
  {
   "cell_type": "code",
   "execution_count": 44,
   "source": [
    "df.describe()"
   ],
   "outputs": [
    {
     "output_type": "execute_result",
     "data": {
      "text/html": [
       "<div>\n",
       "<style scoped>\n",
       "    .dataframe tbody tr th:only-of-type {\n",
       "        vertical-align: middle;\n",
       "    }\n",
       "\n",
       "    .dataframe tbody tr th {\n",
       "        vertical-align: top;\n",
       "    }\n",
       "\n",
       "    .dataframe thead th {\n",
       "        text-align: right;\n",
       "    }\n",
       "</style>\n",
       "<table border=\"1\" class=\"dataframe\">\n",
       "  <thead>\n",
       "    <tr style=\"text-align: right;\">\n",
       "      <th></th>\n",
       "      <th>CALIFICACION</th>\n",
       "    </tr>\n",
       "  </thead>\n",
       "  <tbody>\n",
       "    <tr>\n",
       "      <th>count</th>\n",
       "      <td>5.000000</td>\n",
       "    </tr>\n",
       "    <tr>\n",
       "      <th>mean</th>\n",
       "      <td>8.100000</td>\n",
       "    </tr>\n",
       "    <tr>\n",
       "      <th>std</th>\n",
       "      <td>1.431782</td>\n",
       "    </tr>\n",
       "    <tr>\n",
       "      <th>min</th>\n",
       "      <td>6.500000</td>\n",
       "    </tr>\n",
       "    <tr>\n",
       "      <th>25%</th>\n",
       "      <td>7.000000</td>\n",
       "    </tr>\n",
       "    <tr>\n",
       "      <th>50%</th>\n",
       "      <td>8.000000</td>\n",
       "    </tr>\n",
       "    <tr>\n",
       "      <th>75%</th>\n",
       "      <td>9.000000</td>\n",
       "    </tr>\n",
       "    <tr>\n",
       "      <th>max</th>\n",
       "      <td>10.000000</td>\n",
       "    </tr>\n",
       "  </tbody>\n",
       "</table>\n",
       "</div>"
      ],
      "text/plain": [
       "       CALIFICACION\n",
       "count      5.000000\n",
       "mean       8.100000\n",
       "std        1.431782\n",
       "min        6.500000\n",
       "25%        7.000000\n",
       "50%        8.000000\n",
       "75%        9.000000\n",
       "max       10.000000"
      ]
     },
     "metadata": {},
     "execution_count": 44
    }
   ],
   "metadata": {}
  },
  {
   "cell_type": "code",
   "execution_count": 45,
   "source": [
    "df.info()"
   ],
   "outputs": [
    {
     "output_type": "stream",
     "name": "stdout",
     "text": [
      "<class 'pandas.core.frame.DataFrame'>\n",
      "RangeIndex: 5 entries, 0 to 4\n",
      "Data columns (total 3 columns):\n",
      " #   Column        Non-Null Count  Dtype  \n",
      "---  ------        --------------  -----  \n",
      " 0   NOMBRE        5 non-null      object \n",
      " 1   CALIFICACION  5 non-null      float64\n",
      " 2   MATERIA       5 non-null      object \n",
      "dtypes: float64(1), object(2)\n",
      "memory usage: 248.0+ bytes\n"
     ]
    }
   ],
   "metadata": {}
  },
  {
   "cell_type": "code",
   "execution_count": 46,
   "source": [
    "calificaciones = df[\"CALIFICACION\"]\r\n",
    "\r\n",
    "print(calificaciones) # Arreglo de numpy"
   ],
   "outputs": [
    {
     "output_type": "stream",
     "name": "stdout",
     "text": [
      "0    10.0\n",
      "1     6.5\n",
      "2     7.0\n",
      "3     9.0\n",
      "4     8.0\n",
      "Name: CALIFICACION, dtype: float64\n"
     ]
    }
   ],
   "metadata": {}
  },
  {
   "cell_type": "code",
   "execution_count": 48,
   "source": [
    "sum(calificaciones) / len(calificaciones)"
   ],
   "outputs": [
    {
     "output_type": "execute_result",
     "data": {
      "text/plain": [
       "8.1"
      ]
     },
     "metadata": {},
     "execution_count": 48
    }
   ],
   "metadata": {}
  },
  {
   "cell_type": "code",
   "execution_count": 50,
   "source": [
    "calif_100 = calificaciones * 10 - 1\r\n",
    "\r\n",
    "calif_100"
   ],
   "outputs": [
    {
     "output_type": "execute_result",
     "data": {
      "text/plain": [
       "0    99.0\n",
       "1    64.0\n",
       "2    69.0\n",
       "3    89.0\n",
       "4    79.0\n",
       "Name: CALIFICACION, dtype: float64"
      ]
     },
     "metadata": {},
     "execution_count": 50
    }
   ],
   "metadata": {}
  },
  {
   "cell_type": "code",
   "execution_count": 51,
   "source": [
    "df"
   ],
   "outputs": [
    {
     "output_type": "execute_result",
     "data": {
      "text/html": [
       "<div>\n",
       "<style scoped>\n",
       "    .dataframe tbody tr th:only-of-type {\n",
       "        vertical-align: middle;\n",
       "    }\n",
       "\n",
       "    .dataframe tbody tr th {\n",
       "        vertical-align: top;\n",
       "    }\n",
       "\n",
       "    .dataframe thead th {\n",
       "        text-align: right;\n",
       "    }\n",
       "</style>\n",
       "<table border=\"1\" class=\"dataframe\">\n",
       "  <thead>\n",
       "    <tr style=\"text-align: right;\">\n",
       "      <th></th>\n",
       "      <th>NOMBRE</th>\n",
       "      <th>CALIFICACION</th>\n",
       "      <th>MATERIA</th>\n",
       "    </tr>\n",
       "  </thead>\n",
       "  <tbody>\n",
       "    <tr>\n",
       "      <th>0</th>\n",
       "      <td>Ana</td>\n",
       "      <td>10.0</td>\n",
       "      <td>Matemáticas</td>\n",
       "    </tr>\n",
       "    <tr>\n",
       "      <th>1</th>\n",
       "      <td>Paco</td>\n",
       "      <td>6.5</td>\n",
       "      <td>Física</td>\n",
       "    </tr>\n",
       "    <tr>\n",
       "      <th>2</th>\n",
       "      <td>Pedro</td>\n",
       "      <td>7.0</td>\n",
       "      <td>Matemáticas</td>\n",
       "    </tr>\n",
       "    <tr>\n",
       "      <th>3</th>\n",
       "      <td>Karen</td>\n",
       "      <td>9.0</td>\n",
       "      <td>Español</td>\n",
       "    </tr>\n",
       "    <tr>\n",
       "      <th>4</th>\n",
       "      <td>Faby</td>\n",
       "      <td>8.0</td>\n",
       "      <td>Matemáticas</td>\n",
       "    </tr>\n",
       "  </tbody>\n",
       "</table>\n",
       "</div>"
      ],
      "text/plain": [
       "  NOMBRE  CALIFICACION      MATERIA\n",
       "0    Ana          10.0  Matemáticas\n",
       "1   Paco           6.5       Física\n",
       "2  Pedro           7.0  Matemáticas\n",
       "3  Karen           9.0      Español\n",
       "4   Faby           8.0  Matemáticas"
      ]
     },
     "metadata": {},
     "execution_count": 51
    }
   ],
   "metadata": {}
  },
  {
   "cell_type": "code",
   "execution_count": 52,
   "source": [
    "df[\"CALIFICACION_100\"] = calif_100\r\n",
    "\r\n",
    "df"
   ],
   "outputs": [
    {
     "output_type": "execute_result",
     "data": {
      "text/html": [
       "<div>\n",
       "<style scoped>\n",
       "    .dataframe tbody tr th:only-of-type {\n",
       "        vertical-align: middle;\n",
       "    }\n",
       "\n",
       "    .dataframe tbody tr th {\n",
       "        vertical-align: top;\n",
       "    }\n",
       "\n",
       "    .dataframe thead th {\n",
       "        text-align: right;\n",
       "    }\n",
       "</style>\n",
       "<table border=\"1\" class=\"dataframe\">\n",
       "  <thead>\n",
       "    <tr style=\"text-align: right;\">\n",
       "      <th></th>\n",
       "      <th>NOMBRE</th>\n",
       "      <th>CALIFICACION</th>\n",
       "      <th>MATERIA</th>\n",
       "      <th>CALIFICACION_100</th>\n",
       "    </tr>\n",
       "  </thead>\n",
       "  <tbody>\n",
       "    <tr>\n",
       "      <th>0</th>\n",
       "      <td>Ana</td>\n",
       "      <td>10.0</td>\n",
       "      <td>Matemáticas</td>\n",
       "      <td>99.0</td>\n",
       "    </tr>\n",
       "    <tr>\n",
       "      <th>1</th>\n",
       "      <td>Paco</td>\n",
       "      <td>6.5</td>\n",
       "      <td>Física</td>\n",
       "      <td>64.0</td>\n",
       "    </tr>\n",
       "    <tr>\n",
       "      <th>2</th>\n",
       "      <td>Pedro</td>\n",
       "      <td>7.0</td>\n",
       "      <td>Matemáticas</td>\n",
       "      <td>69.0</td>\n",
       "    </tr>\n",
       "    <tr>\n",
       "      <th>3</th>\n",
       "      <td>Karen</td>\n",
       "      <td>9.0</td>\n",
       "      <td>Español</td>\n",
       "      <td>89.0</td>\n",
       "    </tr>\n",
       "    <tr>\n",
       "      <th>4</th>\n",
       "      <td>Faby</td>\n",
       "      <td>8.0</td>\n",
       "      <td>Matemáticas</td>\n",
       "      <td>79.0</td>\n",
       "    </tr>\n",
       "  </tbody>\n",
       "</table>\n",
       "</div>"
      ],
      "text/plain": [
       "  NOMBRE  CALIFICACION      MATERIA  CALIFICACION_100\n",
       "0    Ana          10.0  Matemáticas              99.0\n",
       "1   Paco           6.5       Física              64.0\n",
       "2  Pedro           7.0  Matemáticas              69.0\n",
       "3  Karen           9.0      Español              89.0\n",
       "4   Faby           8.0  Matemáticas              79.0"
      ]
     },
     "metadata": {},
     "execution_count": 52
    }
   ],
   "metadata": {}
  },
  {
   "cell_type": "code",
   "execution_count": 54,
   "source": [
    "df.to_csv(\"datos/calificaciones_nuevas.csv\", index=None)"
   ],
   "outputs": [],
   "metadata": {}
  },
  {
   "cell_type": "markdown",
   "source": [
    "Referencias:\r\n",
    "\r\n",
    "* [Pandas con Python - W3Schools](https://www.w3schools.com/python/pandas/default.asp)\r\n",
    "* [Estructuras de Datos con Pandas](https://pandas.pydata.org/docs/user_guide/dsintro.html#dsintro)\r\n",
    "* [10 minutos con Pandas](https://pandas.pydata.org/docs/user_guide/10min.html)"
   ],
   "metadata": {}
  },
  {
   "cell_type": "markdown",
   "source": [
    "## 10. Crear un archivo PDF con texto e imágenes\r\n",
    "\r\n",
    "Los archivos PDF son los más utilizados dentro de las empresas para emitir reportes. Estos tienen la ventaja de ser estáticos y dedicados a la lectura de documentos.\r\n",
    "\r\n",
    "En python podemos crear documentos PDF para generar reportes automatizados como tablas de datos, gráficas y demás información generada en los proyectos."
   ],
   "metadata": {}
  },
  {
   "cell_type": "code",
   "execution_count": null,
   "source": [
    "! python -m pip install fpdf"
   ],
   "outputs": [],
   "metadata": {}
  },
  {
   "cell_type": "code",
   "execution_count": 59,
   "source": [
    "from fpdf import FPDF\r\n",
    "\r\n",
    "pdf = FPDF(\"P\", \"pt\", \"A4\")\r\n",
    "\r\n",
    "pdf.add_page()\r\n",
    "\r\n",
    "pdf.set_font(\"Arial\", \"B\", 24)\r\n",
    "\r\n",
    "pdf.cell(0, 4, \"Reporte de Utilidades\")\r\n",
    "\r\n",
    "pdf.ln()\r\n",
    "pdf.ln()\r\n",
    "pdf.ln()\r\n",
    "\r\n",
    "pdf.image(\"datos/fig_1.png\", x=100, w=400)\r\n",
    "\r\n",
    "pdf.output(\"datos/reporte.pdf\")"
   ],
   "outputs": [
    {
     "output_type": "execute_result",
     "data": {
      "text/plain": [
       "''"
      ]
     },
     "metadata": {},
     "execution_count": 59
    }
   ],
   "metadata": {}
  },
  {
   "cell_type": "markdown",
   "source": [
    "## 11. Extraer los datos de una hoja de Excel\r\n",
    "\r\n",
    "Los documentos de excel son llamados también Libros y se componen de hojas. Una hoja de excel es similar a un archivo CSV, con la diferencia que las columnas están nombradas de la `A` a la `ZZ` y las filas también.\r\n",
    "\r\n",
    "En python podemos acceder a los datos de una hoja de excel incluso en una región específica, por ejemplo, de tal fila y tal columna."
   ],
   "metadata": {}
  },
  {
   "cell_type": "code",
   "execution_count": 10,
   "source": [
    "import pandas as pd\r\n",
    "import openpyxl\r\n",
    "\r\n",
    "df_hoja_1_gastos = pd.read_excel(\"datos/Libro.xlsx\", sheet_name=\"Hoja1\", engine=\"openpyxl\", usecols=\"B:D\", skiprows=2)\r\n",
    "\r\n",
    "df_hoja_1_gastos"
   ],
   "outputs": [
    {
     "output_type": "execute_result",
     "data": {
      "text/html": [
       "<div>\n",
       "<style scoped>\n",
       "    .dataframe tbody tr th:only-of-type {\n",
       "        vertical-align: middle;\n",
       "    }\n",
       "\n",
       "    .dataframe tbody tr th {\n",
       "        vertical-align: top;\n",
       "    }\n",
       "\n",
       "    .dataframe thead th {\n",
       "        text-align: right;\n",
       "    }\n",
       "</style>\n",
       "<table border=\"1\" class=\"dataframe\">\n",
       "  <thead>\n",
       "    <tr style=\"text-align: right;\">\n",
       "      <th></th>\n",
       "      <th>Etiqueta</th>\n",
       "      <th>Monto</th>\n",
       "      <th>Fecha</th>\n",
       "    </tr>\n",
       "  </thead>\n",
       "  <tbody>\n",
       "    <tr>\n",
       "      <th>0</th>\n",
       "      <td>PAPAS</td>\n",
       "      <td>13</td>\n",
       "      <td>2021-06-12</td>\n",
       "    </tr>\n",
       "    <tr>\n",
       "      <th>1</th>\n",
       "      <td>REFRESCO</td>\n",
       "      <td>15</td>\n",
       "      <td>2021-06-13</td>\n",
       "    </tr>\n",
       "    <tr>\n",
       "      <th>2</th>\n",
       "      <td>GALLETAS</td>\n",
       "      <td>14</td>\n",
       "      <td>2021-06-13</td>\n",
       "    </tr>\n",
       "    <tr>\n",
       "      <th>3</th>\n",
       "      <td>PAPAS</td>\n",
       "      <td>80</td>\n",
       "      <td>2021-06-19</td>\n",
       "    </tr>\n",
       "  </tbody>\n",
       "</table>\n",
       "</div>"
      ],
      "text/plain": [
       "   Etiqueta  Monto      Fecha\n",
       "0     PAPAS     13 2021-06-12\n",
       "1  REFRESCO     15 2021-06-13\n",
       "2  GALLETAS     14 2021-06-13\n",
       "3     PAPAS     80 2021-06-19"
      ]
     },
     "metadata": {},
     "execution_count": 10
    }
   ],
   "metadata": {}
  },
  {
   "cell_type": "code",
   "execution_count": 9,
   "source": [
    "df_hoja_1_compras = pd.read_excel(\"datos/Libro.xlsx\", sheet_name=\"Hoja1\", engine=\"openpyxl\", usecols=\"K:M\", skiprows=2)\r\n",
    "\r\n",
    "df_hoja_1_compras"
   ],
   "outputs": [
    {
     "output_type": "execute_result",
     "data": {
      "text/html": [
       "<div>\n",
       "<style scoped>\n",
       "    .dataframe tbody tr th:only-of-type {\n",
       "        vertical-align: middle;\n",
       "    }\n",
       "\n",
       "    .dataframe tbody tr th {\n",
       "        vertical-align: top;\n",
       "    }\n",
       "\n",
       "    .dataframe thead th {\n",
       "        text-align: right;\n",
       "    }\n",
       "</style>\n",
       "<table border=\"1\" class=\"dataframe\">\n",
       "  <thead>\n",
       "    <tr style=\"text-align: right;\">\n",
       "      <th></th>\n",
       "      <th>Etiqueta.1</th>\n",
       "      <th>Monto.1</th>\n",
       "      <th>Fecha.1</th>\n",
       "    </tr>\n",
       "  </thead>\n",
       "  <tbody>\n",
       "    <tr>\n",
       "      <th>0</th>\n",
       "      <td>GANSITO</td>\n",
       "      <td>18.0</td>\n",
       "      <td>2021-07-17</td>\n",
       "    </tr>\n",
       "    <tr>\n",
       "      <th>1</th>\n",
       "      <td>COCO</td>\n",
       "      <td>23.0</td>\n",
       "      <td>2021-07-18</td>\n",
       "    </tr>\n",
       "    <tr>\n",
       "      <th>2</th>\n",
       "      <td>NaN</td>\n",
       "      <td>NaN</td>\n",
       "      <td>NaT</td>\n",
       "    </tr>\n",
       "    <tr>\n",
       "      <th>3</th>\n",
       "      <td>NaN</td>\n",
       "      <td>NaN</td>\n",
       "      <td>NaT</td>\n",
       "    </tr>\n",
       "  </tbody>\n",
       "</table>\n",
       "</div>"
      ],
      "text/plain": [
       "  Etiqueta.1  Monto.1    Fecha.1\n",
       "0    GANSITO     18.0 2021-07-17\n",
       "1       COCO     23.0 2021-07-18\n",
       "2        NaN      NaN        NaT\n",
       "3        NaN      NaN        NaT"
      ]
     },
     "metadata": {},
     "execution_count": 9
    }
   ],
   "metadata": {}
  },
  {
   "cell_type": "code",
   "execution_count": 16,
   "source": [
    "df_hoja_2_etiquetas = pd.read_excel(\"datos/Libro.xlsx\", sheet_name=\"Hoja2\", engine=\"openpyxl\", usecols=\"A:D\", skiprows=0)\r\n",
    "\r\n",
    "df_hoja_2_etiquetas"
   ],
   "outputs": [
    {
     "output_type": "execute_result",
     "data": {
      "text/html": [
       "<div>\n",
       "<style scoped>\n",
       "    .dataframe tbody tr th:only-of-type {\n",
       "        vertical-align: middle;\n",
       "    }\n",
       "\n",
       "    .dataframe tbody tr th {\n",
       "        vertical-align: top;\n",
       "    }\n",
       "\n",
       "    .dataframe thead th {\n",
       "        text-align: right;\n",
       "    }\n",
       "</style>\n",
       "<table border=\"1\" class=\"dataframe\">\n",
       "  <thead>\n",
       "    <tr style=\"text-align: right;\">\n",
       "      <th></th>\n",
       "      <th>Etiqueta</th>\n",
       "      <th>Descripcion</th>\n",
       "      <th>Cantidad</th>\n",
       "      <th>Total</th>\n",
       "    </tr>\n",
       "  </thead>\n",
       "  <tbody>\n",
       "    <tr>\n",
       "      <th>0</th>\n",
       "      <td>PAPAS</td>\n",
       "      <td>Todo lo que son fritas</td>\n",
       "      <td>NaN</td>\n",
       "      <td>NaN</td>\n",
       "    </tr>\n",
       "    <tr>\n",
       "      <th>1</th>\n",
       "      <td>REFRESCO</td>\n",
       "      <td>Todas las bebidas con gas</td>\n",
       "      <td>NaN</td>\n",
       "      <td>NaN</td>\n",
       "    </tr>\n",
       "  </tbody>\n",
       "</table>\n",
       "</div>"
      ],
      "text/plain": [
       "   Etiqueta                Descripcion  Cantidad  Total\n",
       "0     PAPAS     Todo lo que son fritas       NaN    NaN\n",
       "1  REFRESCO  Todas las bebidas con gas       NaN    NaN"
      ]
     },
     "metadata": {},
     "execution_count": 16
    }
   ],
   "metadata": {}
  },
  {
   "cell_type": "code",
   "execution_count": 25,
   "source": [
    "for etiqueta in df_hoja_2_etiquetas[\"Etiqueta\"]:\r\n",
    "    gastos = df_hoja_1_gastos.query(f\"Etiqueta == '{etiqueta}'\")\r\n",
    "    cantidad = len(gastos)\r\n",
    "    total = sum(gastos[\"Monto\"])\r\n",
    "    print(etiqueta, cantidad, total)\r\n",
    "    index_etiqueta = list(df_hoja_2_etiquetas[\"Etiqueta\"]).index(etiqueta)\r\n",
    "    df_hoja_2_etiquetas.at[index_etiqueta, \"Cantidad\"] = cantidad\r\n",
    "    df_hoja_2_etiquetas.at[index_etiqueta, \"Total\"] = total\r\n",
    "    \r\n",
    "df_hoja_2_etiquetas"
   ],
   "outputs": [
    {
     "output_type": "stream",
     "name": "stdout",
     "text": [
      "PAPAS 2 93\n",
      "REFRESCO 1 15\n"
     ]
    },
    {
     "output_type": "execute_result",
     "data": {
      "text/html": [
       "<div>\n",
       "<style scoped>\n",
       "    .dataframe tbody tr th:only-of-type {\n",
       "        vertical-align: middle;\n",
       "    }\n",
       "\n",
       "    .dataframe tbody tr th {\n",
       "        vertical-align: top;\n",
       "    }\n",
       "\n",
       "    .dataframe thead th {\n",
       "        text-align: right;\n",
       "    }\n",
       "</style>\n",
       "<table border=\"1\" class=\"dataframe\">\n",
       "  <thead>\n",
       "    <tr style=\"text-align: right;\">\n",
       "      <th></th>\n",
       "      <th>Etiqueta</th>\n",
       "      <th>Descripcion</th>\n",
       "      <th>Cantidad</th>\n",
       "      <th>Total</th>\n",
       "    </tr>\n",
       "  </thead>\n",
       "  <tbody>\n",
       "    <tr>\n",
       "      <th>0</th>\n",
       "      <td>PAPAS</td>\n",
       "      <td>Todo lo que son fritas</td>\n",
       "      <td>2.0</td>\n",
       "      <td>93.0</td>\n",
       "    </tr>\n",
       "    <tr>\n",
       "      <th>1</th>\n",
       "      <td>REFRESCO</td>\n",
       "      <td>Todas las bebidas con gas</td>\n",
       "      <td>1.0</td>\n",
       "      <td>15.0</td>\n",
       "    </tr>\n",
       "  </tbody>\n",
       "</table>\n",
       "</div>"
      ],
      "text/plain": [
       "   Etiqueta                Descripcion  Cantidad  Total\n",
       "0     PAPAS     Todo lo que son fritas       2.0   93.0\n",
       "1  REFRESCO  Todas las bebidas con gas       1.0   15.0"
      ]
     },
     "metadata": {},
     "execution_count": 25
    }
   ],
   "metadata": {}
  },
  {
   "cell_type": "markdown",
   "source": [
    "## 12. Escribir los datos en una hoja de Excel\r\n",
    "\r\n",
    "En python podemos escribir de vuelta sobre una hoja, para actualizar o agregar nuevos valores."
   ],
   "metadata": {}
  },
  {
   "cell_type": "code",
   "execution_count": 37,
   "source": [
    "writer = pd.ExcelWriter('datos/Libro.xlsx')\r\n",
    "\r\n",
    "df_hoja_1_gastos.to_excel(writer, sheet_name=\"Hoja1\", startcol=1, startrow=3, index=None, engine=\"openpyxl\", merge_cells=True)\r\n",
    "df_hoja_1_compras.to_excel(writer, sheet_name=\"Hoja1\", startcol=10, startrow=3, index=None, engine=\"openpyxl\", merge_cells=True)\r\n",
    "df_hoja_2_etiquetas.to_excel(writer, sheet_name=\"Hoja2\", startcol=0, startrow=0, index=None, engine=\"openpyxl\", merge_cells=True)\r\n",
    "\r\n",
    "writer.close()"
   ],
   "outputs": [],
   "metadata": {}
  },
  {
   "cell_type": "markdown",
   "source": [
    "## 13. Colocar una gráfica en una hoja de Excel"
   ],
   "metadata": {}
  },
  {
   "cell_type": "markdown",
   "source": [
    "## 14. Escribir una tabla en el reporte PDF"
   ],
   "metadata": {}
  },
  {
   "cell_type": "markdown",
   "source": [
    "## 15. Escribir un ticket de venta en reporte PDF"
   ],
   "metadata": {}
  },
  {
   "cell_type": "markdown",
   "source": [
    "## 16. Extraer datos de un log de sistema"
   ],
   "metadata": {}
  },
  {
   "cell_type": "markdown",
   "source": [
    "## 17. Graficar dos series en barras comparativas"
   ],
   "metadata": {}
  },
  {
   "cell_type": "markdown",
   "source": [
    "## 18. Reespaldo de tablas en MySQL"
   ],
   "metadata": {}
  },
  {
   "cell_type": "markdown",
   "source": [
    "## 19. Reespaldo de colecciones en Mongo DB"
   ],
   "metadata": {}
  },
  {
   "cell_type": "markdown",
   "source": [
    "## 20. Enviar un Correo Electrónico"
   ],
   "metadata": {}
  },
  {
   "cell_type": "markdown",
   "source": [
    "- Desarrollo de APIs e Interfaces Web (Flask)\r\n",
    "- Automatización de Comandos del Sistema Operativo (OS)\r\n",
    "* Pruebas Web Automatizadas (Selenium)"
   ],
   "metadata": {}
  },
  {
   "cell_type": "markdown",
   "source": [
    "## 21. Montar un servidor web\r\n",
    "\r\n",
    "Los servidores web son programas que se mantienen prendidos y son capaces de recibir peticiones mediante el protocolo HTTP, estas peticiones generalmente son solicitudes para acceder a recursos de la máquina dónde opera el servidor, por ejemplo, consultas de la base de datos, archivos, o información computada.\r\n",
    "\r\n",
    "En python podemos usar la librería de `Flask` para montar un servidor que procese las peteciones de los usuarios. \r\n",
    "\r\n",
    "Por ejemplo, un usuario desea consumir la url `http://localhost:5000/api/productos`, `http://localhost:5000/api/reporte.pdf` `http://localhost:5000/api/grafica.png` o `http://localhost:5000/productos.html`."
   ],
   "metadata": {}
  },
  {
   "cell_type": "code",
   "execution_count": null,
   "source": [
    "! python -m pip install flask"
   ],
   "outputs": [],
   "metadata": {}
  },
  {
   "cell_type": "code",
   "execution_count": 8,
   "source": [
    "from flask import Flask # 1.1.2\r\n",
    "\r\n",
    "app = Flask(__name__)\r\n",
    "\r\n",
    "@app.get(\"/\")\r\n",
    "def home():\r\n",
    "    return \"Hola Flask\"\r\n",
    "\r\n",
    "app.run() # localhost:5000"
   ],
   "outputs": [
    {
     "output_type": "error",
     "ename": "TypeError",
     "evalue": "__call__() missing 1 required positional argument: 'start_response'",
     "traceback": [
      "\u001b[1;31m---------------------------------------------------------------------------\u001b[0m",
      "\u001b[1;31mTypeError\u001b[0m                                 Traceback (most recent call last)",
      "\u001b[1;32m<ipython-input-8-2a90587c5603>\u001b[0m in \u001b[0;36m<module>\u001b[1;34m\u001b[0m\n\u001b[0;32m      3\u001b[0m \u001b[0mapp\u001b[0m \u001b[1;33m=\u001b[0m \u001b[0mFlask\u001b[0m\u001b[1;33m(\u001b[0m\u001b[0m__name__\u001b[0m\u001b[1;33m)\u001b[0m\u001b[1;33m\u001b[0m\u001b[1;33m\u001b[0m\u001b[0m\n\u001b[0;32m      4\u001b[0m \u001b[1;33m\u001b[0m\u001b[0m\n\u001b[1;32m----> 5\u001b[1;33m \u001b[1;33m@\u001b[0m\u001b[0mapp\u001b[0m\u001b[1;33m(\u001b[0m\u001b[1;34m\"/\"\u001b[0m\u001b[1;33m)\u001b[0m\u001b[1;33m\u001b[0m\u001b[1;33m\u001b[0m\u001b[0m\n\u001b[0m\u001b[0;32m      6\u001b[0m \u001b[1;32mdef\u001b[0m \u001b[0mhome\u001b[0m\u001b[1;33m(\u001b[0m\u001b[1;33m)\u001b[0m\u001b[1;33m:\u001b[0m\u001b[1;33m\u001b[0m\u001b[1;33m\u001b[0m\u001b[0m\n\u001b[0;32m      7\u001b[0m     \u001b[1;32mreturn\u001b[0m \u001b[1;34m\"Hola Flask\"\u001b[0m\u001b[1;33m\u001b[0m\u001b[1;33m\u001b[0m\u001b[0m\n",
      "\u001b[1;31mTypeError\u001b[0m: __call__() missing 1 required positional argument: 'start_response'"
     ]
    }
   ],
   "metadata": {}
  },
  {
   "cell_type": "markdown",
   "source": [
    "## 21. Recibir los parámetros de consulta"
   ],
   "metadata": {}
  },
  {
   "cell_type": "code",
   "execution_count": null,
   "source": [
    "from flask import request\r\n",
    "\r\n",
    "@app.get(\"/api/productos\") # locahost:5000/api/productos?min_precio=<float>\r\n",
    "def get_productos():\r\n",
    "    min_precio = request.args.get(\"min_precio\")\r\n",
    "    \r\n",
    "    if not min_precio:\r\n",
    "        min_precio = 0\r\n",
    "    else:\r\n",
    "        min_precio = float(min_precio)\r\n",
    "    \r\n",
    "    productos = [\r\n",
    "        {\r\n",
    "            \"nombre\": \"Coca Cola\",\r\n",
    "            \"precio\": 16.5\r\n",
    "        },\r\n",
    "        {\r\n",
    "            \"nombre\": \"Galletas\",\r\n",
    "            \"precio\": 18.99\r\n",
    "        },\r\n",
    "    ]\r\n",
    "    \r\n",
    "    # [ <element> for <element> in <sequence> [if <condition>] ]\r\n",
    "    # [x * 2 for x in range(20, 51)] # [40, 42, 44, 46, ..., 98, 50]\r\n",
    "    productos_filtrados = [ producto for producto in productos if producto[\"precio\"] >= min_precio ]\r\n",
    "    \r\n",
    "    return {\r\n",
    "        \"productos\": productos_filtrados\r\n",
    "    }"
   ],
   "outputs": [],
   "metadata": {}
  },
  {
   "cell_type": "markdown",
   "source": [
    "## 22. Crear una Aplicación Web con Flask\r\n",
    "\r\n",
    "Las aplicaciones web se basan en estructuras HTML estilizadas con CSS y controladas por javascript. Sin embargo, existen opciones para construir los HTML y CSS sin la dependencia completa a javascript, de tal forma que otros lenguajes pueden generar los códigos html del lado del servidor a fin de mostrarsélos al usuario.\r\n",
    "\r\n",
    "En python podemos renderizar (visualizar/pintar) páginas web generadas a partir de plantillas y datos del programa.\r\n",
    "\r\n",
    "Por ejemplo, podemos crear una tarjeta del clima con los datos del servidor."
   ],
   "metadata": {}
  },
  {
   "cell_type": "code",
   "execution_count": null,
   "source": [
    "from flask import Flask, render_template\r\n",
    "import random\r\n",
    "\r\n",
    "app = Flask(__name__)\r\n",
    "\r\n",
    "@app.get(\"/\")\r\n",
    "def get_home():\r\n",
    "    return render_template(\"index.html\")\r\n",
    "\r\n",
    "@app.get(\"/clima\")\r\n",
    "def get_clima():\r\n",
    "    # TODO: Obtener los valores actuales del clima\r\n",
    "    \r\n",
    "    temperatura = random.uniform(0, 38)\r\n",
    "    humedad = random.uniform(20, 98)\r\n",
    "    \r\n",
    "    ciudades = [\r\n",
    "        {\r\n",
    "            \"nombre\": \"CDMX\",\r\n",
    "            \"temperatura\": random.uniform(17, 27),\r\n",
    "            \"humedad\": random.uniform(45, 67)\r\n",
    "        },\r\n",
    "        {\r\n",
    "            \"nombre\": \"Monterrey\",\r\n",
    "            \"temperatura\": random.uniform(26, 42),\r\n",
    "            \"humedad\": random.uniform(20, 50)\r\n",
    "        },\r\n",
    "        {\r\n",
    "            \"nombre\": \"Guadalajara\",\r\n",
    "            \"temperatura\": random.uniform(20, 30),\r\n",
    "            \"humedad\": random.uniform(50, 70)\r\n",
    "        },\r\n",
    "    ]\r\n",
    "    \r\n",
    "    return render_template(\"clima.html\", temperatura=temperatura, humedad=humedad, ciudades=ciudades)\r\n",
    "\r\n",
    "app.run()"
   ],
   "outputs": [],
   "metadata": {}
  },
  {
   "cell_type": "markdown",
   "source": [
    "## 23. Manejo de hilos\r\n",
    "\r\n",
    "Las tareas que se realizan en un programa generalmente se ejecutan en el hilo principal (proceso principal). Este proceso digamos que ejecuta instrucción por instrucción nuestro programa. Haciendo que la siguiente instrucción tenga que esperarse a que la anterior se complete.\r\n",
    "\r\n",
    "En python podemos crear `hilos` para ejecutar procesos independientes al principal y por ejemplo, monitorear datos, escribir archivos, recopilar datos, etc. Sin que estos bloqueen el proceso principal u otros procesos.\r\n",
    "\r\n",
    "Por ejemplo, una función que cada 20s consulte el clima desde algún API y actualice los datos gloabales a todas las funciones. De esta manera, podríamos crear una aplicación (un API) que proveea el clima con un máximo de retraso de 20 segundos. Esto haría más eficiente el programa, ya que si recibimos en el servidor 1000 peticiones de 1000 usuarios, no tenemos que hacer 1000 consultas en tiempo real del clima (saturando al sistema). Sino que a cada usuario se le respondería con el clima guardado de forma global, y el cuál está siendo actualizado de forma independiente cada 20 segundos.\r\n",
    "\r\n",
    "Esta técnica se puede utilizar para consultas a bases de datos, llamadas a APIs  y escritura de reportes sin tener que hacer las operaciones en tiempo real, sino más bien serían tareas programadas. Se podrían programar para ser lanzadas cada tantos segundos, minutos, horas, días, etc."
   ],
   "metadata": {}
  },
  {
   "cell_type": "code",
   "execution_count": 1,
   "source": [
    "from threading import Thread\r\n",
    "from time import sleep\r\n",
    "import random\r\n",
    "\r\n",
    "contexto = {\r\n",
    "    \"contador\": 0,\r\n",
    "    \"temperatura\": 30\r\n",
    "}\r\n",
    "\r\n",
    "def task1():\r\n",
    "    while contexto[\"contador\"] < 5:\r\n",
    "        print(f\"[TAREA 1] {contexto['contador']}\")\r\n",
    "        contexto[\"contador\"] += 1\r\n",
    "        sleep(4)\r\n",
    "\r\n",
    "def task2():\r\n",
    "    while contexto[\"contador\"] < 4:\r\n",
    "        print(f\"[TAREA 2] {contexto['temperatura']}\")\r\n",
    "        contexto[\"temperatura\"] = contexto[\"temperatura\"] + contexto[\"contador\"] * random.uniform(-1, 1)\r\n",
    "        sleep(10)\r\n",
    "\r\n",
    "t1 = Thread(target=task1)\r\n",
    "t2 = Thread(target=task2)\r\n",
    "\r\n",
    "t1.start()\r\n",
    "t2.start()\r\n",
    "\r\n",
    "t1.join()\r\n",
    "t2.join()"
   ],
   "outputs": [
    {
     "output_type": "stream",
     "name": "stdout",
     "text": [
      "[TAREA 1] 0\n",
      "[TAREA 2] 30\n",
      "[TAREA 1] 1\n",
      "[TAREA 1] 2\n",
      "[TAREA 2] 29.551348760839534\n",
      "[TAREA 1] 3\n",
      "[TAREA 1] 4\n"
     ]
    }
   ],
   "metadata": {}
  },
  {
   "cell_type": "markdown",
   "source": [
    "## 24. Datos del servidor actualizados mediante un hilo\r\n",
    "\r\n",
    "Podemos definir un hilo que controle la actualización de los datos de un contexto, para que el servidor se base en ellos. Por ejemplo, un hilo podría detectar los valores de múltiples sensores para una estación de monitoreo, haciendo que los usuarios vean los últimos valores recolectados. Estos es ideal para cuándo los valores provienen de dispositivos que extraen los datos desde sensores que no pueden ser consultados en tiempo real, por ejemplo, si llamamos al sensor de movimiento en tiempo real (cuándo consulte el usuario), podríamos bloquearlo si dos usuarios consultaran al mismo tiempo."
   ],
   "metadata": {}
  },
  {
   "cell_type": "code",
   "execution_count": null,
   "source": [
    "from flask import Flask\r\n",
    "from threading import Thread\r\n",
    "from time import sleep\r\n",
    "import random\r\n",
    "\r\n",
    "context = {\r\n",
    "    \"on\": True,\r\n",
    "    \"temperatura\": 0,\r\n",
    "    \"humedad\": 0,\r\n",
    "    \"distancia_1\": 0,\r\n",
    "    \"distancia_2\": 0,\r\n",
    "    \"rotacion_x\": 0,\r\n",
    "    \"rotacion_y\": 0,\r\n",
    "    \"rotacion_z\": 0,\r\n",
    "}\r\n",
    "\r\n",
    "def read_sensors():\r\n",
    "    while context[\"on\"]:\r\n",
    "        context[\"temperatura\"] = random.uniform(0, 50)\r\n",
    "        context[\"humedad\"] = random.uniform(0, 100)\r\n",
    "        context[\"distancia_1\"] = random.uniform(0, 200)\r\n",
    "        context[\"distancia_2\"] = random.uniform(0, 200)\r\n",
    "        context[\"rotacion_x\"] = random.uniform(-90, 90)\r\n",
    "        context[\"rotacion_y\"] = random.uniform(-90, 90)\r\n",
    "        context[\"rotacion_z\"] = random.uniform(-90, 90)\r\n",
    "        sleep(10)\r\n",
    "\r\n",
    "app = Flask(__name__)\r\n",
    "\r\n",
    "t = Thread(target=read_sensors)\r\n",
    "\r\n",
    "t.start()\r\n",
    "\r\n",
    "@app.get(\"/api/sensors\")\r\n",
    "def get_sensors():\r\n",
    "    return context\r\n",
    "\r\n",
    "app.run()\r\n",
    "\r\n",
    "t.join()"
   ],
   "outputs": [],
   "metadata": {}
  },
  {
   "cell_type": "markdown",
   "source": [
    "## 25. Trabajar con el sistema operativo\r\n",
    "\r\n",
    "El sistema operativo es la base donde residen y se ejecutan todos los programas. Este resuelve las operaciones más avanzadas del sistema como mandar a imprimir, asignar memoria a los programas, bloquear algún proceso específico, conectarse a los periféricos con drivers, asignar recursos avanzados como uso del GPU o la memoria gráfica, etc.\r\n",
    "\r\n",
    "Existen principalmente dos arquitecturas principales de Sistemas Operativos (`UNIX` y `Win`), estas arquitecturas proveen interfaces primarias como la línea de comandos y el manejo de hilos, procesos, etc.\r\n",
    "\r\n",
    "En python podemos lanzar procesos al sistema operativo, para complementar el uso de nuestros programas. Por ejemplo, si necesitamos mandar a imprimir un documento, en lugar de instalar y aprender a usar librerías complejas de python, o que ni siquiera existen, podemos mandar comandos directos al sistema operativo, para que él realice ese tipo de tareas."
   ],
   "metadata": {}
  },
  {
   "cell_type": "code",
   "execution_count": null,
   "source": [
    "import subprocess\r\n",
    "\r\n",
    "command = ['date', '+\"%A %B (%d %m)\"', '-u']\r\n",
    "\r\n",
    "process = subprocess.Popen(command, stdout=subprocess.PIPE, stderr=subprocess.PIPE)\r\n",
    "\r\n",
    "stdout, stderr = process.communicate()\r\n",
    "\r\n",
    "print(\"stdout:\", stdout)\r\n",
    "print(\"stderr:\", stderr)\r\n",
    "\r\n",
    "for line in stdout.decode('utf-8').split(\"\\n\"):\r\n",
    "    print(line)"
   ],
   "outputs": [],
   "metadata": {}
  }
 ],
 "metadata": {
  "orig_nbformat": 4,
  "language_info": {
   "name": "python",
   "version": "3.9.6",
   "mimetype": "text/x-python",
   "codemirror_mode": {
    "name": "ipython",
    "version": 3
   },
   "pygments_lexer": "ipython3",
   "nbconvert_exporter": "python",
   "file_extension": ".py"
  },
  "kernelspec": {
   "name": "python3",
   "display_name": "Python 3.9.6 64-bit"
  },
  "interpreter": {
   "hash": "63fd5069d213b44bf678585dea6b12cceca9941eaf7f819626cde1f2670de90d"
  }
 },
 "nbformat": 4,
 "nbformat_minor": 2
}