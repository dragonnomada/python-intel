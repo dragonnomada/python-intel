{
 "cells": [
  {
   "cell_type": "markdown",
   "source": [
    "## 1. Como consumir un servicio web\r\n",
    "\r\n",
    "Generalmente los servicios web modernos consisten en URLs capaces de generar datos exclusivos para el consumo de aplicaciones, por ejemplo, devolver listas de productos, usuarios, o realizar operaciones hacia las bases de datos.\r\n",
    "\r\n",
    "Los servicios web modernos se consumen mediante APIs con el formato JSON como la capa de datos.\r\n",
    "\r\n",
    "En python podemos consumir los servicios web como peticiones web mediante `requests`."
   ],
   "metadata": {}
  },
  {
   "cell_type": "code",
   "execution_count": 7,
   "source": [
    "# 1. Importar `requests`\r\n",
    "import requests\r\n",
    "\r\n",
    "results = 5\r\n",
    "page = 1\r\n",
    "seed = \"123\"\r\n",
    "nat = [\"us\", \"gb\", \"fr\"]\r\n",
    "\r\n",
    "# 2. Lanzar la petición y obtener la respuesta\r\n",
    "response = requests.get(f\"https://randomuser.me/api?results={results}&page={page}&seed={seed}&nat={','.join(nat)}\")\r\n",
    "\r\n",
    "# 3. Obtenemos los resultados de la respuesta convertidos a un diccionario de python\r\n",
    "data = response.json()\r\n",
    "\r\n",
    "# print(data) # {'results': [{'gender': 'male', 'name': {'title': 'Mr', 'first': 'Jared', 'last': 'Caldwell'}, ...\r\n",
    "\r\n",
    "for user in data[\"results\"]:\r\n",
    "    print(user[\"name\"][\"title\"], user[\"name\"][\"first\"], user[\"name\"][\"last\"])\r\n",
    "    print(user[\"gender\"], user[\"email\"])\r\n",
    "    print(\"-\" * 40)"
   ],
   "outputs": [
    {
     "output_type": "stream",
     "name": "stdout",
     "text": [
      "Mr Jared Caldwell\n",
      "male jared.caldwell@example.com\n",
      "----------------------------------------\n",
      "Miss Victoria Leclerc\n",
      "female victoria.leclerc@example.com\n",
      "----------------------------------------\n",
      "Mrs Léane Rolland\n",
      "female leane.rolland@example.com\n",
      "----------------------------------------\n",
      "Mr Jar Chavez\n",
      "male jar.chavez@example.com\n",
      "----------------------------------------\n",
      "Mr Clarence Dixon\n",
      "male clarence.dixon@example.com\n",
      "----------------------------------------\n"
     ]
    }
   ],
   "metadata": {}
  },
  {
   "cell_type": "markdown",
   "source": [
    "## 2. Descargar un archivo binario de internet\r\n",
    "\r\n",
    "Generalmente los archivos que no son de texto son llamados archivos binarios y estos pueden estar alojados en servidores para ser consumidos desde internet mediante URLs.\r\n",
    "\r\n",
    "En python podemos descargar estos archivos y guarlos en la computadora local."
   ],
   "metadata": {}
  },
  {
   "cell_type": "code",
   "execution_count": 15,
   "source": [
    "# 1. Importar `requests`\r\n",
    "response = requests.get(\"https://i.ytimg.com/vi/1Ne1hqOXKKI/maxresdefault.jpg\")\r\n",
    "\r\n",
    "# 2. Obtener el contenido descargado (binario)\r\n",
    "data = response.content\r\n",
    "\r\n",
    "print(len(data)) # 135,563 bytes ~ 130kb\r\n",
    "\r\n",
    "# Podemos abrir un archivo en modo escritura binaria\r\n",
    "f = open(\"datos/cat.jpg\", \"wb\")\r\n",
    "\r\n",
    "# Escribimos el contenido binario al archivo\r\n",
    "f.write(data)\r\n",
    "\r\n",
    "f.close()"
   ],
   "outputs": [
    {
     "output_type": "stream",
     "name": "stdout",
     "text": [
      "135563\n"
     ]
    }
   ],
   "metadata": {}
  },
  {
   "cell_type": "markdown",
   "source": [
    "## 3. Descomprimir un archivo ZIP\r\n",
    "\r\n",
    "Los archivos ZIP son archivos comprimidos o empaquetados cómo un único archivo binario para transportar múltiples archivos y carpetas, conservando su organización.\r\n",
    "\r\n",
    "En python podemos descomprimir estos archivos usando librerías estándar como `zlib` o `gzip`."
   ],
   "metadata": {}
  },
  {
   "cell_type": "code",
   "execution_count": 18,
   "source": [
    "from zipfile import ZipFile\r\n",
    "\r\n",
    "fzip = ZipFile(\"datos/archivos.zip\", \"r\")\r\n",
    "\r\n",
    "name_list = fzip.namelist()\r\n",
    "\r\n",
    "print(name_list)\r\n",
    "\r\n",
    "# fzip.extract(<path>)\r\n",
    "fzip.extractall(\"datos/output\")\r\n",
    "\r\n",
    "fzip.close()"
   ],
   "outputs": [
    {
     "output_type": "stream",
     "name": "stdout",
     "text": [
      "['catalogo.xml', 'numeros.txt', 'usuarios.txt']\n"
     ]
    }
   ],
   "metadata": {}
  },
  {
   "cell_type": "markdown",
   "source": [
    "## 4. Comprimir un archivo ZIP\r\n",
    "\r\n",
    "Para poder comprimir archivos ZIP es necesario dominar el manejo de las rutas del sistema operativo y poder caminar entre ellas.\r\n",
    "\r\n",
    "En python podemos comprimir archivos independientes y carpetas para poder automatizar el reespaldo de archivos ignorando aquellos que no sean relevantes."
   ],
   "metadata": {}
  },
  {
   "cell_type": "code",
   "execution_count": 34,
   "source": [
    "import os\r\n",
    "from zipfile import ZipFile\r\n",
    "\r\n",
    "def walk(path, targets=[]):\r\n",
    "    for root, dirnames, filenames in os.walk(path):\r\n",
    "        # for dirname in dirnames: # [foo]\r\n",
    "        #     dirpath = f\"{root}/{dirname}\" # \"datos/input/foo\"\r\n",
    "        #     walk(dirpath, targets=targets) # datos/input/foo\r\n",
    "        for filename in filenames: # [correos.txt]\r\n",
    "            filepath = f\"{root}/{filename}\" # \"datos/input/correos.txt\"\r\n",
    "            targets.append(os.path.normcase(filepath), filename)\r\n",
    "    return targets\r\n",
    "\r\n",
    "targets = walk(\"datos/input\")\r\n",
    "\r\n",
    "print(targets)\r\n",
    "\r\n",
    "fzip = ZipFile(\"datos/backup.zip\", \"w\")\r\n",
    "\r\n",
    "for filepath, filename in targets:\r\n",
    "    fzip.write(filepath, filepath.replace(os.path.normcase(\"datos/input\"), \"\")) # write(<source>, <destination>)\r\n",
    "\r\n",
    "fzip.close()"
   ],
   "outputs": [
    {
     "output_type": "stream",
     "name": "stdout",
     "text": [
      "[('datos\\\\input', 'datos\\\\input\\\\correos.txt', 'correos.txt'), ('datos\\\\input\\\\foo', 'datos\\\\input\\\\foo\\\\readme.md', 'readme.md'), ('datos\\\\input\\\\foo\\\\bar', 'datos\\\\input\\\\foo\\\\bar\\\\hello.txt', 'hello.txt')]\n"
     ]
    }
   ],
   "metadata": {}
  },
  {
   "cell_type": "markdown",
   "source": [
    "## 5. Extraer los correos de un archivo\r\n",
    "\r\n",
    "Los correos electrónicos tienen una estructura regular la cuál puede ser intrerpretada por expresiones regulares y por lo tanto es información que puede ser extraída de forma automática.\r\n",
    "\r\n",
    "En python podemos extraer información regular como correos, números de teléfono o cuentas bancarias, fechas, precios, nombres propios, etc. Esta información puede ser útil para generar reportes o crear bases de datos."
   ],
   "metadata": {}
  },
  {
   "cell_type": "code",
   "execution_count": 40,
   "source": [
    "import re\r\n",
    "\r\n",
    "pattern = r\"[a-z\\-\\.\\_]+\\@[a-z]+\\.[a-z]{2,3}(\\.[a-z]{2,3})?\" # A+ @ B+ . C{2,3} (. D{2,3})?\r\n",
    "\r\n",
    "f = open(\"datos/conversacion.txt\", \"r\")\r\n",
    "\r\n",
    "content = f.read()\r\n",
    "\r\n",
    "for match in re.finditer(pattern, content):\r\n",
    "    print(match.group(0))"
   ],
   "outputs": [
    {
     "output_type": "stream",
     "name": "stdout",
     "text": [
      "ana@gmail.com\n",
      "pepe@gmail.com\n",
      "karla@gmail.com\n",
      "mario@gmail.com\n",
      "berta@gmail.com\n"
     ]
    }
   ],
   "metadata": {}
  },
  {
   "cell_type": "markdown",
   "source": [
    "## 6. Consultar una base de datos MySQL\r\n",
    "\r\n",
    "Las bases de datos SQL son las más populares ya que mantienen la información de forma relacional y poseen un lenguaje de comandos para poder recuperar datos tabulares.\r\n",
    "\r\n",
    "En python podemos crear una conexión a la base de datos y lanzar consultas esperando los resultados."
   ],
   "metadata": {}
  },
  {
   "cell_type": "markdown",
   "source": [
    "## 7. Consultar una base de datos MongoDB\r\n",
    "\r\n",
    "Las bases de datos No-SQL se están popularizando por su facilidad de retener datos e información atómica no relacional. Esto permite un desarrollo acelarado en las empresas y se están consumiendo mucho. Las bases de datos No-SQL consisten en retener documentos similares a JSON con campos y valores (como un diccionario en python) y a través de filtros se especifican las búsquedas.\r\n",
    "\r\n",
    "En python podemos crear una conexión a la base de datos y lanzar consultas esperando los resultados."
   ],
   "metadata": {}
  },
  {
   "cell_type": "markdown",
   "source": [
    "## 8. Crear una gráfica de Serie\r\n",
    "\r\n",
    "Las gráficas de Serie muestran datos correlacionados en el eje X y Y, por ejemplo, una altura sobre una distancia, el valor de un producto en ek tiempo, la temperatura de un sensor contra la humedad, etc.\r\n",
    "\r\n",
    "En python podemos usar la librería `matplotlib` y `seaborn` para visualizar este tipo de gráficas a partir de listas simples o arreglos de la librería `numpy`."
   ],
   "metadata": {}
  },
  {
   "cell_type": "markdown",
   "source": [
    "## 9. Cargar un dataframe de datos desde un CSV\r\n",
    "\r\n",
    "Un `DataFrame` es una estructura similar a una tabla y consiste en una lista de filas que poseen columnas o un diccionario de columnas que contienen filas. Entonces podemos acceder a datos tabulares como los que se definen en un archivo CSV (texto plano separado por comas).\r\n",
    "\r\n",
    "En python podemos usar la librería `pandas` y el método `read_csv(...)` para obtener la tabla de datos."
   ],
   "metadata": {}
  },
  {
   "cell_type": "markdown",
   "source": [
    "## 10. Crear un archivo PDF con texto e imágenes\r\n",
    "\r\n",
    "Los archivos PDF son los más utilizados dentro de las empresas para emitir reportes. Estos tienen la ventaja de ser estáticos y dedicados a la lectura de documentos.\r\n",
    "\r\n",
    "En python podemos crear documentos PDF para generar reportes automatizados como tablas de datos, gráficas y demás información generada en los proyectos."
   ],
   "metadata": {}
  }
 ],
 "metadata": {
  "orig_nbformat": 4,
  "language_info": {
   "name": "python",
   "version": "3.9.6",
   "mimetype": "text/x-python",
   "codemirror_mode": {
    "name": "ipython",
    "version": 3
   },
   "pygments_lexer": "ipython3",
   "nbconvert_exporter": "python",
   "file_extension": ".py"
  },
  "kernelspec": {
   "name": "python3",
   "display_name": "Python 3.9.6 64-bit"
  },
  "interpreter": {
   "hash": "63fd5069d213b44bf678585dea6b12cceca9941eaf7f819626cde1f2670de90d"
  }
 },
 "nbformat": 4,
 "nbformat_minor": 2
}