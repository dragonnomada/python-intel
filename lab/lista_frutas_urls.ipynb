{
 "cells": [
  {
   "cell_type": "code",
   "execution_count": 1,
   "source": [
    "# Construir urls para cada fruta en un lista\r\n",
    "\r\n",
    "frutas = [\"manzana\", \"pera\", \"mango\", \"kiwi\"]\r\n",
    "\r\n",
    "for fruta in frutas:\r\n",
    "    url = \"https://fruta.com/{}.png\".format(fruta)\r\n",
    "    print(url)"
   ],
   "outputs": [
    {
     "output_type": "stream",
     "name": "stdout",
     "text": [
      "https://fruta.com/manzana.png\n",
      "https://fruta.com/pera.png\n",
      "https://fruta.com/mango.png\n",
      "https://fruta.com/kiwi.png\n"
     ]
    }
   ],
   "metadata": {}
  },
  {
   "cell_type": "code",
   "execution_count": 2,
   "source": [
    "# Construir urls para cada fruta en un lista\r\n",
    "\r\n",
    "frutas = [\"manzana\", \"pera\", \"mango\", \"kiwi\"]\r\n",
    "\r\n",
    "urls = []\r\n",
    "\r\n",
    "for fruta in frutas:\r\n",
    "    url = \"https://fruta.com/{}.png\".format(fruta)\r\n",
    "    urls.append(url)\r\n",
    "    \r\n",
    "print(urls)"
   ],
   "outputs": [
    {
     "output_type": "stream",
     "name": "stdout",
     "text": [
      "['https://fruta.com/manzana.png', 'https://fruta.com/pera.png', 'https://fruta.com/mango.png', 'https://fruta.com/kiwi.png']\n"
     ]
    }
   ],
   "metadata": {}
  },
  {
   "cell_type": "code",
   "execution_count": null,
   "source": [
    "# Construir urls para cada fruta en un lista\r\n",
    "\r\n",
    "import requests\r\n",
    "\r\n",
    "frutas = [\"manzana\", \"pera\", \"mango\", \"kiwi\"]\r\n",
    "\r\n",
    "urls = []\r\n",
    "\r\n",
    "for fruta in frutas:\r\n",
    "    url = \"https://fruta.com/{}.png\".format(fruta)\r\n",
    "    urls.append(url)\r\n",
    "    \r\n",
    "for url in urls:\r\n",
    "    # TODO: Descargar la imagen de la url\r\n",
    "    response = requests.get(url)\r\n",
    "    print(response)"
   ],
   "outputs": [],
   "metadata": {}
  }
 ],
 "metadata": {
  "orig_nbformat": 4,
  "language_info": {
   "name": "python",
   "version": "3.9.6",
   "mimetype": "text/x-python",
   "codemirror_mode": {
    "name": "ipython",
    "version": 3
   },
   "pygments_lexer": "ipython3",
   "nbconvert_exporter": "python",
   "file_extension": ".py"
  },
  "kernelspec": {
   "name": "python3",
   "display_name": "Python 3.9.6 64-bit"
  },
  "interpreter": {
   "hash": "63fd5069d213b44bf678585dea6b12cceca9941eaf7f819626cde1f2670de90d"
  }
 },
 "nbformat": 4,
 "nbformat_minor": 2
}