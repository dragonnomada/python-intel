{
 "cells": [
  {
   "cell_type": "markdown",
   "id": "e1b75a61",
   "metadata": {
    "_cell_guid": "b1076dfc-b9ad-4769-8c92-a6c4dae69d19",
    "_uuid": "8f2839f25d086af736a60e9eeb907d3b93b6e0e5",
    "papermill": {
     "duration": 0.014018,
     "end_time": "2021-09-03T05:09:17.675512",
     "exception": false,
     "start_time": "2021-09-03T05:09:17.661494",
     "status": "completed"
    },
    "tags": []
   },
   "source": [
    "# Ejercicios de Python - Serie I\n",
    "\n",
    "By [Alan Badillo Salas (Dragón Nómada)](dragonnomada.medium.com)\n",
    "\n",
    "## Introducción\n",
    "\n",
    "Los siguientes ejercicios tienen el objetivo de guiar al estudiante para dominar los conceptos básicos de programación y python."
   ]
  },
  {
   "cell_type": "markdown",
   "id": "082b0d58",
   "metadata": {
    "papermill": {
     "duration": 0.012933,
     "end_time": "2021-09-03T05:09:17.705266",
     "exception": false,
     "start_time": "2021-09-03T05:09:17.692333",
     "status": "completed"
    },
    "tags": []
   },
   "source": [
    "## Variables"
   ]
  },
  {
   "cell_type": "markdown",
   "id": "0a27690e",
   "metadata": {
    "papermill": {
     "duration": 0.012687,
     "end_time": "2021-09-03T05:09:17.731605",
     "exception": false,
     "start_time": "2021-09-03T05:09:17.718918",
     "status": "completed"
    },
    "tags": []
   },
   "source": [
    "> Crea dos variables `a` y `b` con valores numéricos e imprime la suma"
   ]
  },
  {
   "cell_type": "markdown",
   "id": "9ccf868e",
   "metadata": {
    "papermill": {
     "duration": 0.012712,
     "end_time": "2021-09-03T05:09:17.758603",
     "exception": false,
     "start_time": "2021-09-03T05:09:17.745891",
     "status": "completed"
    },
    "tags": []
   },
   "source": [
    "> Crea dos variables `a` y `b` con valores numéricos e imprime `a^b`"
   ]
  },
  {
   "cell_type": "markdown",
   "id": "69e38b27",
   "metadata": {
    "papermill": {
     "duration": 0.012765,
     "end_time": "2021-09-03T05:09:17.785138",
     "exception": false,
     "start_time": "2021-09-03T05:09:17.772373",
     "status": "completed"
    },
    "tags": []
   },
   "source": [
    "> Solicita el valor de la edad de una persona usando `input(...)` e imprime los años que le faltan para cumplir 100 años"
   ]
  },
  {
   "cell_type": "markdown",
   "id": "8bbb6b26",
   "metadata": {
    "papermill": {
     "duration": 0.013343,
     "end_time": "2021-09-03T05:09:17.811519",
     "exception": false,
     "start_time": "2021-09-03T05:09:17.798176",
     "status": "completed"
    },
    "tags": []
   },
   "source": [
    "> Solicita la edad de una persona con `input(...)` y crea la variable `esMayorEdad` que contenga un booleano\n",
    "\n",
    "> * Determina que es mayor de edad si la `edad` ingresada es mayor o igual a 18"
   ]
  },
  {
   "cell_type": "markdown",
   "id": "a1e62bbb",
   "metadata": {
    "papermill": {
     "duration": 0.013439,
     "end_time": "2021-09-03T05:09:17.838328",
     "exception": false,
     "start_time": "2021-09-03T05:09:17.824889",
     "status": "completed"
    },
    "tags": []
   },
   "source": [
    "> Captura los grados Farenheit y calcula los grados centígrados\n",
    "\n",
    "> * Usa `°C = (°F − 32) * 5 / 9`"
   ]
  },
  {
   "cell_type": "markdown",
   "id": "dfda9d87",
   "metadata": {
    "papermill": {
     "duration": 0.015735,
     "end_time": "2021-09-03T05:09:17.872609",
     "exception": false,
     "start_time": "2021-09-03T05:09:17.856874",
     "status": "completed"
    },
    "tags": []
   },
   "source": [
    "## Condicionales"
   ]
  },
  {
   "cell_type": "markdown",
   "id": "bb506099",
   "metadata": {
    "papermill": {
     "duration": 0.015764,
     "end_time": "2021-09-03T05:09:17.906406",
     "exception": false,
     "start_time": "2021-09-03T05:09:17.890642",
     "status": "completed"
    },
    "tags": []
   },
   "source": [
    "> Captura el nombre de un súper héroe y determina si es igual a `\"batman\"`\n",
    "\n",
    "> * Compara en minúsculas (usa el método `mi_texto.lower()`)"
   ]
  },
  {
   "cell_type": "markdown",
   "id": "25e0a1bd",
   "metadata": {
    "papermill": {
     "duration": 0.015048,
     "end_time": "2021-09-03T05:09:17.935099",
     "exception": false,
     "start_time": "2021-09-03T05:09:17.920051",
     "status": "completed"
    },
    "tags": []
   },
   "source": [
    "> muestra un menú al usuario y captura la opción, imprime a qué se refiere la opción\n",
    "\n",
    "> Ejemplo:\n",
    "\n",
    "    Selecciona una opción:\n",
    "    1. Imprimir reporte\n",
    "    2. Consultar reportes\n",
    "    3. Salir\n",
    "    Opción: 2\n",
    "    Has seleccionado '2. Consultar reportes'"
   ]
  },
  {
   "cell_type": "markdown",
   "id": "cd829b69",
   "metadata": {
    "papermill": {
     "duration": 0.013674,
     "end_time": "2021-09-03T05:09:17.962153",
     "exception": false,
     "start_time": "2021-09-03T05:09:17.948479",
     "status": "completed"
    },
    "tags": []
   },
   "source": [
    "> Captura dos números `a` y `b` e imprime cuál es el mayor"
   ]
  },
  {
   "cell_type": "markdown",
   "id": "93dcc4e4",
   "metadata": {
    "papermill": {
     "duration": 0.012728,
     "end_time": "2021-09-03T05:09:17.988269",
     "exception": false,
     "start_time": "2021-09-03T05:09:17.975541",
     "status": "completed"
    },
    "tags": []
   },
   "source": [
    "> Captura dos parejas de puntos `(x1, y1)` y `(x2, y2)` e imprime el más cercano al origen\n",
    "\n",
    "> * Usa `RAÍZ_CUADRADA(X^2 + Y^2)` para determinar la distancia del punto `(X, Y)` al origen"
   ]
  },
  {
   "cell_type": "markdown",
   "id": "c79ad799",
   "metadata": {
    "papermill": {
     "duration": 0.013253,
     "end_time": "2021-09-03T05:09:18.015023",
     "exception": false,
     "start_time": "2021-09-03T05:09:18.001770",
     "status": "completed"
    },
    "tags": []
   },
   "source": [
    "> Captura un número de 1 a 10 y determina si es múltiplo de 3 o 5\n",
    "\n",
    "> * `N` es múltiplo de `M` si `N % M == 0` (léase `N` residuo de `M` es cero, es decir, quita tantas veces M que quede cero)."
   ]
  },
  {
   "cell_type": "markdown",
   "id": "0894355d",
   "metadata": {
    "papermill": {
     "duration": 0.012897,
     "end_time": "2021-09-03T05:09:18.041793",
     "exception": false,
     "start_time": "2021-09-03T05:09:18.028896",
     "status": "completed"
    },
    "tags": []
   },
   "source": [
    "> Captura dos textos `piedra`, `papel` o `tijera` y determina quién gana (si el jugador_1 o el jugador_2 y por qué)\n",
    "\n",
    "> Ejemplo de entrada: `piedra papel`\n",
    "\n",
    "> Ejemplo de salida: `Gana el Jugador 2 porque papel gana a piedra`"
   ]
  },
  {
   "cell_type": "markdown",
   "id": "f24035e1",
   "metadata": {
    "papermill": {
     "duration": 0.01263,
     "end_time": "2021-09-03T05:09:18.068275",
     "exception": false,
     "start_time": "2021-09-03T05:09:18.055645",
     "status": "completed"
    },
    "tags": []
   },
   "source": [
    "## Iteradores"
   ]
  },
  {
   "cell_type": "markdown",
   "id": "65371562",
   "metadata": {
    "papermill": {
     "duration": 0.013876,
     "end_time": "2021-09-03T05:09:18.095368",
     "exception": false,
     "start_time": "2021-09-03T05:09:18.081492",
     "status": "completed"
    },
    "tags": []
   },
   "source": [
    "> Imprime los números del 215 al 234 (inclusive)"
   ]
  },
  {
   "cell_type": "markdown",
   "id": "fd4ab11a",
   "metadata": {
    "papermill": {
     "duration": 0.013379,
     "end_time": "2021-09-03T05:09:18.121890",
     "exception": false,
     "start_time": "2021-09-03T05:09:18.108511",
     "status": "completed"
    },
    "tags": []
   },
   "source": [
    "> Imprime los números del 1 al 101 (inclusive) de 5 en 5\n",
    "\n",
    "> * Es decir, 1, 6, 11, 13, ..., 101"
   ]
  },
  {
   "cell_type": "markdown",
   "id": "be443b93",
   "metadata": {
    "papermill": {
     "duration": 0.012787,
     "end_time": "2021-09-03T05:09:18.148132",
     "exception": false,
     "start_time": "2021-09-03T05:09:18.135345",
     "status": "completed"
    },
    "tags": []
   },
   "source": [
    "> Suma los números del 1 al 101 (inclusive) de 5 en 5\n",
    "\n",
    "> * Es decir, 1 + 6 + 11 + 13 + ... + 101"
   ]
  },
  {
   "cell_type": "markdown",
   "id": "98fd4eb9",
   "metadata": {
    "papermill": {
     "duration": 0.013113,
     "end_time": "2021-09-03T05:09:18.174509",
     "exception": false,
     "start_time": "2021-09-03T05:09:18.161396",
     "status": "completed"
    },
    "tags": []
   },
   "source": [
    "> Suma los números del 440 al 570 (inclusive) si es múltiplo de 3 o múltiplo de 5\n",
    "\n",
    "> * Es decir, 440 + 441 + 444 + 445 + .. + 570"
   ]
  },
  {
   "cell_type": "markdown",
   "id": "a7652743",
   "metadata": {
    "papermill": {
     "duration": 0.013524,
     "end_time": "2021-09-03T05:09:18.201132",
     "exception": false,
     "start_time": "2021-09-03T05:09:18.187608",
     "status": "completed"
    },
    "tags": []
   },
   "source": [
    "> Suma los números del 440 al 570 (inclusive) si es múltiplo de 3 y múltiplo de 5\n",
    "\n",
    "> Es decir, 450 + 465 + 480 + ... + 570"
   ]
  },
  {
   "cell_type": "markdown",
   "id": "d99f4386",
   "metadata": {
    "papermill": {
     "duration": 0.012719,
     "end_time": "2021-09-03T05:09:18.227067",
     "exception": false,
     "start_time": "2021-09-03T05:09:18.214348",
     "status": "completed"
    },
    "tags": []
   },
   "source": [
    "## Ciclos Condicionales"
   ]
  },
  {
   "cell_type": "markdown",
   "id": "5e7d98e4",
   "metadata": {
    "papermill": {
     "duration": 0.012844,
     "end_time": "2021-09-03T05:09:18.253693",
     "exception": false,
     "start_time": "2021-09-03T05:09:18.240849",
     "status": "completed"
    },
    "tags": []
   },
   "source": [
    "> Crea un ciclo infinito (`while True`) y pide al usuario un número, si el número es menor a cero rompe el ciclo"
   ]
  },
  {
   "cell_type": "markdown",
   "id": "36487822",
   "metadata": {
    "papermill": {
     "duration": 0.012777,
     "end_time": "2021-09-03T05:09:18.279566",
     "exception": false,
     "start_time": "2021-09-03T05:09:18.266789",
     "status": "completed"
    },
    "tags": []
   },
   "source": [
    "> Crea una variable `n = 100` y repite el ciclo mientras `n > 0`. En el ciclo haz `n = n / 1.5` e imprime el valor de `n`"
   ]
  },
  {
   "cell_type": "markdown",
   "id": "0c26468d",
   "metadata": {
    "papermill": {
     "duration": 0.013133,
     "end_time": "2021-09-03T05:09:18.306057",
     "exception": false,
     "start_time": "2021-09-03T05:09:18.292924",
     "status": "completed"
    },
    "tags": []
   },
   "source": [
    "> Crea un ciclo infinito y dentro captura el valor de un punto `(x, y)`. Rompe el ciclo si el punto tiene una distancia al origen mayor a `10`."
   ]
  },
  {
   "cell_type": "markdown",
   "id": "7ce175a9",
   "metadata": {
    "papermill": {
     "duration": 0.013509,
     "end_time": "2021-09-03T05:09:18.332698",
     "exception": false,
     "start_time": "2021-09-03T05:09:18.319189",
     "status": "completed"
    },
    "tags": []
   },
   "source": [
    "> Crea un ciclo infinito y dentro captura un texto, rompe el ciclo si el texto tiene longitud mayor a 6\n",
    "\n",
    "> * Usa `len(texto)` para obtener la longitud del texto"
   ]
  },
  {
   "cell_type": "markdown",
   "id": "5a41666a",
   "metadata": {
    "papermill": {
     "duration": 0.012875,
     "end_time": "2021-09-03T05:09:18.358791",
     "exception": false,
     "start_time": "2021-09-03T05:09:18.345916",
     "status": "completed"
    },
    "tags": []
   },
   "source": [
    "> Crea un ciclo infinito y dentro muestra un menú con la opción salir. Si la opción capturada corresponde a salir, rompe el ciclo"
   ]
  }
 ],
 "metadata": {
  "kernelspec": {
   "display_name": "Python 3",
   "language": "python",
   "name": "python3"
  },
  "language_info": {
   "codemirror_mode": {
    "name": "ipython",
    "version": 3
   },
   "file_extension": ".py",
   "mimetype": "text/x-python",
   "name": "python",
   "nbconvert_exporter": "python",
   "pygments_lexer": "ipython3",
   "version": "3.7.10"
  },
  "papermill": {
   "default_parameters": {},
   "duration": 10.864574,
   "end_time": "2021-09-03T05:09:19.961132",
   "environment_variables": {},
   "exception": null,
   "input_path": "__notebook__.ipynb",
   "output_path": "__notebook__.ipynb",
   "parameters": {},
   "start_time": "2021-09-03T05:09:09.096558",
   "version": "2.3.3"
  }
 },
 "nbformat": 4,
 "nbformat_minor": 5
}
