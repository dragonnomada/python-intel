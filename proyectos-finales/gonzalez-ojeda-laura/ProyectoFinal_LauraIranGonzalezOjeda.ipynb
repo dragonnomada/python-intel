{
 "cells": [
  {
   "cell_type": "markdown",
   "id": "fd213835",
   "metadata": {},
   "source": [
    "# Consumo de servicio web para el análisis de datos\n",
    "## Proyecto Final : Curso Python - Intel\n",
    "\n",
    "### Por: Laura Irán González Ojeda\n",
    "\n",
    "\n",
    "El presente script tiene como objetivo mostrar algunos de los temas que se revisaron en el Curso de Python para corroborar los conocimientos adquiridos. \n",
    "    \n",
    "### Justificación\n",
    "\n",
    "Los features que he elegido implementar para el presente proyecto son:\n",
    "- Consumo de un Servicio Web para extracción de datos \n",
    "- Almacenamiento de datos en un archivo csv, lectura de archivo csv y limpieza de datos\n",
    "- Manejo de Dataframes\n",
    "- Creación de gráficas para el análisis de los datos adquiridos \n",
    "\n",
    "El motivo de la consideración de estos temas es porque es de mi interés consolidar los conocimientos de análisis de datos con Python para posteriormente introducirme en temas más avanzados como Machine Learning y Artificial Intelligence. "
   ]
  },
  {
   "cell_type": "code",
   "execution_count": 7,
   "id": "1af906c8",
   "metadata": {},
   "outputs": [],
   "source": [
    "# Importacion de librerias a considerar en este proyecto\n",
    "import requests\n",
    "from os import remove\n",
    "from os import path\n",
    "import csv\n",
    "import pandas as pd\n",
    "import matplotlib.pyplot as plt\n",
    "\n",
    "\n",
    "#Borrar el archivo donde se almacenaran los datos, para tener el ambiente limpio si existieron previas corridas\n",
    "if path.exists(\"data.csv\"):\n",
    "    remove('data.csv')"
   ]
  },
  {
   "cell_type": "code",
   "execution_count": 2,
   "id": "bd36cc5e",
   "metadata": {},
   "outputs": [],
   "source": [
    "# Solicitar la peticion de los datos al servicio web y obtener la respuesta\n",
    "results = 5000\n",
    "page = 1\n",
    "seed = \"123\"\n",
    "nat = [\"us\", \"gb\", \"fr\"]\n",
    "\n",
    "response = requests.get(f\"https://randomuser.me/api?results={results}&page={page}&seed={seed}&nat={','.join(nat)}\")\n",
    "data = response.json()"
   ]
  },
  {
   "cell_type": "code",
   "execution_count": 3,
   "id": "b9f897c6",
   "metadata": {},
   "outputs": [],
   "source": [
    "# Insercion de los Headers del CSV        \n",
    "headerList = [\"Name\", \"LastName\", \"Gender\",\"email\",\"Nationality\"]\n",
    "with open('data.csv', 'w') as file:\n",
    "    dw = csv.DictWriter(file, delimiter=',', fieldnames=headerList)\n",
    "    dw.writeheader()\n",
    "\n",
    "# Se obtienen los resultados de la respuesta para almacenarlos limpios en un archivo CSV\n",
    "for user in data[\"results\"]:\n",
    "    a=user[\"name\"][\"first\"],user[\"name\"][\"last\"],user[\"gender\"],user[\"email\"],user[\"nat\"]\n",
    "    with open('data.csv', 'a+', encoding='utf-8') as file:\n",
    "        file.write(str(a).replace(\"(\", \"\").replace(\")\", \"\").replace(\"'\", \"\").replace(\" \", \"\")+'\\n')"
   ]
  },
  {
   "cell_type": "code",
   "execution_count": 4,
   "id": "683f093e",
   "metadata": {},
   "outputs": [
    {
     "name": "stdout",
     "output_type": "stream",
     "text": [
      "          Name  LastName  Gender                         email Nationality\n",
      "0        Jared  Caldwell    male    jared.caldwell@example.com          US\n",
      "1     Victoria   Leclerc  female  victoria.leclerc@example.com          FR\n",
      "2        Léane   Rolland  female     leane.rolland@example.com          FR\n",
      "3          Jar    Chavez    male        jar.chavez@example.com          US\n",
      "4     Clarence     Dixon    male    clarence.dixon@example.com          US\n",
      "...        ...       ...     ...                           ...         ...\n",
      "4995     Maëly   Olivier  female     maely.olivier@example.com          FR\n",
      "4996   Alberto    Moreno    male    alberto.moreno@example.com          US\n",
      "4997   Garance    Durand  female    garance.durand@example.com          FR\n",
      "4998      Dean     Allen    male        dean.allen@example.com          GB\n",
      "4999      Lucy   Perkins  female      lucy.perkins@example.com          US\n",
      "\n",
      "[5000 rows x 5 columns]\n"
     ]
    }
   ],
   "source": [
    "#Mostrar los datos extraidos del csv en un data frame\n",
    "df = pd.read_csv ('data.csv')\n",
    "print (df)"
   ]
  },
  {
   "cell_type": "code",
   "execution_count": 5,
   "id": "a7b00fce",
   "metadata": {},
   "outputs": [
    {
     "name": "stdout",
     "output_type": "stream",
     "text": [
      "Sum of values, grouped by the Gender: Empty DataFrame\n",
      "Columns: []\n",
      "Index: [female, male]\n",
      "Sum of values, grouped by the Nationality: Empty DataFrame\n",
      "Columns: []\n",
      "Index: [FR, GB, US]\n",
      "Count of values, grouped by the Gender:         Name  LastName  email  Nationality\n",
      "Gender                                    \n",
      "female  2515      2515   2515         2515\n",
      "male    2485      2485   2485         2485\n",
      "Count of values, grouped by the Nationality:              Name  LastName  Gender  email\n",
      "Nationality                               \n",
      "FR           1713      1713    1713   1713\n",
      "GB           1630      1630    1630   1630\n",
      "US           1657      1657    1657   1657\n"
     ]
    }
   ],
   "source": [
    "#Realizar calculos de sumatorias y counts sobre el genero y la nacionalidad de los usuarios\n",
    "groupby_sum1 = df.groupby(['Gender']).sum()\n",
    "groupby_sum2 = df.groupby(['Nationality']).sum()\n",
    "\n",
    "groupby_count1 = df.groupby(['Gender']).count()\n",
    "groupby_count2 = df.groupby(['Nationality']).count()\n",
    "\n",
    "# Imprimir resultados\n",
    "print ('Sum of values, grouped by the Gender: ' + str(groupby_sum1))\n",
    "print ('Sum of values, grouped by the Nationality: ' + str(groupby_sum2))\n",
    "\n",
    "print ('Count of values, grouped by the Gender: ' + str(groupby_count1))\n",
    "print ('Count of values, grouped by the Nationality: ' + str(groupby_count2))"
   ]
  },
  {
   "cell_type": "code",
   "execution_count": 6,
   "id": "4f31f85e",
   "metadata": {},
   "outputs": [
    {
     "data": {
      "image/png": "[encoded data removed]",
      "text/plain": [
       "<Figure size 432x288 with 1 Axes>"
      ]
     },
     "metadata": {
      "needs_background": "light"
     },
     "output_type": "display_data"
    }
   ],
   "source": [
    "#Graficar los resultados -> Grafica para visualizar las nacionalidades de los usuarios agrupados por Genero\n",
    "df=df.groupby(['Nationality','Gender']).size()\n",
    "df=df.unstack()\n",
    "df.plot(kind='bar')\n",
    "plt.title('Nationality of Users per Gender')\n",
    "plt.legend()\n",
    "plt.show()"
   ]
  }
 ],
 "metadata": {
  "kernelspec": {
   "display_name": "Python 3 (ipykernel)",
   "language": "python",
   "name": "python3"
  },
  "language_info": {
   "codemirror_mode": {
    "name": "ipython",
    "version": 3
   },
   "file_extension": ".py",
   "mimetype": "text/x-python",
   "name": "python",
   "nbconvert_exporter": "python",
   "pygments_lexer": "ipython3",
   "version": "3.9.6"
  }
 },
 "nbformat": 4,
 "nbformat_minor": 5
}
