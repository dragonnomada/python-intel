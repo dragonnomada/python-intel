{
 "cells": [
  {
   "cell_type": "markdown",
   "id": "e98edd8f",
   "metadata": {},
   "source": [
    "***Full Name: Larbi Djilali\n",
    "Motivation: This project helps to capture students list and  calification and  generate automatically the percentage of approved and no approved students using Bar graphs. It van be usefull for schools and unversities uses. \n",
    "\n"
   ]
  },
  {
   "cell_type": "code",
   "execution_count": 1,
   "id": "8cb68e62",
   "metadata": {},
   "outputs": [],
   "source": [
    "import pandas as pd\n",
    "import csv\n",
    "import numpy as np\n",
    "import matplotlib.pyplot as plt\n",
    "new_lista_alumnos=[]\n"
   ]
  },
  {
   "cell_type": "markdown",
   "id": "4ff28827",
   "metadata": {},
   "source": [
    "***Option Selection\n",
    "This function helps the user  to select the option of fillfuled the student list and their califiactions, which are HomeWork, Exam 1, and Exam 2.  \n"
   ]
  },
  {
   "cell_type": "code",
   "execution_count": 2,
   "id": "9cb2fc85",
   "metadata": {},
   "outputs": [],
   "source": [
    "def selcetOption():\n",
    "    print(\"1. Fill Student List.\")\n",
    "    print(\"2. Exit.\")\n",
    "    option=input(\"Select option: \")\n",
    "    return option"
   ]
  },
  {
   "cell_type": "markdown",
   "id": "15689c41",
   "metadata": {},
   "source": [
    "***if the user select option 1, the following function is excuted. This function ask user to give the student ID, Name, Homework , Exam 1, and Exam 2 califications. "
   ]
  },
  {
   "cell_type": "code",
   "execution_count": 3,
   "id": "401a2cba",
   "metadata": {},
   "outputs": [],
   "source": [
    "def createList():\n",
    "    Id=input(\"Matricula del alumno: \") \n",
    "    Name=input(\"Nombre del alumno: \")\n",
    "    while True:\n",
    "        HomeWork=input(\"Calificacion de Tareas del alumno: \")\n",
    "        if HomeWork.isnumeric():\n",
    "                     break\n",
    "        else:\n",
    "                     print('El valor usado no es numero')\n",
    "    while True:\n",
    "        Exam1=input(\"Calificacion del EXA1 del alumno: \")\n",
    "        if Exam1.isnumeric():\n",
    "                     break\n",
    "        else:\n",
    "                     print('El valor usado no es numero')                 \n",
    "    while True:\n",
    "        Exam2=input(\"Calificacion del EXA2 del alumno: \")\n",
    "        if Exam2.isnumeric():\n",
    "                     break\n",
    "        else:\n",
    "                     print('El valor usado no es numero')\n",
    "                     \n",
    "    lista_alumnos={'Id': Id ,\n",
    "                    'Name':Name,\n",
    "                    'HomeWork':HomeWork,\n",
    "                    'Exam1':Exam1,\n",
    "                    'Exam2':Exam2\n",
    "                           }\n",
    "    return lista_alumnos\n"
   ]
  },
  {
   "cell_type": "markdown",
   "id": "3115cb19",
   "metadata": {},
   "source": [
    "***This function is used to creat a list of student with entred information in *.xlsx file. "
   ]
  },
  {
   "cell_type": "code",
   "execution_count": 4,
   "id": "cde4deba",
   "metadata": {},
   "outputs": [],
   "source": [
    "def createArchivo(lista_alumnos):\n",
    "    df = pd.DataFrame(data=lista_alumnos,columns=['Id','Name','HomeWork','Exam1','Exam2'])\n",
    "    writer = pd.ExcelWriter('lista_alumnos.xlsx', engine='xlsxwriter')\n",
    "    df.to_excel(writer, sheet_name='page1', encoding='utf8', index=False)\n",
    "    writer.save()\n",
    "\n",
    "    "
   ]
  },
  {
   "cell_type": "markdown",
   "id": "042bf198",
   "metadata": {},
   "source": [
    "***This function is used to read the created *.xlsx file and go through it to calculate the final califiaction, which  presents the sum of (homeWork+Exam1+Exam2)/3  for each student and add a column with this  final calification value."
   ]
  },
  {
   "cell_type": "code",
   "execution_count": 5,
   "id": "7ac0c0da",
   "metadata": {},
   "outputs": [],
   "source": [
    "def finalCalif():\n",
    "    df = pd.read_excel('lista_alumnos.xlsx')\n",
    "    print(df )\n",
    "    sum=0\n",
    "    avrg=[]\n",
    "    for index, row in df.iterrows():\n",
    "        sum=(int(row['HomeWork'])+int(row['Exam1'])+int(row['Exam2']))/3\n",
    "        avrg.append(round(sum,2))\n",
    "    #print(avrg)\n",
    "    n=len(avrg)\n",
    "    df[\"FinalCali\"]=avrg\n",
    "    print(df )\n",
    "    return df\n"
   ]
  },
  {
   "cell_type": "markdown",
   "id": "fff79eb0",
   "metadata": {},
   "source": [
    "***This function is used to obtain the statiscal values for approved a no approved students considering the percentage value. "
   ]
  },
  {
   "cell_type": "code",
   "execution_count": 6,
   "id": "69fab408",
   "metadata": {},
   "outputs": [],
   "source": [
    "def statisricsCalcul(df):\n",
    "    n=len(df[\"FinalCali\"])\n",
    "    student_app=0\n",
    "    per_app=0\n",
    "    student_noapp=0\n",
    "    per_noapp=0\n",
    "    for index, row in df.iterrows():\n",
    "        if (int(row[\"FinalCali\"]))>=7:\n",
    "            student_app=student_app+1\n",
    "        else:\n",
    "            student_noapp=student_noapp+1\n",
    "    per_app=round((student_app/n)*100,2)\n",
    "    per_noapp=round((student_noapp/n)*100,2)\n",
    "    print(per_app,per_noapp) \n",
    "    return per_app, per_noapp"
   ]
  },
  {
   "cell_type": "markdown",
   "id": "acc80ab5",
   "metadata": {},
   "source": [
    "***This function is used to plot the barGhraph of the calculated percentages. "
   ]
  },
  {
   "cell_type": "code",
   "execution_count": 7,
   "id": "17c58ed7",
   "metadata": {},
   "outputs": [],
   "source": [
    "def plotStatics(results):\n",
    "\n",
    "    x = np.array([\"student_app\", \"student_noapp\"])\n",
    "    y = np.array([results[0], results[1]])\n",
    "\n",
    "    plt.bar(x[0],y[0],color='blue',label = \"Approved\")\n",
    "    plt.bar(x[1],y[1],color='red',label = \"not Approved\")\n",
    "    plt.xlabel('Students')\n",
    "    plt.ylabel('Perecentage (%)')\n",
    "    plt.legend()\n",
    "    plt.show()"
   ]
  },
  {
   "cell_type": "code",
   "execution_count": 8,
   "id": "06919015",
   "metadata": {},
   "outputs": [
    {
     "name": "stdout",
     "output_type": "stream",
     "text": [
      "1. Fill Student List.\n",
      "2. Exit.\n",
      "Select option: m\n",
      "Option not valid\n",
      "1. Fill Student List.\n",
      "2. Exit.\n",
      "Select option: 1\n",
      "Matricula del alumno: fg\n",
      "Nombre del alumno: Lrbi\n",
      "Calificacion de Tareas del alumno: 22\n",
      "Calificacion del EXA1 del alumno: 12\n",
      "Calificacion del EXA2 del alumno: 12\n",
      "[['fg', 'Lrbi', '22', '12', '12']]\n",
      "1. Fill Student List.\n",
      "2. Exit.\n",
      "Select option: 2\n"
     ]
    }
   ],
   "source": [
    "while True:\n",
    "    option=selcetOption()\n",
    "    if option=='1':\n",
    "        lista_alumnos=createList()\n",
    "        new_lista_alumnos.append(list(lista_alumnos.values()))\n",
    "        print(new_lista_alumnos)\n",
    "             \n",
    "    elif option=='2':\n",
    "        break\n",
    "    else:\n",
    "        print(\"Option not valid\")\n",
    "        \n"
   ]
  },
  {
   "cell_type": "code",
   "execution_count": 9,
   "id": "71267164",
   "metadata": {},
   "outputs": [],
   "source": [
    "createArchivo(new_lista_alumnos) \n"
   ]
  },
  {
   "cell_type": "code",
   "execution_count": 10,
   "id": "1954a49e",
   "metadata": {},
   "outputs": [
    {
     "name": "stdout",
     "output_type": "stream",
     "text": [
      "   Id  Name  HomeWork  Exam1  Exam2\n",
      "0  fg  Lrbi        22     12     12\n",
      "   Id  Name  HomeWork  Exam1  Exam2  FinalCali\n",
      "0  fg  Lrbi        22     12     12      15.33\n"
     ]
    }
   ],
   "source": [
    "df=finalCalif()\n"
   ]
  },
  {
   "cell_type": "code",
   "execution_count": 12,
   "id": "7e9a74fa",
   "metadata": {},
   "outputs": [
    {
     "name": "stdout",
     "output_type": "stream",
     "text": [
      "100.0 0.0\n"
     ]
    }
   ],
   "source": [
    "results=statisricsCalcul(df)\n"
   ]
  },
  {
   "cell_type": "code",
   "execution_count": 13,
   "id": "5e697aba",
   "metadata": {},
   "outputs": [
    {
     "data": {
      "image/png": "[encoded data removed]",
      "text/plain": [
       "<Figure size 432x288 with 1 Axes>"
      ]
     },
     "metadata": {
      "needs_background": "light"
     },
     "output_type": "display_data"
    }
   ],
   "source": [
    "plotStatics(results)"
   ]
  },
  {
   "cell_type": "code",
   "execution_count": null,
   "id": "06b78349",
   "metadata": {},
   "outputs": [],
   "source": []
  }
 ],
 "metadata": {
  "kernelspec": {
   "display_name": "Python 3",
   "language": "python",
   "name": "python3"
  },
  "language_info": {
   "codemirror_mode": {
    "name": "ipython",
    "version": 3
   },
   "file_extension": ".py",
   "mimetype": "text/x-python",
   "name": "python",
   "nbconvert_exporter": "python",
   "pygments_lexer": "ipython3",
   "version": "3.8.8"
  }
 },
 "nbformat": 4,
 "nbformat_minor": 5
}
