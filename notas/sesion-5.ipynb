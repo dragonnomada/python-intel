{
 "cells": [
  {
   "cell_type": "markdown",
   "source": [
    "# Sesión 5 - Otras colecciones\r\n",
    "\r\n",
    "## Introducción\r\n",
    "\r\n",
    "Ya hemos revisado de las colecciones de python las listas, sin embargo, recordemos que existen otras colecciones.\r\n",
    "\r\n",
    "* **Listas** - Sirven para almacenar elementos\r\n",
    "* **Tuplas** - Sirven para acoplar valores para transportarlos (paquetes / soportes)\r\n",
    "* **Direccionarios** - Sirven para unir valores mediante claves personalizadas (conjuntos / registros de tablas / hashes)"
   ],
   "metadata": {}
  },
  {
   "cell_type": "markdown",
   "source": [
    "## Tuplas\r\n",
    "\r\n",
    "Las tuplas son como paquetes que nos permiten agrupar valores en una misma entidad, por ejemplo, si queremos almacenar al mismo tiempo las coordenadas de una ubicación (`LATITUD`, `LONGITUD`), o si por ejemplo, quisieramos retener al mismo tiempo tres valores para formar un color (`R`, `G`, `B`).\r\n",
    "\r\n",
    "> **Sintaxis:** Acoplar una tupla `<tupla> = ( <valor_0>, <valor_1>, ..., <valor_k> )`\r\n",
    "\r\n",
    "> Ejemplos\r\n",
    "\r\n",
    "```py\r\n",
    "ubicacion = (98.678, -113.1643) # (<latitud>, <longitud>)\r\n",
    "\r\n",
    "color_rojo = (255, 0, 0) # (<canal red>, <canal green>, <canal blue>)\r\n",
    "\r\n",
    "persona = (\"Pepe\", 23) # (<nombre>, <edad>)\r\n",
    "```\r\n",
    "\r\n",
    "### ¿Para qué sirven las tuplas?\r\n",
    "\r\n",
    "Se dice que una tupla que acopla dos valores es una `2-tupla`, y una tupla que acopla tres valores es una `3-tupla`, en general si una tupla agrupa `k` valores le llamaremos `k-tupla`.\r\n",
    "\r\n",
    "Saber la cardinalidad de la tupla (por ejemplo `k` para una `k-tupla`) es esencial para poder desacoplarla.\r\n",
    "\r\n",
    "Cómo las tuplas son paquetes o soportes necesitamos poder acoplar y desacoplar estos paquetes fácilmente para poder transportarlos.\r\n",
    "\r\n",
    "> **Sintaxis:** `` Desacoplar una tupla `<valor_0>, <valor_1>, ..., <valor_k> = <k-tupla>`\r\n",
    "\r\n",
    "> Ejemplos\r\n",
    "\r\n",
    "```py\r\n",
    "lat, lon = ubicacion # lat = 98.678, lon = -113.1643\r\n",
    "\r\n",
    "r, g, b = color_rojo # r = 255, g = 0, b = 0\r\n",
    "\r\n",
    "nombre, edad = persona # nombre = \"Pepe\", edad = 23\r\n",
    "```\r\n",
    "\r\n",
    "### Ejemplo Real\r\n",
    "\r\n",
    "Imagina que defines una función que recibe los datos de dos ubicaciones para poder devolver la distancia entre ellas, entonces, la función tendría que recibir 4 parámetros (lat1, lon1, lat2, lon2), o podría simplemente recibir dos tuplas de tipo `2-tupla` que acoplen los valores de cada ubicación (ubicacion1, ubicación).\r\n",
    "\r\n",
    "> Ejemplo - Medir la distancia entre dos ubicaciones (`latitud`, `longitud`)\r\n",
    "\r\n",
    "```py\r\n",
    "def distanciaUbicaciones(ubicacion1, ubicacion2):\r\n",
    "    lat1, lon1 = ubicacion1 \r\n",
    "    lat2, lon2 = ubicacion2\r\n",
    "\r\n",
    "    # TODO: Calcula la distancia tomando en cuenta el radio de la tierra\r\n",
    "```\r\n",
    "\r\n",
    "> Ejemplo - Calcular el centro geométrico de un polígono (Cada punto del polígono tiene `x`, `y`)\r\n",
    "\r\n",
    "```py\r\n",
    "def centroPoligono(poligono):\r\n",
    "    sx = 0\r\n",
    "    sy = 0\r\n",
    "    for punto in poligono:\r\n",
    "        x, y = punto\r\n",
    "        sx = sx + x\r\n",
    "        sy = sy + y\r\n",
    "    cx = sx / len(poligono)\r\n",
    "    cy = sy / len(poligono)\r\n",
    "    return (cx, cy)\r\n",
    "\r\n",
    "a, b = centroPoligono([ (1, 1), (1, 2), (2, 2), (2, 1) ])\r\n",
    "\r\n",
    "print(\"El centro es ({}, {})\".format(a, b))\r\n",
    "```"
   ],
   "metadata": {}
  },
  {
   "cell_type": "markdown",
   "source": [
    "## Ejemplo - Generar un color aleatorio\r\n",
    "\r\n",
    "Algunos sistemas de aplicaciones de diseño como CSS y HTML pueden pintar colores bajo la sintaxis de `rgb(255, 0, 43)` o bajo `#FF00B3` y de esa forma usar el color.\r\n",
    "\r\n",
    "> Ejemplo: Colocar el fondo rojo en CSS\r\n",
    "\r\n",
    "```css\r\n",
    "body {\r\n",
    "    background-color: rgb(255, 0, 0);\r\n",
    "}\r\n",
    "```\r\n",
    "\r\n",
    "> Ejemplo: Colocar el color de texto a azul en HTML\r\n",
    "\r\n",
    "```html\r\n",
    "<span style=\"color: #0000FF\">Hola mundo</span>\r\n",
    "```\r\n",
    "\r\n",
    "Se requiere una función que genere un color aleatorio tipo `rgb` y otra función que genere un color tipo `hexadecimal`."
   ],
   "metadata": {}
  },
  {
   "cell_type": "code",
   "execution_count": 6,
   "source": [
    "import random\r\n",
    "\r\n",
    "def generarColor():\r\n",
    "    r = random.randint(0, 255)\r\n",
    "    g = random.randint(0, 255)\r\n",
    "    b = random.randint(0, 255)\r\n",
    "    return (r, g, b)\r\n",
    "\r\n",
    "color = generarColor()\r\n",
    "\r\n",
    "print(color)"
   ],
   "outputs": [
    {
     "output_type": "stream",
     "name": "stdout",
     "text": [
      "(140, 243, 189)\n"
     ]
    }
   ],
   "metadata": {}
  },
  {
   "cell_type": "code",
   "execution_count": 7,
   "source": [
    "def colorARGB(color):\r\n",
    "    r, g, b = color\r\n",
    "    return \"rgb({}, {}, {})\".format(r, g, b)\r\n",
    "\r\n",
    "print( colorARGB(color) )"
   ],
   "outputs": [
    {
     "output_type": "stream",
     "name": "stdout",
     "text": [
      "rgb(140, 243, 189)\n"
     ]
    }
   ],
   "metadata": {}
  },
  {
   "cell_type": "code",
   "execution_count": 14,
   "source": [
    "def colorAHex(color):\r\n",
    "    r, g, b = color\r\n",
    "    rh = hex(r)[-2:].replace(\"x\", \"0\") # \"0xff\" -> [-2:] -> \"ff\"\r\n",
    "    gh = hex(g)[-2:].replace(\"x\", \"0\") # \"0x2b\" -> [-2:] -> \"2b\"\r\n",
    "    bh = hex(b)[-2:].replace(\"x\", \"0\") # \"0x74\" -> [-2:] -> \"74\"\r\n",
    "    return \"#{}{}{}\".format(rh, gh, bh).upper()\r\n",
    "\r\n",
    "print( colorAHex(color) )"
   ],
   "outputs": [
    {
     "output_type": "stream",
     "name": "stdout",
     "text": [
      "#CA9470\n"
     ]
    }
   ],
   "metadata": {}
  },
  {
   "cell_type": "code",
   "execution_count": 15,
   "source": [
    "for i in range(10):\r\n",
    "    color = generarColor()\r\n",
    "    print( colorAHex( color ), colorARGB(color) )"
   ],
   "outputs": [
    {
     "output_type": "stream",
     "name": "stdout",
     "text": [
      "#0125A1 rgb(1, 37, 161)\n",
      "#89A1E8 rgb(137, 161, 232)\n",
      "#DEAB67 rgb(222, 171, 103)\n",
      "#361E9F rgb(54, 30, 159)\n",
      "#0D5814 rgb(13, 88, 20)\n",
      "#640A01 rgb(100, 10, 1)\n",
      "#17FFD5 rgb(23, 255, 213)\n",
      "#78D26E rgb(120, 210, 110)\n",
      "#E054B0 rgb(224, 84, 176)\n",
      "#9F7799 rgb(159, 119, 153)\n"
     ]
    }
   ],
   "metadata": {}
  },
  {
   "cell_type": "markdown",
   "source": [
    "## Diccionarios\r\n",
    "\r\n",
    "Los diccionarios son una colección que nos permite agrupar valores mediante claves personalizadas. Esto evita tener que recordar la posición dónde los datos fueron guardados. Es similar a una tupla en el sentido de se agrupan valores en una misma entidad, pero resuleve el problema de hacer complejo el acceso a la información.\r\n",
    "\r\n",
    "Son útiles sobre todo cuándo la entidad puede cambiar, o cuándo se tienen más de 3 campos complicados.\r\n",
    "\r\n",
    "> **Sintaxis:** Crear un diccionario `<entidad> = { <clave_1>: <valor_1>, <clave_2>: <valor_2>, ..., <clave_k>: <valor_k> }`\r\n",
    "\r\n",
    "> Ejemplos\r\n",
    "\r\n",
    "```py\r\n",
    "persona = {\r\n",
    "    \"nombre\": \"Pepe\",\r\n",
    "    \"edad\": 23,\r\n",
    "    \"casado\": True,\r\n",
    "    \"frutas_favoritas\": [\"mango\", \"kiwi\"]\r\n",
    "}\r\n",
    "\r\n",
    "# Cuándo son hasta 3 campos, lo mejor es usar una tupla, para ahorrar sintaxis más complicada\r\n",
    "ubicacion = { \"latitud\": 98.678, \"longitud\": -113.456 }\r\n",
    "\r\n",
    "# No vale el esfuerzo para pocos campos\r\n",
    "punto = {\r\n",
    "    \"x\": 1,\r\n",
    "    \"y\": 5\r\n",
    "}\r\n",
    "\r\n",
    "producto = {\r\n",
    "    \"nombre\": \"Coca Cola\",\r\n",
    "    \"descripcion\": \"Refresco de Cola\",\r\n",
    "    \"precio\": 14.5,\r\n",
    "    \"existencias\": 12,\r\n",
    "    \"agotado\": True\r\n",
    "}\r\n",
    "```\r\n",
    "\r\n",
    "> **Sintaxis:** Acceder a los valores del diccionario `<entidad>[<clave_j>] -> <valor_j>`\r\n",
    "\r\n",
    "```py\r\n",
    "print(\"Se llama {} y tiene {} años\".format(persona[\"nombre\"], persona[\"edad\"]))\r\n",
    "\r\n",
    "print(\"({}, {})\".format(punto[\"x\"], punto[\"y\"]))\r\n",
    "\r\n",
    "print(\"Producto: {} ${:.2f}\".format(producto[\"nombre\"], producto[\"precio\"]))\r\n",
    "```\r\n",
    "\r\n",
    "* **IMPORTANTE:** Si se intenta recuperar el valor de una clave que no existe, se producirá un error, por ejemplo, `persona[\"precio\"]`.\r\n",
    "\r\n",
    "> **Sintaxis:** Agregar dinámicamente claves y valores `<entidad> = {} ~ <entidad>[<clave_x>] = <valor_x>`\r\n",
    "\r\n",
    "```py\r\n",
    "persona = {}\r\n",
    "\r\n",
    "persona[\"nombre\"] = input(\"Dame el nombre: \")\r\n",
    "persona[\"edad\"] = int( input(\"Dame la edad: \") )\r\n",
    "persona[\"casado\"] = input(\"Dame si es casado (S/N): \").upper() == \"S\"\r\n",
    "persona[\"frutas\"] = []\r\n",
    "\r\n",
    "while True:\r\n",
    "    fruta = input(\"Dame una fruta de su gusto: \")\r\n",
    "    persona[\"frutas\"].append(fruta)\r\n",
    "\r\n",
    "    terminar = input(\"¿Agregar otra? (S/N)\").upper() == \"N\"\r\n",
    "\r\n",
    "    if terminar:\r\n",
    "        break\r\n",
    "\r\n",
    "if \"precio\" in persona:\r\n",
    "    print(\"La persona tiene un precio :O\")\r\n",
    "    print(\"El precio de la persona es {}\".format(persona[\"precio\"]))\r\n",
    "```"
   ],
   "metadata": {}
  },
  {
   "cell_type": "markdown",
   "source": [
    "## Ejemplo - Generar los datos de una persona aleatoriamente\r\n",
    "\r\n",
    "Se requiere crear una función que genere valores aleatorio de una persona."
   ],
   "metadata": {}
  },
  {
   "cell_type": "code",
   "execution_count": 30,
   "source": [
    "import random\r\n",
    "\r\n",
    "def generarPersona():\r\n",
    "    nombres = [\"Ana\", \"Pepe\", \"Paco\", \"Beto\", \"Karla\", \"Faby\", \"Geras\"]\r\n",
    "    nombre = random.choice(nombres)\r\n",
    "    \r\n",
    "    # edad = random.randint(1, 99)\r\n",
    "    edad = int( random.normalvariate(18, 10) )\r\n",
    "    \r\n",
    "    if edad <= 0:\r\n",
    "        edad = 1\r\n",
    "    \r\n",
    "    casado = random.random() > 0.2\r\n",
    "    \r\n",
    "    todas_frutas = [\"melón\", \"papaya\", \"sandía\", \"mango\", \"guayaba\", \"aguacate\"]\r\n",
    "    \r\n",
    "    # frutas = random.choices(todas_frutas, k=3)\r\n",
    "    frutas = random.choices(todas_frutas, k=random.randint(1, 4))\r\n",
    "    \r\n",
    "    return {\r\n",
    "        \"nombre\": nombre,\r\n",
    "        \"edad\": edad,\r\n",
    "        \"casado\": casado,\r\n",
    "        \"frutas_favoritas\": frutas\r\n",
    "    }\r\n",
    "    \r\n",
    "generarPersona()"
   ],
   "outputs": [
    {
     "output_type": "execute_result",
     "data": {
      "text/plain": [
       "{'nombre': 'Ana',\n",
       " 'edad': 1,\n",
       " 'casado': False,\n",
       " 'frutas_favoritas': ['sandía', 'guayaba']}"
      ]
     },
     "metadata": {},
     "execution_count": 30
    }
   ],
   "metadata": {}
  },
  {
   "cell_type": "code",
   "execution_count": 31,
   "source": [
    "for i in range(10):\r\n",
    "    print( generarPersona() )"
   ],
   "outputs": [
    {
     "output_type": "stream",
     "name": "stdout",
     "text": [
      "{'nombre': 'Beto', 'edad': 36, 'casado': True, 'frutas_favoritas': ['sandía']}\n",
      "{'nombre': 'Ana', 'edad': 20, 'casado': True, 'frutas_favoritas': ['aguacate', 'aguacate']}\n",
      "{'nombre': 'Geras', 'edad': 18, 'casado': False, 'frutas_favoritas': ['papaya', 'sandía', 'aguacate']}\n",
      "{'nombre': 'Karla', 'edad': 6, 'casado': True, 'frutas_favoritas': ['sandía', 'mango']}\n",
      "{'nombre': 'Karla', 'edad': 24, 'casado': True, 'frutas_favoritas': ['melón']}\n",
      "{'nombre': 'Geras', 'edad': 18, 'casado': False, 'frutas_favoritas': ['aguacate']}\n",
      "{'nombre': 'Pepe', 'edad': 7, 'casado': True, 'frutas_favoritas': ['guayaba', 'mango']}\n",
      "{'nombre': 'Ana', 'edad': 19, 'casado': True, 'frutas_favoritas': ['guayaba', 'aguacate', 'guayaba']}\n",
      "{'nombre': 'Karla', 'edad': 16, 'casado': True, 'frutas_favoritas': ['aguacate', 'aguacate', 'mango', 'guayaba']}\n",
      "{'nombre': 'Paco', 'edad': 23, 'casado': False, 'frutas_favoritas': ['guayaba']}\n"
     ]
    }
   ],
   "metadata": {}
  },
  {
   "cell_type": "code",
   "execution_count": 36,
   "source": [
    "personas = []\r\n",
    "\r\n",
    "for i in range(100):\r\n",
    "    personas.append( generarPersona() )\r\n",
    "    \r\n",
    "total_casados = 0\r\n",
    "total_edades = 0\r\n",
    "\r\n",
    "# `personas` es una lista de diccionarios, una para cada persona, [ { \"nombre\", ... }, { \"nombre\", ... }, ... ]\r\n",
    "# `persona` es un diccionario con la claves { \"nombre\", \"edad\", \"casado\", \"frutas_favoritas\" }\r\n",
    "for persona in personas:\r\n",
    "    if persona[\"casado\"]:\r\n",
    "        total_casados = total_casados + 1\r\n",
    "        \r\n",
    "    total_edades = total_edades + persona[\"edad\"]\r\n",
    "        \r\n",
    "print(\"Casados {} / {}\".format(total_casados, len(personas)))\r\n",
    "print(\"Edad Promedio {:.3f}\".format(total_edades / len(personas)))"
   ],
   "outputs": [
    {
     "output_type": "stream",
     "name": "stdout",
     "text": [
      "Casados 77 / 100\n",
      "Edad Promedio 18.430\n"
     ]
    }
   ],
   "metadata": {}
  },
  {
   "cell_type": "markdown",
   "source": [
    "## Ejercicios\r\n",
    "\r\n",
    "### 1. Crea una `3-tupla` que almacene los valores de la `edad`, `peso` y `estatura` de una persona (`<biometricos>`)\r\n",
    "\r\n",
    "### 2. Crea una función llamada `calcularIMC(<biometricos (tupla)>)` que devuelve al IMC de la persona dada la `3-tupla` de biométricos\r\n",
    "\r\n",
    "### 3. Crea un diccionario llamado `biomatricos` que guarde `edad`, `peso`, `estatura`, `tipo_sangre`\r\n",
    "\r\n",
    "### 4. Crea una función llamada `reporteBiometricos(<biometricos (diccionario)>)` que imprima un reporte del diccionario de biométricos\r\n",
    "\r\n",
    "> Ejemplo del reporte a imprimir\r\n",
    "\r\n",
    "```txt\r\n",
    "+ --------------- + --------- +\r\n",
    "| Biométrico      | Valor     |\r\n",
    "+ --------------- + --------- +\r\n",
    "| Edad            |   18 años |\r\n",
    "| Peso            |     72 kg |\r\n",
    "| Estatura        |    1.68 m |\r\n",
    "| Tipo Sangre     |        O+ |\r\n",
    "+ --------------- + --------- +\r\n",
    "```"
   ],
   "metadata": {}
  },
  {
   "cell_type": "markdown",
   "source": [],
   "metadata": {}
  }
 ],
 "metadata": {
  "orig_nbformat": 4,
  "language_info": {
   "name": "python",
   "version": "3.9.6",
   "mimetype": "text/x-python",
   "codemirror_mode": {
    "name": "ipython",
    "version": 3
   },
   "pygments_lexer": "ipython3",
   "nbconvert_exporter": "python",
   "file_extension": ".py"
  },
  "kernelspec": {
   "name": "python3",
   "display_name": "Python 3.9.6 64-bit"
  },
  "interpreter": {
   "hash": "63fd5069d213b44bf678585dea6b12cceca9941eaf7f819626cde1f2670de90d"
  }
 },
 "nbformat": 4,
 "nbformat_minor": 2
}