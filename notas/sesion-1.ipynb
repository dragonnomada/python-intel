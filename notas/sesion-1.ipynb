{
 "cells": [
  {
   "cell_type": "markdown",
   "source": [
    "# Introducción a Python\n",
    "\n",
    "## ¿Qué es la programación?\n",
    "\n",
    "> `Reducir lógica para resolver problemas mediante máquinas`\n",
    "\n",
    "> `Es la forma de definir código a través de un lenguaje computable`"
   ],
   "metadata": {
    "papermill": {
     "duration": 0.020623,
     "end_time": "2021-08-27T15:01:34.601848",
     "exception": false,
     "start_time": "2021-08-27T15:01:34.581225",
     "status": "completed"
    },
    "tags": []
   }
  },
  {
   "cell_type": "markdown",
   "source": [
    "## Algoritmos\n",
    "\n",
    "> `Son procesos secuenciales definidos que guían un flujo de operaciones`\n",
    "\n",
    "> `Sentencia` - Instrucción limitada para la máquina\n",
    "\n",
    "> `Expresión` - Aritmética y Lógica\n",
    "\n",
    "> `Asignación` - Es retener valores en variables (etiquetas de memoria)\n",
    "\n",
    "> `Llamado a la función` - Pasa parámetros a una función definida para obtener un único resultado\n",
    "\n",
    "> `Condicional` - Es una estructura que permite ejecutar bloques de código basado en condiciones (valores lógicos)\n",
    "\n",
    "> `Iterador` - Es una estructura que permite repetir un bloque con acceso a un elemento (iterando) tomado desde una secuencia (iterable) para cada elemento\n",
    "\n",
    "> `Ciclo Condicional` - Es una estructura que permite repetir un bloque basado en una condición"
   ],
   "metadata": {
    "papermill": {
     "duration": 0.019123,
     "end_time": "2021-08-27T15:01:34.640859",
     "exception": false,
     "start_time": "2021-08-27T15:01:34.621736",
     "status": "completed"
    },
    "tags": []
   }
  },
  {
   "cell_type": "markdown",
   "source": [
    "### Ejemplos\n",
    "\n",
    "> Ordenar una lista de números de forma ascendente\n",
    "\n",
    "```text\n",
    "Entrada: 5, 4, 6, 3, 7, 2, 1, 8\n",
    "\n",
    "Salida: 1, 2, 3, 4, 5, 6, 7, 8\n",
    "\n",
    "---\n",
    "(1)\n",
    "5, 4, 6, 3, 7, 2, (1), 8 -> []\n",
    "5, 4, 6, 3, 7, 2, (1), 8 -> [1]\n",
    "5, 4, 6, 3, 7, 2, 8 -> [1]\n",
    "5, 4, 6, 3, 7, 2, 8 -> [1] 1\n",
    "\n",
    "(2)\n",
    "5, 4, 6, 3, 7, (2), 8 -> []\n",
    "5, 4, 6, 3, 7, (2), 8 -> [2]\n",
    "5, 4, 6, 3, 7, 8 -> [2]\n",
    "5, 4, 6, 3, 7, 8 -> [2] 1, 2\n",
    "\n",
    "(3)\n",
    "5, 4, 6, (3), 7, 8 -> []\n",
    "5, 4, 6, (3), 7, 8 -> [3]\n",
    "5, 4, 6, 7, 8 -> [3]\n",
    "5, 4, 6, 7, 8 -> [3] 1, 2, 3\n",
    "\n",
    "...\n",
    "\n",
    "(N = 8)\n",
    "(8) -> [] 1, 2, 3, 4, 5, 6, 7\n",
    "(8) -> [8] 1, 2, 3, 4, 5, 6, 7\n",
    ". -> [8] 1, 2, 3, 4, 5, 6, 7\n",
    ". -> [8] 1, 2, 3, 4, 5, 6, 7, 8\n",
    "\n",
    "# REPITE N VECES:\n",
    "    # 1. Buscar el menor en la lista de entrada\n",
    "    # 2. Retener el menor en una variable\n",
    "    # 3. Quitar el menor de la lista de entrada\n",
    "    # 4. Agregar el menor a la lista de salida\n",
    "```"
   ],
   "metadata": {
    "papermill": {
     "duration": 0.018976,
     "end_time": "2021-08-27T15:01:34.679324",
     "exception": false,
     "start_time": "2021-08-27T15:01:34.660348",
     "status": "completed"
    },
    "tags": []
   }
  },
  {
   "cell_type": "markdown",
   "source": [
    "#### Solución en Python"
   ],
   "metadata": {
    "papermill": {
     "duration": 0.018898,
     "end_time": "2021-08-27T15:01:34.717588",
     "exception": false,
     "start_time": "2021-08-27T15:01:34.698690",
     "status": "completed"
    },
    "tags": []
   }
  },
  {
   "cell_type": "code",
   "execution_count": 2,
   "source": [
    "# Entrada: Lista de números no ordenados\r\n",
    "listaEntrada = [5, 4, 6, 3, 7, 2, 1, 8]\r\n",
    "# Salida: Lista de números ordenados, inicialmente vacía\r\n",
    "listaSalida = []\r\n",
    "\r\n",
    "# Obtenemos el número de elementos en la lista (tamaño de la lista)\r\n",
    "N = len(listaEntrada)\r\n",
    "\r\n",
    "print(listaEntrada)\r\n",
    "\r\n",
    "print(\"Tenemos\", N, \"números\")\r\n",
    "\r\n",
    "# Repite un bloque N veces\r\n",
    "for i in range(N):\r\n",
    "    menor = min(listaEntrada)\r\n",
    "    listaEntrada.remove(menor)\r\n",
    "    listaSalida.append(menor)\r\n",
    "\r\n",
    "print(listaSalida)"
   ],
   "outputs": [
    {
     "output_type": "stream",
     "name": "stdout",
     "text": [
      "[5, 4, 6, 3, 7, 2, 1, 8]\n",
      "Tenemos 8 números\n",
      "[1, 2, 3, 4, 5, 6, 7, 8]\n"
     ]
    }
   ],
   "metadata": {
    "execution": {
     "iopub.execute_input": "2021-08-27T15:01:34.769856Z",
     "iopub.status.busy": "2021-08-27T15:01:34.768831Z",
     "iopub.status.idle": "2021-08-27T15:01:34.775142Z",
     "shell.execute_reply": "2021-08-27T15:01:34.774192Z",
     "shell.execute_reply.started": "2021-08-27T13:51:52.318072Z"
    },
    "papermill": {
     "duration": 0.038819,
     "end_time": "2021-08-27T15:01:34.775442",
     "exception": false,
     "start_time": "2021-08-27T15:01:34.736623",
     "status": "completed"
    },
    "tags": []
   }
  },
  {
   "cell_type": "markdown",
   "source": [
    "## Sintaxis de Python"
   ],
   "metadata": {
    "papermill": {
     "duration": 0.020572,
     "end_time": "2021-08-27T15:01:34.816553",
     "exception": false,
     "start_time": "2021-08-27T15:01:34.795981",
     "status": "completed"
    },
    "tags": []
   }
  },
  {
   "cell_type": "markdown",
   "source": [
    "> **Variables** - `<nombre> = <valor>`"
   ],
   "metadata": {
    "papermill": {
     "duration": 0.019387,
     "end_time": "2021-08-27T15:01:34.856061",
     "exception": false,
     "start_time": "2021-08-27T15:01:34.836674",
     "status": "completed"
    },
    "tags": []
   }
  },
  {
   "cell_type": "code",
   "execution_count": 3,
   "source": [
    "# Retener la edad de una persona\r\n",
    "\r\n",
    "# Entero\r\n",
    "edad = 23\r\n",
    "\r\n",
    "# Decimal (Flotante)\r\n",
    "peso = 45.5\r\n",
    "\r\n",
    "# Decimal (Flotante)\r\n",
    "estatura = 1.72\r\n",
    "    \r\n",
    "# Texto\r\n",
    "nombre = \"John\"\r\n",
    "\r\n",
    "# Texto\r\n",
    "apellido_paterno = 'Doe'\r\n",
    "\r\n",
    "# Texto\r\n",
    "apellidoMaterno = \"\"\"Gómez\"\"\"\r\n",
    "\r\n",
    "# Valor Lógico Verdadero (Booleano / Predicados)\r\n",
    "esCasado = True\r\n",
    "\r\n",
    "# Valor Lógico Falso (Booleano / Predicados)\r\n",
    "esEstudiante = False\r\n",
    "\r\n",
    "# Complejo (Real + Imaginaria)\r\n",
    "vibra = 123 + 45j\r\n",
    "\r\n",
    "# Nulo (No definido)\r\n",
    "direccion = None\r\n",
    "\r\n",
    "# Lista de elementos (Elemento: <valor>)\r\n",
    "frutas = [\"mango\", \"pera\", \"fresa\"]\r\n",
    "\r\n",
    "# Diccionario (<clave> : <valor>)\r\n",
    "calificaciones = { \"matematicas\": 8, \"fisica\": 10, \"español\": 7, \"educacion_fisica\": 5 }\r\n",
    "\r\n",
    "# Tupla (2-tupla / 2-acople <valor>, <valor>)\r\n",
    "ubicacion = (99.67, -113.76)"
   ],
   "outputs": [],
   "metadata": {
    "execution": {
     "iopub.execute_input": "2021-08-27T15:01:34.899582Z",
     "iopub.status.busy": "2021-08-27T15:01:34.898593Z",
     "iopub.status.idle": "2021-08-27T15:01:34.905371Z",
     "shell.execute_reply": "2021-08-27T15:01:34.905813Z",
     "shell.execute_reply.started": "2021-08-27T14:04:44.383952Z"
    },
    "papermill": {
     "duration": 0.030118,
     "end_time": "2021-08-27T15:01:34.906005",
     "exception": false,
     "start_time": "2021-08-27T15:01:34.875887",
     "status": "completed"
    },
    "tags": []
   }
  },
  {
   "cell_type": "code",
   "execution_count": 4,
   "source": [
    "title = \"Reporte de Ventas\"\r\n",
    "\r\n",
    "print(\"+-- {:^72} --+\".format(title))\r\n",
    "print(\"|\" + \" \" * 78 + \"|\")\r\n",
    "print(\"|\" + \" \" * 78 + \"|\")\r\n",
    "print(\"|\" + \" \" * 78 + \"|\")\r\n",
    "print(\"+\" + \"-\" * 78 + \"+\")\r\n",
    "\r\n",
    "# len(\"--- {:52} ---\".format(title))"
   ],
   "outputs": [
    {
     "output_type": "stream",
     "name": "stdout",
     "text": [
      "+--                            Reporte de Ventas                             --+\n",
      "|                                                                              |\n",
      "|                                                                              |\n",
      "|                                                                              |\n",
      "+------------------------------------------------------------------------------+\n"
     ]
    }
   ],
   "metadata": {
    "execution": {
     "iopub.execute_input": "2021-08-27T15:01:34.948750Z",
     "iopub.status.busy": "2021-08-27T15:01:34.947756Z",
     "iopub.status.idle": "2021-08-27T15:01:34.955158Z",
     "shell.execute_reply": "2021-08-27T15:01:34.955866Z",
     "shell.execute_reply.started": "2021-08-27T14:27:46.316470Z"
    },
    "papermill": {
     "duration": 0.030455,
     "end_time": "2021-08-27T15:01:34.956146",
     "exception": false,
     "start_time": "2021-08-27T15:01:34.925691",
     "status": "completed"
    },
    "tags": []
   }
  },
  {
   "cell_type": "markdown",
   "source": [
    "> **Condicionales** - `if <condición>: <bloque> [elif <condición 2>: <bloque 2>] ... [elif <condición N>: <bloque N>] [else: <bloque negado>]`"
   ],
   "metadata": {
    "execution": {
     "iopub.execute_input": "2021-08-27T14:06:25.288029Z",
     "iopub.status.busy": "2021-08-27T14:06:25.287424Z",
     "iopub.status.idle": "2021-08-27T14:06:25.295962Z",
     "shell.execute_reply": "2021-08-27T14:06:25.294577Z",
     "shell.execute_reply.started": "2021-08-27T14:06:25.287945Z"
    },
    "papermill": {
     "duration": 0.019337,
     "end_time": "2021-08-27T15:01:34.996635",
     "exception": false,
     "start_time": "2021-08-27T15:01:34.977298",
     "status": "completed"
    },
    "tags": []
   }
  },
  {
   "cell_type": "code",
   "execution_count": 5,
   "source": [
    "if True:\r\n",
    "    print(\"Esto sí se imprime\")"
   ],
   "outputs": [
    {
     "output_type": "stream",
     "name": "stdout",
     "text": [
      "Esto sí se imprime\n"
     ]
    }
   ],
   "metadata": {
    "execution": {
     "iopub.execute_input": "2021-08-27T15:01:35.040467Z",
     "iopub.status.busy": "2021-08-27T15:01:35.039822Z",
     "iopub.status.idle": "2021-08-27T15:01:35.042402Z",
     "shell.execute_reply": "2021-08-27T15:01:35.042984Z",
     "shell.execute_reply.started": "2021-08-27T14:07:22.606640Z"
    },
    "papermill": {
     "duration": 0.026931,
     "end_time": "2021-08-27T15:01:35.043153",
     "exception": false,
     "start_time": "2021-08-27T15:01:35.016222",
     "status": "completed"
    },
    "tags": []
   }
  },
  {
   "cell_type": "code",
   "execution_count": 6,
   "source": [
    "if False:\r\n",
    "    print(\"Esto no se imprime\")\r\n",
    "else:\r\n",
    "    print(\"¡Te lo dije!\")"
   ],
   "outputs": [
    {
     "output_type": "stream",
     "name": "stdout",
     "text": [
      "¡Te lo dije!\n"
     ]
    }
   ],
   "metadata": {
    "execution": {
     "iopub.execute_input": "2021-08-27T15:01:35.087021Z",
     "iopub.status.busy": "2021-08-27T15:01:35.086392Z",
     "iopub.status.idle": "2021-08-27T15:01:35.091174Z",
     "shell.execute_reply": "2021-08-27T15:01:35.091805Z",
     "shell.execute_reply.started": "2021-08-27T14:07:55.005361Z"
    },
    "papermill": {
     "duration": 0.028123,
     "end_time": "2021-08-27T15:01:35.092024",
     "exception": false,
     "start_time": "2021-08-27T15:01:35.063901",
     "status": "completed"
    },
    "tags": []
   }
  },
  {
   "cell_type": "code",
   "execution_count": 7,
   "source": [
    "if 5 > 3:\r\n",
    "    print(\"5 > 3\")"
   ],
   "outputs": [
    {
     "output_type": "stream",
     "name": "stdout",
     "text": [
      "5 > 3\n"
     ]
    }
   ],
   "metadata": {
    "execution": {
     "iopub.execute_input": "2021-08-27T15:01:35.136647Z",
     "iopub.status.busy": "2021-08-27T15:01:35.135960Z",
     "iopub.status.idle": "2021-08-27T15:01:35.142319Z",
     "shell.execute_reply": "2021-08-27T15:01:35.141374Z",
     "shell.execute_reply.started": "2021-08-27T14:08:20.997090Z"
    },
    "papermill": {
     "duration": 0.029398,
     "end_time": "2021-08-27T15:01:35.142603",
     "exception": false,
     "start_time": "2021-08-27T15:01:35.113205",
     "status": "completed"
    },
    "tags": []
   }
  },
  {
   "cell_type": "code",
   "execution_count": 8,
   "source": [
    "if 5 > 10:\r\n",
    "    print(\"5 > 10\")\r\n",
    "else:\r\n",
    "    print(\"5 <= 10\")"
   ],
   "outputs": [
    {
     "output_type": "stream",
     "name": "stdout",
     "text": [
      "5 <= 10\n"
     ]
    }
   ],
   "metadata": {
    "execution": {
     "iopub.execute_input": "2021-08-27T15:01:35.190654Z",
     "iopub.status.busy": "2021-08-27T15:01:35.189985Z",
     "iopub.status.idle": "2021-08-27T15:01:35.192647Z",
     "shell.execute_reply": "2021-08-27T15:01:35.193306Z",
     "shell.execute_reply.started": "2021-08-27T14:08:47.899949Z"
    },
    "papermill": {
     "duration": 0.028988,
     "end_time": "2021-08-27T15:01:35.193556",
     "exception": false,
     "start_time": "2021-08-27T15:01:35.164568",
     "status": "completed"
    },
    "tags": []
   }
  },
  {
   "cell_type": "code",
   "execution_count": 9,
   "source": [
    "a = 123\r\n",
    "b = 456\r\n",
    "\r\n",
    "if a < b:\r\n",
    "    print(\"a < b\")\r\n",
    "else:\r\n",
    "    print(\"a >= b\")"
   ],
   "outputs": [
    {
     "output_type": "stream",
     "name": "stdout",
     "text": [
      "a < b\n"
     ]
    }
   ],
   "metadata": {
    "execution": {
     "iopub.execute_input": "2021-08-27T15:01:35.240788Z",
     "iopub.status.busy": "2021-08-27T15:01:35.240094Z",
     "iopub.status.idle": "2021-08-27T15:01:35.245831Z",
     "shell.execute_reply": "2021-08-27T15:01:35.246489Z",
     "shell.execute_reply.started": "2021-08-27T14:09:39.242199Z"
    },
    "papermill": {
     "duration": 0.030784,
     "end_time": "2021-08-27T15:01:35.246676",
     "exception": false,
     "start_time": "2021-08-27T15:01:35.215892",
     "status": "completed"
    },
    "tags": []
   }
  },
  {
   "cell_type": "code",
   "execution_count": 10,
   "source": [
    "a = int( input(\"Dame el valor de a:\") )\r\n",
    "b = float( input(\"Dame el valor de b:\") )\r\n",
    "\r\n",
    "if a < b:\r\n",
    "    print(\"a < b\")\r\n",
    "else:\r\n",
    "    print(\"a >= b\")"
   ],
   "outputs": [
    {
     "output_type": "stream",
     "name": "stdout",
     "text": [
      "a >= b\n"
     ]
    }
   ],
   "metadata": {
    "execution": {
     "iopub.execute_input": "2021-08-27T15:01:35.302553Z",
     "iopub.status.busy": "2021-08-27T15:01:35.301692Z",
     "iopub.status.idle": "2021-08-27T15:01:35.371886Z",
     "shell.execute_reply": "2021-08-27T15:01:35.369874Z",
     "shell.execute_reply.started": "2021-08-27T14:10:37.242784Z"
    },
    "papermill": {
     "duration": 0.101241,
     "end_time": "2021-08-27T15:01:35.372214",
     "exception": true,
     "start_time": "2021-08-27T15:01:35.270973",
     "status": "failed"
    },
    "tags": []
   }
  },
  {
   "cell_type": "code",
   "execution_count": 11,
   "source": [
    "# float( <texto> ) -> <número>\r\n",
    "# input( <mensaje> ) -> <texto>\r\n",
    "# float ( input ( \"Pide algo:\" ) ) -> <número>\r\n",
    "peso = float( input(\"Dame el peso\") )\r\n",
    "estatura = float( input(\"Dame la estatura\") )\r\n",
    "\r\n",
    "imc = peso / estatura ** 2\r\n",
    "\r\n",
    "# Evalucación en cascada (comprueba la condición y sino se cumple va con la siguiente)\r\n",
    "if imc < 24.5: # ¿Se cumple? -> Ejecuta\r\n",
    "    print(\"Peso bajo\", imc)\r\n",
    "elif imc < 28: # ¿Se cumple? -> Ejecuta\r\n",
    "    print(\"Peso normal\", imc)\r\n",
    "elif imc < 30: # ¿Se cumple? -> Ejecuta\r\n",
    "    print(\"Sobrepeso I\", imc)\r\n",
    "elif imc < 34:\r\n",
    "    print(\"Sobrepeso II\", imc)\r\n",
    "else:\r\n",
    "    print(\"Sobrepeso III\", imc)"
   ],
   "outputs": [
    {
     "output_type": "stream",
     "name": "stdout",
     "text": [
      "Peso bajo 24.337479718766904\n"
     ]
    }
   ],
   "metadata": {
    "execution": {
     "iopub.execute_input": "2021-08-27T14:15:09.517862Z",
     "iopub.status.busy": "2021-08-27T14:15:09.517439Z",
     "iopub.status.idle": "2021-08-27T14:15:15.272084Z",
     "shell.execute_reply": "2021-08-27T14:15:15.270931Z",
     "shell.execute_reply.started": "2021-08-27T14:15:09.517827Z"
    },
    "papermill": {
     "duration": null,
     "end_time": null,
     "exception": null,
     "start_time": null,
     "status": "pending"
    },
    "tags": []
   }
  },
  {
   "cell_type": "markdown",
   "source": [
    "> **Iteradores** - `for <elemento> in <secuencia>: <bloque (elemento)>`"
   ],
   "metadata": {
    "papermill": {
     "duration": null,
     "end_time": null,
     "exception": null,
     "start_time": null,
     "status": "pending"
    },
    "tags": []
   }
  },
  {
   "cell_type": "code",
   "execution_count": 12,
   "source": [
    "# Rango Tipo 1: range(N) -> 0, 1, 2, ..., N - 1 (N)\r\n",
    "\r\n",
    "for n in range(5):\r\n",
    "    print(\"--- Bloque ---\")\r\n",
    "    print(n)\r\n",
    "    print(\"-\" * 14)\r\n",
    "    print()"
   ],
   "outputs": [
    {
     "output_type": "stream",
     "name": "stdout",
     "text": [
      "--- Bloque ---\n",
      "0\n",
      "--------------\n",
      "\n",
      "--- Bloque ---\n",
      "1\n",
      "--------------\n",
      "\n",
      "--- Bloque ---\n",
      "2\n",
      "--------------\n",
      "\n",
      "--- Bloque ---\n",
      "3\n",
      "--------------\n",
      "\n",
      "--- Bloque ---\n",
      "4\n",
      "--------------\n",
      "\n"
     ]
    }
   ],
   "metadata": {
    "execution": {
     "iopub.execute_input": "2021-08-27T14:22:55.300574Z",
     "iopub.status.busy": "2021-08-27T14:22:55.300209Z",
     "iopub.status.idle": "2021-08-27T14:22:55.307206Z",
     "shell.execute_reply": "2021-08-27T14:22:55.306347Z",
     "shell.execute_reply.started": "2021-08-27T14:22:55.300544Z"
    },
    "papermill": {
     "duration": null,
     "end_time": null,
     "exception": null,
     "start_time": null,
     "status": "pending"
    },
    "tags": []
   }
  },
  {
   "cell_type": "code",
   "execution_count": 13,
   "source": [
    "# Rango Tipo 2: range(a, b) -> a, a + 1, a + 2, ..., b - 2, b - 1 (b - a)\r\n",
    "\r\n",
    "for i in range(2, 7): # 2, 3, 4, 5, 6 (7 - 2 : 5)\r\n",
    "    print(i)"
   ],
   "outputs": [
    {
     "output_type": "stream",
     "name": "stdout",
     "text": [
      "2\n",
      "3\n",
      "4\n",
      "5\n",
      "6\n"
     ]
    }
   ],
   "metadata": {
    "execution": {
     "iopub.execute_input": "2021-08-27T14:30:08.311494Z",
     "iopub.status.busy": "2021-08-27T14:30:08.310936Z",
     "iopub.status.idle": "2021-08-27T14:30:08.318160Z",
     "shell.execute_reply": "2021-08-27T14:30:08.317228Z",
     "shell.execute_reply.started": "2021-08-27T14:30:08.311456Z"
    },
    "papermill": {
     "duration": null,
     "end_time": null,
     "exception": null,
     "start_time": null,
     "status": "pending"
    },
    "tags": []
   }
  },
  {
   "cell_type": "code",
   "execution_count": 14,
   "source": [
    "# Rango Tipo 3: range(a, b, s) -> a, a + s, a + 2s, a + 3s, ..., b - 1 ((b - a) / s)\r\n",
    "\r\n",
    "for x in range(100, 204, 8): # 100, 108, 116, 124, ..., 188, 196 (¿204 > 204?)\r\n",
    "    print(x)"
   ],
   "outputs": [
    {
     "output_type": "stream",
     "name": "stdout",
     "text": [
      "100\n",
      "108\n",
      "116\n",
      "124\n",
      "132\n",
      "140\n",
      "148\n",
      "156\n",
      "164\n",
      "172\n",
      "180\n",
      "188\n",
      "196\n"
     ]
    }
   ],
   "metadata": {
    "execution": {
     "iopub.execute_input": "2021-08-27T14:32:50.673206Z",
     "iopub.status.busy": "2021-08-27T14:32:50.672787Z",
     "iopub.status.idle": "2021-08-27T14:32:50.681945Z",
     "shell.execute_reply": "2021-08-27T14:32:50.680273Z",
     "shell.execute_reply.started": "2021-08-27T14:32:50.673172Z"
    },
    "papermill": {
     "duration": null,
     "end_time": null,
     "exception": null,
     "start_time": null,
     "status": "pending"
    },
    "tags": []
   }
  },
  {
   "cell_type": "code",
   "execution_count": 15,
   "source": [
    "for y in range(200, 100, -20):\r\n",
    "    print(y)"
   ],
   "outputs": [
    {
     "output_type": "stream",
     "name": "stdout",
     "text": [
      "200\n",
      "180\n",
      "160\n",
      "140\n",
      "120\n"
     ]
    }
   ],
   "metadata": {
    "execution": {
     "iopub.execute_input": "2021-08-27T14:33:55.209516Z",
     "iopub.status.busy": "2021-08-27T14:33:55.209112Z",
     "iopub.status.idle": "2021-08-27T14:33:55.215527Z",
     "shell.execute_reply": "2021-08-27T14:33:55.214538Z",
     "shell.execute_reply.started": "2021-08-27T14:33:55.209480Z"
    },
    "papermill": {
     "duration": null,
     "end_time": null,
     "exception": null,
     "start_time": null,
     "status": "pending"
    },
    "tags": []
   }
  },
  {
   "cell_type": "code",
   "execution_count": 16,
   "source": [
    "frutas = [\"mango\", \"manzana\", \"pera\"]\r\n",
    "\r\n",
    "width = 800\r\n",
    "height = 600\r\n",
    "\r\n",
    "for fruta in frutas:\r\n",
    "    url = \"http://fruta.com/{}.png?size={}x{}\".format(fruta, width, height)\r\n",
    "    print(url)"
   ],
   "outputs": [
    {
     "output_type": "stream",
     "name": "stdout",
     "text": [
      "http://fruta.com/mango.png?size=800x600\n",
      "http://fruta.com/manzana.png?size=800x600\n",
      "http://fruta.com/pera.png?size=800x600\n"
     ]
    }
   ],
   "metadata": {
    "execution": {
     "iopub.execute_input": "2021-08-27T14:42:53.292851Z",
     "iopub.status.busy": "2021-08-27T14:42:53.292453Z",
     "iopub.status.idle": "2021-08-27T14:42:53.299758Z",
     "shell.execute_reply": "2021-08-27T14:42:53.298711Z",
     "shell.execute_reply.started": "2021-08-27T14:42:53.292819Z"
    },
    "papermill": {
     "duration": null,
     "end_time": null,
     "exception": null,
     "start_time": null,
     "status": "pending"
    },
    "tags": []
   }
  },
  {
   "cell_type": "markdown",
   "source": [
    "### Python Format\n",
    "\n",
    "[https://pyformat.info](https://pyformat.info)\n",
    "\n",
    "```text\n",
    "<texto> -> <plantilla>\n",
    "\n",
    "\"Hola Roberto, ¿Cómo estás?\"\n",
    "\n",
    "\"Hola %s, ¿Cómo estás?\"\n",
    "\n",
    "\"Hola {}, ¿Cómo estás?\"\n",
    "\n",
    "\"Hola soy {} y tengo {} años\"\n",
    "\n",
    "\"El total es de ${:.2f} con descuento del %{:.1f}\"\n",
    "```"
   ],
   "metadata": {
    "papermill": {
     "duration": null,
     "end_time": null,
     "exception": null,
     "start_time": null,
     "status": "pending"
    },
    "tags": []
   }
  },
  {
   "cell_type": "code",
   "execution_count": 17,
   "source": [
    "\"Hola {}, ¿Cómo estás?\""
   ],
   "outputs": [
    {
     "output_type": "execute_result",
     "data": {
      "text/plain": [
       "'Hola {}, ¿Cómo estás?'"
      ]
     },
     "metadata": {},
     "execution_count": 17
    }
   ],
   "metadata": {
    "execution": {
     "iopub.execute_input": "2021-08-27T14:38:23.230524Z",
     "iopub.status.busy": "2021-08-27T14:38:23.230121Z",
     "iopub.status.idle": "2021-08-27T14:38:23.237623Z",
     "shell.execute_reply": "2021-08-27T14:38:23.236809Z",
     "shell.execute_reply.started": "2021-08-27T14:38:23.230489Z"
    },
    "papermill": {
     "duration": null,
     "end_time": null,
     "exception": null,
     "start_time": null,
     "status": "pending"
    },
    "tags": []
   }
  },
  {
   "cell_type": "code",
   "execution_count": 18,
   "source": [
    "nombre = \"Jóse Juan\"\r\n",
    "\r\n",
    "\"Hola {}, ¿Cómo estás?\".format(nombre)"
   ],
   "outputs": [
    {
     "output_type": "execute_result",
     "data": {
      "text/plain": [
       "'Hola Jóse Juan, ¿Cómo estás?'"
      ]
     },
     "metadata": {},
     "execution_count": 18
    }
   ],
   "metadata": {
    "execution": {
     "iopub.execute_input": "2021-08-27T14:39:57.603443Z",
     "iopub.status.busy": "2021-08-27T14:39:57.603012Z",
     "iopub.status.idle": "2021-08-27T14:39:57.611208Z",
     "shell.execute_reply": "2021-08-27T14:39:57.610135Z",
     "shell.execute_reply.started": "2021-08-27T14:39:57.603406Z"
    },
    "papermill": {
     "duration": null,
     "end_time": null,
     "exception": null,
     "start_time": null,
     "status": "pending"
    },
    "tags": []
   }
  },
  {
   "cell_type": "code",
   "execution_count": 19,
   "source": [
    "\"Hola soy {} y tengo {} años\".format(\"Anita\", 23)"
   ],
   "outputs": [
    {
     "output_type": "execute_result",
     "data": {
      "text/plain": [
       "'Hola soy Anita y tengo 23 años'"
      ]
     },
     "metadata": {},
     "execution_count": 19
    }
   ],
   "metadata": {
    "execution": {
     "iopub.execute_input": "2021-08-27T14:40:25.320501Z",
     "iopub.status.busy": "2021-08-27T14:40:25.319824Z",
     "iopub.status.idle": "2021-08-27T14:40:25.329005Z",
     "shell.execute_reply": "2021-08-27T14:40:25.327912Z",
     "shell.execute_reply.started": "2021-08-27T14:40:25.320453Z"
    },
    "papermill": {
     "duration": null,
     "end_time": null,
     "exception": null,
     "start_time": null,
     "status": "pending"
    },
    "tags": []
   }
  },
  {
   "cell_type": "code",
   "execution_count": 20,
   "source": [
    "\"El total es de ${:.2f} con descuento del %{:.1f}\".format(23.678, 12.56)"
   ],
   "outputs": [
    {
     "output_type": "execute_result",
     "data": {
      "text/plain": [
       "'El total es de $23.68 con descuento del %12.6'"
      ]
     },
     "metadata": {},
     "execution_count": 20
    }
   ],
   "metadata": {
    "execution": {
     "iopub.execute_input": "2021-08-27T14:40:59.928333Z",
     "iopub.status.busy": "2021-08-27T14:40:59.927955Z",
     "iopub.status.idle": "2021-08-27T14:40:59.935142Z",
     "shell.execute_reply": "2021-08-27T14:40:59.933884Z",
     "shell.execute_reply.started": "2021-08-27T14:40:59.928304Z"
    },
    "papermill": {
     "duration": null,
     "end_time": null,
     "exception": null,
     "start_time": null,
     "status": "pending"
    },
    "tags": []
   }
  },
  {
   "cell_type": "markdown",
   "source": [
    "> **Ciclos condicionales** - `while <codición>: <bloque>`"
   ],
   "metadata": {
    "execution": {
     "iopub.execute_input": "2021-08-27T14:44:21.446458Z",
     "iopub.status.busy": "2021-08-27T14:44:21.446003Z",
     "iopub.status.idle": "2021-08-27T14:44:21.452433Z",
     "shell.execute_reply": "2021-08-27T14:44:21.451258Z",
     "shell.execute_reply.started": "2021-08-27T14:44:21.446420Z"
    },
    "papermill": {
     "duration": null,
     "end_time": null,
     "exception": null,
     "start_time": null,
     "status": "pending"
    },
    "tags": []
   }
  },
  {
   "cell_type": "code",
   "execution_count": 21,
   "source": [
    "while True:\r\n",
    "    print(\"Esto se repetirá por siempre!!!\")\r\n",
    "    break # rompe el ciclo al llegar aquí"
   ],
   "outputs": [
    {
     "output_type": "stream",
     "name": "stdout",
     "text": [
      "Esto se repetirá por siempre!!!\n"
     ]
    }
   ],
   "metadata": {
    "execution": {
     "iopub.execute_input": "2021-08-27T14:45:06.786198Z",
     "iopub.status.busy": "2021-08-27T14:45:06.785839Z",
     "iopub.status.idle": "2021-08-27T14:45:06.792423Z",
     "shell.execute_reply": "2021-08-27T14:45:06.790730Z",
     "shell.execute_reply.started": "2021-08-27T14:45:06.786169Z"
    },
    "papermill": {
     "duration": null,
     "end_time": null,
     "exception": null,
     "start_time": null,
     "status": "pending"
    },
    "tags": []
   }
  },
  {
   "cell_type": "code",
   "execution_count": 22,
   "source": [
    "while True:\r\n",
    "    respuesta = input(\"Deseas continuar? [y/n]:\")\r\n",
    "    if respuesta != \"y\":\r\n",
    "        break"
   ],
   "outputs": [],
   "metadata": {
    "execution": {
     "iopub.execute_input": "2021-08-27T14:46:37.724948Z",
     "iopub.status.busy": "2021-08-27T14:46:37.724493Z",
     "iopub.status.idle": "2021-08-27T14:46:47.797219Z",
     "shell.execute_reply": "2021-08-27T14:46:47.796153Z",
     "shell.execute_reply.started": "2021-08-27T14:46:37.724909Z"
    },
    "papermill": {
     "duration": null,
     "end_time": null,
     "exception": null,
     "start_time": null,
     "status": "pending"
    },
    "tags": []
   }
  },
  {
   "cell_type": "code",
   "execution_count": 23,
   "source": [
    "n = 1\r\n",
    "while n < 10: # Si la condición no se actualiza el ciclo se repetirá siempre\r\n",
    "    print(n)\r\n",
    "    n = n + 1 # CUIDADO: No olviden actualizar la condición"
   ],
   "outputs": [
    {
     "output_type": "stream",
     "name": "stdout",
     "text": [
      "1\n",
      "2\n",
      "3\n",
      "4\n",
      "5\n",
      "6\n",
      "7\n",
      "8\n",
      "9\n"
     ]
    }
   ],
   "metadata": {
    "execution": {
     "iopub.execute_input": "2021-08-27T14:47:30.176662Z",
     "iopub.status.busy": "2021-08-27T14:47:30.176232Z",
     "iopub.status.idle": "2021-08-27T14:47:30.184369Z",
     "shell.execute_reply": "2021-08-27T14:47:30.182877Z",
     "shell.execute_reply.started": "2021-08-27T14:47:30.176627Z"
    },
    "papermill": {
     "duration": null,
     "end_time": null,
     "exception": null,
     "start_time": null,
     "status": "pending"
    },
    "tags": []
   }
  },
  {
   "cell_type": "code",
   "execution_count": 24,
   "source": [
    "while True:\r\n",
    "    print(\"--- Mini Ocso ---\")\r\n",
    "    print(\"1. Agregar una fruta\")\r\n",
    "    print(\"2. Buscar una fruta\")\r\n",
    "    print(\"3. Comprar una fruta\")\r\n",
    "    print(\"---\")\r\n",
    "    print(\"X. Salir\")\r\n",
    "    \r\n",
    "    opcion = input(\"Selecciona una opción\")\r\n",
    "    \r\n",
    "    if opcion == \"1\":\r\n",
    "        print(\"Se agregó la fruta\")\r\n",
    "    elif opcion == \"2\":\r\n",
    "        print(\"La fruta es mango\")\r\n",
    "    elif opcion == \"3\":\r\n",
    "        print(\"El total es de $84.90\")\r\n",
    "    elif opcion == \"X\":\r\n",
    "        break\r\n",
    "    else:\r\n",
    "        print(\"No te entiendo\")"
   ],
   "outputs": [
    {
     "output_type": "stream",
     "name": "stdout",
     "text": [
      "--- Mini Ocso ---\n",
      "1. Agregar una fruta\n",
      "2. Buscar una fruta\n",
      "3. Comprar una fruta\n",
      "---\n",
      "X. Salir\n",
      "Se agregó la fruta\n",
      "--- Mini Ocso ---\n",
      "1. Agregar una fruta\n",
      "2. Buscar una fruta\n",
      "3. Comprar una fruta\n",
      "---\n",
      "X. Salir\n"
     ]
    }
   ],
   "metadata": {
    "execution": {
     "iopub.execute_input": "2021-08-27T14:51:12.063308Z",
     "iopub.status.busy": "2021-08-27T14:51:12.062777Z",
     "iopub.status.idle": "2021-08-27T14:51:36.843644Z",
     "shell.execute_reply": "2021-08-27T14:51:36.842816Z",
     "shell.execute_reply.started": "2021-08-27T14:51:12.063273Z"
    },
    "papermill": {
     "duration": null,
     "end_time": null,
     "exception": null,
     "start_time": null,
     "status": "pending"
    },
    "tags": []
   }
  },
  {
   "cell_type": "markdown",
   "source": [
    "## Ejercicios"
   ],
   "metadata": {
    "papermill": {
     "duration": null,
     "end_time": null,
     "exception": null,
     "start_time": null,
     "status": "pending"
    },
    "tags": []
   }
  },
  {
   "cell_type": "markdown",
   "source": [
    "### 1. Calcular la hipotenusa de un triángulo rectángulo\n",
    "\n",
    "`C^2 = A^2 + B^2`\n",
    "\n",
    "* C - Hipotenusa\n",
    "* A, B - Catetos"
   ],
   "metadata": {
    "papermill": {
     "duration": null,
     "end_time": null,
     "exception": null,
     "start_time": null,
     "status": "pending"
    },
    "tags": []
   }
  },
  {
   "cell_type": "markdown",
   "source": [
    "### 2. Calcular el águlo asociado al lado C de un triángulo escaleno dados los lados A, B, C\n",
    "\n",
    "`C^2 = A^2 + B^2 - 2 * A * B * cos(c)`\n",
    "\n",
    "`cos(c) = (C^2 - A^2 - B^2) / (2 * A * B)`\n",
    "\n",
    "`c = acos(C^2 - A^2 - B^2) / (2 * A * B)`"
   ],
   "metadata": {
    "papermill": {
     "duration": null,
     "end_time": null,
     "exception": null,
     "start_time": null,
     "status": "pending"
    },
    "tags": []
   }
  },
  {
   "cell_type": "markdown",
   "source": [
    "### 3. Calcular la suma de la lista [45, 67, 89, 92, 34, 6, 17]"
   ],
   "metadata": {
    "papermill": {
     "duration": null,
     "end_time": null,
     "exception": null,
     "start_time": null,
     "status": "pending"
    },
    "tags": []
   }
  }
 ],
 "metadata": {
  "kernelspec": {
   "name": "python3",
   "display_name": "Python 3.9.6 64-bit"
  },
  "language_info": {
   "codemirror_mode": {
    "name": "ipython",
    "version": 3
   },
   "file_extension": ".py",
   "mimetype": "text/x-python",
   "name": "python",
   "nbconvert_exporter": "python",
   "pygments_lexer": "ipython3",
   "version": "3.9.6"
  },
  "papermill": {
   "default_parameters": {},
   "duration": 9.740686,
   "end_time": "2021-08-27T15:01:36.963017",
   "environment_variables": {},
   "exception": true,
   "input_path": "__notebook__.ipynb",
   "output_path": "__notebook__.ipynb",
   "parameters": {},
   "start_time": "2021-08-27T15:01:27.222331",
   "version": "2.3.3"
  },
  "interpreter": {
   "hash": "63fd5069d213b44bf678585dea6b12cceca9941eaf7f819626cde1f2670de90d"
  }
 },
 "nbformat": 4,
 "nbformat_minor": 5
}