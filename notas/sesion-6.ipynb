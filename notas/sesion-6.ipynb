{
 "cells": [
  {
   "cell_type": "markdown",
   "source": [
    "# Sesión 6 - Archivos\r\n",
    "\r\n",
    "## Conceptos\r\n",
    "\r\n",
    "* Un archivo es una secuencia de bytes, cada byte representa a 8-bits los cuales pueden contener hasta 256 combinaciones en números binarios, por ejemplo, un byte puede ser `00110011` o `11110000`.\r\n",
    "* El byte es la unidad mínima de almacenamiento en una computadora, por eso los archivos se miden en bytes en lugar de bits. Cuándo uno crea un archivo en el bloc de notas o la terminal este pesará 1 byte.\r\n",
    "* Podemos pensar entonces que los archivos son en realidad tiras o secuencias de bytes que contienen información. Por ejemplo, un texto o una imagen.\r\n",
    "* Cuándo un archivo contiene un byte por cada caracter se conoce como **ARCHIVO DE TEXTO PLANO**, a este tipo de archivos se les conoce como archivos de texto o archivos planos, y cualquier editor de texto plano puede abrirlos.\r\n",
    "* Cuándo un archivo contiene los bytes bajo algún formato propio, se conoce como **ARCHIVO BINARIO**, a este tipo de archivos se les conoce como archivos binarios o simplemente archivos de extensión, y sólo ciertos programas pueden abrirlos. Por ejemplo, una imagen, un audio, un vídeo, un documento PDF, un archivo comprimido ZIP o RAR, etc."
   ],
   "metadata": {}
  },
  {
   "cell_type": "markdown",
   "source": [
    "## Archivos de Texto\r\n",
    "\r\n",
    "* Un archivo de texto se puede entender como una secuncia de caracteres. Incluso los saltos de línea que reconocemos como separaciones entre línea y línea no son más que el caracter `\\n`, y los tabuladores el caracter `\\t`, por lo que si creamos un archivo en el bloc de notas que contenga dos líneas de texto, en la primera, por ejemplo, el texto `Hola` y en la segunda `Mundo`, sería equivalente al texto `\"Hola\\nMundo\"`.\r\n",
    "\r\n",
    "En Python la función `open(<ruta>, <modo>)` abrirá un archivo desde/hacía la `<ruta>` en el `<modo>` especificados según la siguiente tabla.\r\n",
    "\r\n",
    "Modo | Ejemplo | Descripción\r\n",
    "--- | --- | ---\r\n",
    "`r` | f = open(\"datos.txt\", \"r\") | Abre un archivo en modo lectura, podemos usar `f.read()` para leer el contenido.\r\n",
    "`w` | f = open(\"datos.txt\", \"w\") | Abre un archivo en modo escritura, podemos usar `f.write(<texto>)` para escribir el contenido (reemplaza).\r\n",
    "`a` | f = open(\"datos.txt\", \"a\") | Abre un archivo en modo apertura, podemos usar `f.write(<texto>)` para escribir más contenido al final (dónde se quedó el último caracter).\r\n",
    "`r+` | f = open(\"datos.txt\", \"r+\") | Abre un archivo en modo lectura + escritura (no reemplaza).\r\n",
    "`w+` | f = open(\"datos.txt\", \"w+\") | Abre un archivo en modo lectura + escritura (reemplaza).\r\n",
    "`rb` | f = open(\"datos.ext\", \"rb\") | Abre un archivo en modo lectura binaria y en lugar de `<texto>` devuelve `<bytes>`.\r\n",
    "`wb` | f = open(\"datos.ext\", \"wb\") | Abre un archivo en modo escritura binaria y en lugar de `<texto>` usamos `<bytes>`.\r\n",
    "`rb+` | f = open(\"datos.ext\", \"wb\") | Abre un archivo en modo escritura + lectura binaria (no reemplaza).\r\n",
    "`wb+` | f = open(\"datos.ext\", \"wb\") | Abre un archivo en modo escritura + lectura binaria (reemplaza).\r\n",
    "\r\n",
    "Lo que nos devuelve la función `open(...)` es lo que conocemos como un cursor o accesor al archivo, este funciona como un objeto que comunica nuestras intenciones al archivo, por ejemplo, `<contenido> = f.read()`, `f.write(<contenido>)`, `f.close()`, etc.\r\n",
    "\r\n",
    "### Documentación\r\n",
    "\r\n",
    "[https://docs.python.org/3/library/functions.html#open](https://docs.python.org/3/library/functions.html#open)\r\n",
    "[https://python-intermedio.readthedocs.io/es/latest/open_function.html](https://python-intermedio.readthedocs.io/es/latest/open_function.html)\r\n",
    "[https://www.programiz.com/python-programming/methods/built-in/open](https://www.programiz.com/python-programming/methods/built-in/open)\r\n",
    "\r\n"
   ],
   "metadata": {}
  },
  {
   "cell_type": "markdown",
   "source": [
    "## Ejemplo - Crear un archivo con algún texto"
   ],
   "metadata": {}
  },
  {
   "cell_type": "code",
   "execution_count": 2,
   "source": [
    "# Abrimos el archivo data/hello.txt en modo escritura\r\n",
    "f = open(\"data/hello.txt\", \"w\")\r\n",
    "\r\n",
    "# Escribimos el contenido del archivo\r\n",
    "f.write(\"Hola mundo\")\r\n",
    "\r\n",
    "# Cerramos el archivo\r\n",
    "# ! Es importante cerrar el archivo siempre que no use para no bloquearlo ni mantenerlo en memoria RAM\r\n",
    "f.close()"
   ],
   "outputs": [],
   "metadata": {}
  },
  {
   "cell_type": "markdown",
   "source": [
    "## Ejemplo - Crear un archivo con varias líneas de texto"
   ],
   "metadata": {}
  },
  {
   "cell_type": "code",
   "execution_count": 3,
   "source": [
    "f = open(\"data/hello_multiline.txt\", \"w\")\r\n",
    "\r\n",
    "# Equivale a f.write(\"Hola\\nMundo\\nEste es un ejemplo de varias líneas\")\r\n",
    "f.write(\"Hola\")\r\n",
    "f.write(\"\\n\")\r\n",
    "f.write(\"Mundo\")\r\n",
    "f.write(\"\\n\")\r\n",
    "f.write(\"Este es un ejemplo de varias líneas\")\r\n",
    "\r\n",
    "f.close()"
   ],
   "outputs": [],
   "metadata": {}
  },
  {
   "cell_type": "markdown",
   "source": [
    "## Ejemplo - Crear un archivo que agregue más líneas de texto al final"
   ],
   "metadata": {}
  },
  {
   "cell_type": "code",
   "execution_count": 6,
   "source": [
    "import datetime\r\n",
    "\r\n",
    "f = open(\"data/log.txt\", \"a\")\r\n",
    "\r\n",
    "f.write(\"Sesión de hoy {}\\n\".format(datetime.datetime.now()))\r\n",
    "\r\n",
    "f.close()"
   ],
   "outputs": [],
   "metadata": {}
  },
  {
   "cell_type": "markdown",
   "source": [
    "## Ejemplo - Leer el contenido de un archivo de texto"
   ],
   "metadata": {}
  },
  {
   "cell_type": "code",
   "execution_count": 7,
   "source": [
    "f = open(\"data/hello.txt\", \"r\")\r\n",
    "\r\n",
    "contenido = f.read()\r\n",
    "\r\n",
    "f.close()\r\n",
    "\r\n",
    "print(contenido)"
   ],
   "outputs": [
    {
     "output_type": "stream",
     "name": "stdout",
     "text": [
      "Hola mundo\n"
     ]
    }
   ],
   "metadata": {}
  },
  {
   "cell_type": "markdown",
   "source": [
    "## Ejemplo - Leer el contenido de un archivo de texto con múltiples líneas"
   ],
   "metadata": {}
  },
  {
   "cell_type": "code",
   "execution_count": 8,
   "source": [
    "f = open(\"data/hello_multiline.txt\", \"r\")\r\n",
    "\r\n",
    "contenido = f.read()\r\n",
    "\r\n",
    "f.close()\r\n",
    "\r\n",
    "print(contenido)"
   ],
   "outputs": [
    {
     "output_type": "stream",
     "name": "stdout",
     "text": [
      "Hola\n",
      "Mundo\n",
      "Este es un ejemplo de varias líneas\n"
     ]
    }
   ],
   "metadata": {}
  },
  {
   "cell_type": "markdown",
   "source": [
    "## Ejemplo - Leer el contenido de un archivo de texto con múltiples líneas por cada línea"
   ],
   "metadata": {}
  },
  {
   "cell_type": "code",
   "execution_count": 10,
   "source": [
    "\r\n",
    "f = open(\"data/log.txt\", \"r\")\r\n",
    "\r\n",
    "# f.readlines() - Devuelve una lista con todas las líneas\r\n",
    "# f.readline() - Lee la siguiente línea\r\n",
    "# f.readable() - Hay más contenido por leer\r\n",
    "for line in f:\r\n",
    "    print(\"Línea: {}\".format(line.strip())) # <texto>.strip() - quita los espacios y saltos al principio y final del texto\r\n",
    "    \r\n",
    "f.close()"
   ],
   "outputs": [
    {
     "output_type": "stream",
     "name": "stdout",
     "text": [
      "Línea: Sesión de hoy 2021-09-13 20:15:59.391806\n",
      "Línea: Sesión de hoy 2021-09-13 20:16:06.364866\n",
      "Línea: Sesión de hoy 2021-09-13 20:16:13.344049\n"
     ]
    }
   ],
   "metadata": {}
  },
  {
   "cell_type": "markdown",
   "source": [
    "## Proyecto: Reporte estadístico de ubicaciones\r\n",
    "\r\n",
    "En archivo `data/ubicaciones.txt` se encuentran las ubicaciones de hospitales por cada línea de texto en el siguiente formato.\r\n",
    "\r\n",
    "> Formato de `ubicaciones.txt`\r\n",
    "\r\n",
    "```txt\r\n",
    "<nombre_hospital> <latitud> <longitud>\r\n",
    "```\r\n",
    "\r\n",
    "* **Nota:** El `<nombre_hospital>` no contiene espacios.\r\n",
    "\r\n",
    "> Ejemplo del archivo `ubicaciones.txt`\r\n",
    "\r\n",
    "```txt\r\n",
    "ABC 98.15 -113.56\r\n",
    "AMERICAS 67.43 -112.69\r\n",
    "LA_RAZA 56.34 -115.98\r\n",
    "```"
   ],
   "metadata": {}
  },
  {
   "cell_type": "markdown",
   "source": [
    "### Fase 1 - Leer las ubicaciones\r\n",
    "\r\n",
    "Genera un función llamada `leerUbicaciones(<ruta>)` que reciba la `<ruta>` del archivo con el formato anterior (`\"data/ubicaciones.txt\"`) y devuelva una lista de diccionarios con la siguiete estructura.\r\n",
    "\r\n",
    "> Estructura del diccionario\r\n",
    "\r\n",
    "```py\r\n",
    "{\r\n",
    "    \"nombre\": \"<nombre_hospital>\",\r\n",
    "    \"latitud\": <latitud>,\r\n",
    "    \"longitud\": <longitud>\r\n",
    "}\r\n",
    "```\r\n",
    "\r\n",
    "> Ejemplo de la lista devuelta por la función `leerUbicaciones(\"data/ubicaciones.txt\")`\r\n",
    "\r\n",
    "```py\r\n",
    "[\r\n",
    "    {\r\n",
    "        \"nombre\": \"ABC\",\r\n",
    "        \"latitud\": 98.15,\r\n",
    "        \"longitud\": -113.56\r\n",
    "    },\r\n",
    "    {\r\n",
    "        \"nombre\": \"AMERICAS\",\r\n",
    "        \"latitud\": 67.43,\r\n",
    "        \"longitud\": -112.69\r\n",
    "    },\r\n",
    "    {\r\n",
    "        \"nombre\": \"LA_RAZA\",\r\n",
    "        \"latitud\": 56.34,\r\n",
    "        \"longitud\": -115.98\r\n",
    "    },\r\n",
    "]\r\n",
    "```"
   ],
   "metadata": {}
  },
  {
   "cell_type": "code",
   "execution_count": 11,
   "source": [
    "\"ABC 123 456\".split(\" \") # Separar textos mediante el separador \" \""
   ],
   "outputs": [
    {
     "output_type": "execute_result",
     "data": {
      "text/plain": [
       "['ABC', '123', '456']"
      ]
     },
     "metadata": {},
     "execution_count": 11
    }
   ],
   "metadata": {}
  },
  {
   "cell_type": "code",
   "execution_count": 21,
   "source": [
    "def leerUbicaciones(ruta):\r\n",
    "    ubicaciones = []\r\n",
    "    \r\n",
    "    f = open(ruta, \"r\")\r\n",
    "    \r\n",
    "    for line in f:\r\n",
    "        print(\"LINE:\", line.strip()) # line = \"ABC 98.15 -113.56\" -> [\"ABC\", \"98.15\", \"-113.56\"]\r\n",
    "        \r\n",
    "        parts = line.strip().split(\" \") # parts = [\"ABC\", \"98.15\", \"-113.56\"]\r\n",
    "        print(\"PARTS:\", parts)\r\n",
    "        \r\n",
    "        nombre = parts[0]\r\n",
    "        latitud = float(parts[1])\r\n",
    "        longitud = float(parts[2])\r\n",
    "        \r\n",
    "        ubicacion = {\r\n",
    "            \"nombre\": nombre,\r\n",
    "            \"latitud\": latitud,\r\n",
    "            \"longitud\": longitud,\r\n",
    "        }\r\n",
    "        print(\"UBICACIÓN\", ubicacion)\r\n",
    "        \r\n",
    "        ubicaciones.append(ubicacion)\r\n",
    "        \r\n",
    "    f.close()\r\n",
    "    \r\n",
    "    return ubicaciones\r\n",
    "        \r\n",
    "leerUbicaciones(\"data/ubicaciones.txt\")"
   ],
   "outputs": [
    {
     "output_type": "stream",
     "name": "stdout",
     "text": [
      "LINE: ABC 98.15 -113.56 E\n",
      "PARTS: ['ABC', '98.15', '-113.56', 'E']\n",
      "UBICACIÓN {'nombre': 'ABC', 'latitud': 98.15, 'longitud': -113.56}\n",
      "LINE: AMERICAS 67.43 -112.69 F\n",
      "PARTS: ['AMERICAS', '67.43', '-112.69', 'F']\n",
      "UBICACIÓN {'nombre': 'AMERICAS', 'latitud': 67.43, 'longitud': -112.69}\n",
      "LINE: LA_RAZA 56.34 -115.98 E\n",
      "PARTS: ['LA_RAZA', '56.34', '-115.98', 'E']\n",
      "UBICACIÓN {'nombre': 'LA_RAZA', 'latitud': 56.34, 'longitud': -115.98}\n",
      "LINE: GENERAL 45.87 -128.83 F\n",
      "PARTS: ['GENERAL', '45.87', '-128.83', 'F']\n",
      "UBICACIÓN {'nombre': 'GENERAL', 'latitud': 45.87, 'longitud': -128.83}\n"
     ]
    },
    {
     "output_type": "execute_result",
     "data": {
      "text/plain": [
       "[{'nombre': 'ABC', 'latitud': 98.15, 'longitud': -113.56},\n",
       " {'nombre': 'AMERICAS', 'latitud': 67.43, 'longitud': -112.69},\n",
       " {'nombre': 'LA_RAZA', 'latitud': 56.34, 'longitud': -115.98},\n",
       " {'nombre': 'GENERAL', 'latitud': 45.87, 'longitud': -128.83}]"
      ]
     },
     "metadata": {},
     "execution_count": 21
    }
   ],
   "metadata": {}
  },
  {
   "cell_type": "markdown",
   "source": [
    "### Fase 2 - Generar el reporte\r\n",
    "\r\n",
    "Crea una función llamada `generarReporteUbicaciones(<ruta>, <ubicaciones>)` que recibe la `<ruta>` dónde escribiremos el reporte y la lista de `<ubicaciones>` (la lista de diccionarios).\r\n",
    "\r\n",
    "> Ejemplo del reporte\r\n",
    "\r\n",
    "```txt\r\n",
    "# Reporte de Ubicaciones de Hospitales\r\n",
    "\r\n",
    "Total de Ubicaciones: 4\r\n",
    "\r\n",
    "Latitud Mínima: 45.87\r\n",
    "Latitud Máxima: 98.15\r\n",
    "\r\n",
    "Longitud Mínima: -128.83\r\n",
    "Longitud Máxima: -112.69\r\n",
    "\r\n",
    "+------------------------------------------+\r\n",
    "| NOMBRE          | LATITUD   | LONGITUD   |\r\n",
    "| --------------- + --------- + ---------- |\r\n",
    "| ABC             | 98.15     | -113.56    |\r\n",
    "| AMERICAS        | 67.43     | -112.69    |\r\n",
    "| LA_RAZA         | 56.34     | -115.98    |\r\n",
    "| GENERAL         | 45.87     | -128.83    |\r\n",
    "+------------------------------------------+\r\n",
    "```"
   ],
   "metadata": {}
  },
  {
   "cell_type": "code",
   "execution_count": 28,
   "source": [
    "def generarReporteUbicaciones(ruta, ubicaciones):\r\n",
    "    f = open(ruta, \"w\")\r\n",
    "    \r\n",
    "    total = len(ubicaciones)\r\n",
    "    \r\n",
    "    f.write(\"Total de Ubicaciones: {}\\n\".format(total))\r\n",
    "    \r\n",
    "    lat_min = ubicaciones[0][\"latitud\"]\r\n",
    "    lat_max = ubicaciones[0][\"latitud\"]\r\n",
    "    lon_min = ubicaciones[0][\"longitud\"]\r\n",
    "    lon_max = ubicaciones[0][\"longitud\"]\r\n",
    "    \r\n",
    "    for ubicacion in ubicaciones:\r\n",
    "        if ubicacion[\"latitud\"] < lat_min:\r\n",
    "            lat_min = ubicacion[\"latitud\"]\r\n",
    "        if ubicacion[\"latitud\"] > lat_max:\r\n",
    "            lat_max = ubicacion[\"latitud\"]\r\n",
    "        if ubicacion[\"longitud\"] < lon_min:\r\n",
    "            lon_min = ubicacion[\"longitud\"]\r\n",
    "        if ubicacion[\"longitud\"] > lon_max:\r\n",
    "            lon_max = ubicacion[\"longitud\"]\r\n",
    "            \r\n",
    "    f.write(\"\\n\")\r\n",
    "    \r\n",
    "    f.write(u\"Latitud Mínima: {:.2f}\\n\".format(lat_min))\r\n",
    "    f.write(u\"Latitud Máxima: {:.2f}\\n\".format(lat_max))\r\n",
    "    \r\n",
    "    f.write(\"\\n\")\r\n",
    "    \r\n",
    "    f.write(u\"Longitud Mínima: {:.2f}\\n\".format(lon_min))\r\n",
    "    f.write(u\"Longitud Máxima: {:.2f}\\n\".format(lon_max))\r\n",
    "            \r\n",
    "    f.write(\"\\n\")\r\n",
    "    \r\n",
    "    f.write(\"+------------------------------------------------+\\n\")\r\n",
    "    f.write(\"| NOMBRE               | LATITUD    | LONGITUD   |\\n\")\r\n",
    "    f.write(\"| -------------------- + ---------- + ---------- |\\n\")\r\n",
    "    for ubicacion in ubicaciones:\r\n",
    "        f.write(\"| {:20} | {:10.2f} | {:10.2f} |\\n\".format(ubicacion[\"nombre\"], ubicacion[\"latitud\"], ubicacion[\"longitud\"]))\r\n",
    "    f.write(\"+------------------------------------------------+\\n\")\r\n",
    "        \r\n",
    "    f.close()\r\n",
    "    \r\n",
    "generarReporteUbicaciones(\"data/reporte_ubicaciones.txt\", leerUbicaciones(\"data/ubicaciones.txt\"))"
   ],
   "outputs": [
    {
     "output_type": "stream",
     "name": "stdout",
     "text": [
      "LINE: ABC 98.15 -113.56\n",
      "PARTS: ['ABC', '98.15', '-113.56']\n",
      "UBICACIÓN {'nombre': 'ABC', 'latitud': 98.15, 'longitud': -113.56}\n",
      "LINE: AMERICAS 67.43 -112.69\n",
      "PARTS: ['AMERICAS', '67.43', '-112.69']\n",
      "UBICACIÓN {'nombre': 'AMERICAS', 'latitud': 67.43, 'longitud': -112.69}\n",
      "LINE: LA_RAZA 56.34 -115.98\n",
      "PARTS: ['LA_RAZA', '56.34', '-115.98']\n",
      "UBICACIÓN {'nombre': 'LA_RAZA', 'latitud': 56.34, 'longitud': -115.98}\n",
      "LINE: GENERAL 45.87 -128.83\n",
      "PARTS: ['GENERAL', '45.87', '-128.83']\n",
      "UBICACIÓN {'nombre': 'GENERAL', 'latitud': 45.87, 'longitud': -128.83}\n",
      "LINE: OTRO 23.87 -128.83\n",
      "PARTS: ['OTRO', '23.87', '-128.83']\n",
      "UBICACIÓN {'nombre': 'OTRO', 'latitud': 23.87, 'longitud': -128.83}\n"
     ]
    }
   ],
   "metadata": {}
  },
  {
   "cell_type": "code",
   "execution_count": null,
   "source": [],
   "outputs": [],
   "metadata": {}
  }
 ],
 "metadata": {
  "orig_nbformat": 4,
  "language_info": {
   "name": "python",
   "version": "3.9.6",
   "mimetype": "text/x-python",
   "codemirror_mode": {
    "name": "ipython",
    "version": 3
   },
   "pygments_lexer": "ipython3",
   "nbconvert_exporter": "python",
   "file_extension": ".py"
  },
  "kernelspec": {
   "name": "python3",
   "display_name": "Python 3.9.6 64-bit"
  },
  "interpreter": {
   "hash": "63fd5069d213b44bf678585dea6b12cceca9941eaf7f819626cde1f2670de90d"
  }
 },
 "nbformat": 4,
 "nbformat_minor": 2
}