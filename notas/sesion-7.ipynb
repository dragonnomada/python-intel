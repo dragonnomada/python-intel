{
 "cells": [
  {
   "cell_type": "markdown",
   "source": [
    "# Sesión 7 - Introducción a la Programación Orientada a Objetos\r\n",
    "\r\n",
    "## Programación Funcional\r\n",
    "\r\n",
    "* Los problemas se modelan como tareas unitarias que toman entradas y producen salidas y el conjunto de estas tareas resuelven el problema. Ejemplo, descargar una imágen de internet: `requestImage(url) -> response`, `extractImage(response) -> Image`, `saveImage(Image, filename) -> bool`.\r\n",
    "\r\n",
    "`INPUT -> PROCESS -> OUTPUT`\r\n",
    "\r\n",
    "## Programación Orientada a Objetos\r\n",
    "\r\n",
    "* Los problemas se modelan como entidades que tiene un estado y métodos, el conjunto de métodos actualizará el estado para producir la abstracción más similar a una máquina autómata. Ejemplo, descargar varias imágenes de internet: `downloader = ImageDownloader()`, `downloader.setTargetImages([url1, url2, url3, ...])`, `downloader.setBatchSize(5)`, `downloader.setNameTemplate(\"image_{}.png\")`, `downloader.startDownload()`, `downloader.onProgress(progressFunc)`.\r\n",
    "\r\n",
    "`STATE + METHOD -> NEW STATE + OUTPUT`\r\n",
    "\r\n",
    "POO -> MÁQUINA:\r\n",
    "- Estado: Memoria de la máquina (valores actuales)\r\n",
    "- Métodos: Interfaces de acción de la máquina (botones, instrucciones)"
   ],
   "metadata": {}
  },
  {
   "cell_type": "code",
   "execution_count": 1,
   "source": [
    "class CanastaFrutas:\r\n",
    "    \r\n",
    "    frutas = []\r\n",
    "    abierta = True\r\n",
    "    \r\n",
    "    def agregarFruta(self, nombre):\r\n",
    "        self.frutas.append(nombre)\r\n",
    "    \r\n",
    "    def getFrutasDistintas(self):\r\n",
    "        # set(...) - conjunto(...)\r\n",
    "        frutas_distintas = list(set(self.frutas))\r\n",
    "        return frutas_distintas\r\n",
    "    \r\n",
    "canasta1 = CanastaFrutas()\r\n",
    "\r\n",
    "canasta1.agregarFruta(\"manzana\")\r\n",
    "canasta1.agregarFruta(\"pera\")\r\n",
    "canasta1.agregarFruta(\"mango\")\r\n",
    "canasta1.agregarFruta(\"manzana\")\r\n",
    "\r\n",
    "print( canasta1.frutas )\r\n",
    "print( canasta1.getFrutasDistintas() )"
   ],
   "outputs": [
    {
     "output_type": "stream",
     "name": "stdout",
     "text": [
      "['manzana', 'pera', 'mango', 'manzana']\n",
      "['mango', 'pera', 'manzana']\n"
     ]
    }
   ],
   "metadata": {}
  },
  {
   "cell_type": "code",
   "execution_count": 2,
   "source": [
    "frutas = [\"manzana\", \"pera\", \"manzana\", \"pera\", \"pera\"]\r\n",
    "\r\n",
    "set(frutas)"
   ],
   "outputs": [
    {
     "output_type": "execute_result",
     "data": {
      "text/plain": [
       "{'manzana', 'pera'}"
      ]
     },
     "metadata": {},
     "execution_count": 2
    }
   ],
   "metadata": {}
  },
  {
   "cell_type": "code",
   "execution_count": 3,
   "source": [
    "list(set(frutas))"
   ],
   "outputs": [
    {
     "output_type": "execute_result",
     "data": {
      "text/plain": [
       "['pera', 'manzana']"
      ]
     },
     "metadata": {},
     "execution_count": 3
    }
   ],
   "metadata": {}
  },
  {
   "cell_type": "code",
   "execution_count": 5,
   "source": [
    "a = [1, 2, 3]\r\n",
    "b = [1, 2, 2]\r\n",
    "\r\n",
    "c = []\r\n",
    "c.extend(a)\r\n",
    "c.extend(b)\r\n",
    "\r\n",
    "set(c)"
   ],
   "outputs": [
    {
     "output_type": "execute_result",
     "data": {
      "text/plain": [
       "{1, 2, 3}"
      ]
     },
     "metadata": {},
     "execution_count": 5
    }
   ],
   "metadata": {}
  }
 ],
 "metadata": {
  "orig_nbformat": 4,
  "language_info": {
   "name": "python",
   "version": "3.9.6",
   "mimetype": "text/x-python",
   "codemirror_mode": {
    "name": "ipython",
    "version": 3
   },
   "pygments_lexer": "ipython3",
   "nbconvert_exporter": "python",
   "file_extension": ".py"
  },
  "kernelspec": {
   "name": "python3",
   "display_name": "Python 3.9.6 64-bit"
  },
  "interpreter": {
   "hash": "63fd5069d213b44bf678585dea6b12cceca9941eaf7f819626cde1f2670de90d"
  }
 },
 "nbformat": 4,
 "nbformat_minor": 2
}