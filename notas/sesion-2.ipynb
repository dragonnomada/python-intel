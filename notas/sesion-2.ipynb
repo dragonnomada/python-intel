{
 "cells": [
  {
   "cell_type": "markdown",
   "id": "63c00956",
   "metadata": {
    "papermill": {
     "duration": 0.011761,
     "end_time": "2021-08-31T02:10:50.958700",
     "exception": false,
     "start_time": "2021-08-31T02:10:50.946939",
     "status": "completed"
    },
    "tags": []
   },
   "source": [
    "# Python Intel - Sesión 2\n",
    "\n",
    "## ¿Qué es la programación funcional?\n",
    "\n",
    "* `Se basa en resolver tareas mediante funciones`\n",
    "* `Parámetros de entrada`\n",
    "* `La salida de la función`\n",
    "* `Modelo de la función`\n",
    "* `Estructuras de control`"
   ]
  },
  {
   "cell_type": "markdown",
   "id": "1d23e406",
   "metadata": {
    "papermill": {
     "duration": 0.010519,
     "end_time": "2021-08-31T02:10:50.980405",
     "exception": false,
     "start_time": "2021-08-31T02:10:50.969886",
     "status": "completed"
    },
    "tags": []
   },
   "source": [
    "## Sintaxis de una función\n",
    "\n",
    "Una **función** es una estructura que a través de parámetros permite ejecutar un bloque con acceso a estos, y computar un resultado. Opcionalmente las funciones podrían no devolver nada explícito, haciendo que su retorno sea None.\n",
    "\n",
    "Por ejemplo, las funciones pueden ser utilizadas para **automatizar tareas** y ejecutarlas una y otra vez con diferentes parámetros, por ejemplo, descargar un archivo de internet, consumir un servicio web, procesar y analizar datos, etc.\n",
    "\n",
    "```py\n",
    "def <nombre>(<parámetros>):\n",
    "    <bloque>\n",
    "```"
   ]
  },
  {
   "cell_type": "markdown",
   "id": "96277368",
   "metadata": {
    "papermill": {
     "duration": 0.012643,
     "end_time": "2021-08-31T02:10:51.004653",
     "exception": false,
     "start_time": "2021-08-31T02:10:50.992010",
     "status": "completed"
    },
    "tags": []
   },
   "source": [
    "## Ejercicio - Calcular la distancia entre dos puntos\n",
    "\n",
    "Un punto espacial se puede entender como una pareja coordena de `(x, y)`, esta indicará cuál es la distancia sobre el eje ordenado y el eje de las absisas (los ejes ortogonales horizontal y vertical en el plano).\n",
    "\n",
    "La distancia entre dos puntos es el resultado de calcular la hipotenusa de un triángulo rectángulo formado por la unión de los puntos y sus catetos. Es decir, si trazamos una línea entre los puntos se formará un triángulo rectángulo, donde un cateto es la diferencia en las `x's` y el otro cateto es la diferencia en las `y's`.\n",
    "\n",
    "Entonces, para calcular la distancia entre dos puntos podemos usar la ecuación:\n",
    "\n",
    "`distancia ^ 2 = diferencia-x ^ 2 + diferencia-y ^ 2`"
   ]
  },
  {
   "cell_type": "code",
   "execution_count": 1,
   "id": "88fa9179",
   "metadata": {
    "execution": {
     "iopub.execute_input": "2021-08-31T02:10:51.039626Z",
     "iopub.status.busy": "2021-08-31T02:10:51.039020Z",
     "iopub.status.idle": "2021-08-31T02:10:51.042689Z",
     "shell.execute_reply": "2021-08-31T02:10:51.042029Z",
     "shell.execute_reply.started": "2021-08-31T01:40:55.537118Z"
    },
    "papermill": {
     "duration": 0.0272,
     "end_time": "2021-08-31T02:10:51.042851",
     "exception": false,
     "start_time": "2021-08-31T02:10:51.015651",
     "status": "completed"
    },
    "tags": []
   },
   "outputs": [
    {
     "name": "stdout",
     "output_type": "stream",
     "text": [
      "Se creó la función calcularDistancia2D(x1, y1, x2, y2)\n"
     ]
    }
   ],
   "source": [
    "def calcularDistancia2D(x1, y1, x2, y2):\n",
    "    diferencia_x = x2 - x1\n",
    "    diferencia_y = y2 - y1\n",
    "    \n",
    "    # Se calcula la distancia entre los dos puntos como la raíz de la suma de sus catetos al cuadrado\n",
    "    # Cada cateto es la diferencia en el eje coordenado\n",
    "    distancia = ( diferencia_x ** 2 + diferencia_y ** 2 ) ** 0.5 # ** 0.5 -> raíz cuadrada\n",
    "    \n",
    "    return distancia\n",
    "    \n",
    "print(\"Se creó la función calcularDistancia2D(x1, y1, x2, y2)\")"
   ]
  },
  {
   "cell_type": "code",
   "execution_count": 2,
   "id": "e775e30f",
   "metadata": {
    "execution": {
     "iopub.execute_input": "2021-08-31T02:10:51.073628Z",
     "iopub.status.busy": "2021-08-31T02:10:51.072759Z",
     "iopub.status.idle": "2021-08-31T02:10:51.077565Z",
     "shell.execute_reply": "2021-08-31T02:10:51.077004Z",
     "shell.execute_reply.started": "2021-08-31T01:41:34.020166Z"
    },
    "papermill": {
     "duration": 0.023142,
     "end_time": "2021-08-31T02:10:51.077694",
     "exception": false,
     "start_time": "2021-08-31T02:10:51.054552",
     "status": "completed"
    },
    "tags": []
   },
   "outputs": [
    {
     "data": {
      "text/plain": [
       "1.4142135623730951"
      ]
     },
     "execution_count": 2,
     "metadata": {},
     "output_type": "execute_result"
    }
   ],
   "source": [
    "calcularDistancia2D(0, 0, 1, 1)"
   ]
  },
  {
   "cell_type": "code",
   "execution_count": 3,
   "id": "80673778",
   "metadata": {
    "execution": {
     "iopub.execute_input": "2021-08-31T02:10:51.106325Z",
     "iopub.status.busy": "2021-08-31T02:10:51.105419Z",
     "iopub.status.idle": "2021-08-31T02:10:51.110596Z",
     "shell.execute_reply": "2021-08-31T02:10:51.110019Z",
     "shell.execute_reply.started": "2021-08-31T01:42:00.939325Z"
    },
    "papermill": {
     "duration": 0.021441,
     "end_time": "2021-08-31T02:10:51.110726",
     "exception": false,
     "start_time": "2021-08-31T02:10:51.089285",
     "status": "completed"
    },
    "tags": []
   },
   "outputs": [
    {
     "data": {
      "text/plain": [
       "1.4142135623730951"
      ]
     },
     "execution_count": 3,
     "metadata": {},
     "output_type": "execute_result"
    }
   ],
   "source": [
    "calcularDistancia2D(1, 1, 2, 2)"
   ]
  },
  {
   "cell_type": "code",
   "execution_count": 4,
   "id": "eacf5e6e",
   "metadata": {
    "execution": {
     "iopub.execute_input": "2021-08-31T02:10:51.140164Z",
     "iopub.status.busy": "2021-08-31T02:10:51.139475Z",
     "iopub.status.idle": "2021-08-31T02:10:51.142367Z",
     "shell.execute_reply": "2021-08-31T02:10:51.142743Z",
     "shell.execute_reply.started": "2021-08-31T01:42:45.266778Z"
    },
    "papermill": {
     "duration": 0.019848,
     "end_time": "2021-08-31T02:10:51.142928",
     "exception": false,
     "start_time": "2021-08-31T02:10:51.123080",
     "status": "completed"
    },
    "tags": []
   },
   "outputs": [
    {
     "data": {
      "text/plain": [
       "3.605551275463989"
      ]
     },
     "execution_count": 4,
     "metadata": {},
     "output_type": "execute_result"
    }
   ],
   "source": [
    "calcularDistancia2D(1, 5, 4, 3)"
   ]
  },
  {
   "cell_type": "markdown",
   "id": "c00e6417",
   "metadata": {
    "papermill": {
     "duration": 0.011602,
     "end_time": "2021-08-31T02:10:51.166519",
     "exception": false,
     "start_time": "2021-08-31T02:10:51.154917",
     "status": "completed"
    },
    "tags": []
   },
   "source": [
    "## Ejercicio 2 - Determinar si un punto está dentro de un círculo\n",
    "\n",
    "Para determinar si un punto se encuentra dentro de una circunferencia, debemos preguntar si la distancia del punto al centro del círculo es mayor o menor a su radio.\n",
    "\n",
    "Porque el punto se encontrará fuera si es mayor al radio y se encontrará dentro si la distancia del punto al centro del círculo es menor al radio."
   ]
  },
  {
   "cell_type": "code",
   "execution_count": 5,
   "id": "c240b4f4",
   "metadata": {
    "execution": {
     "iopub.execute_input": "2021-08-31T02:10:51.196270Z",
     "iopub.status.busy": "2021-08-31T02:10:51.195555Z",
     "iopub.status.idle": "2021-08-31T02:10:51.198346Z",
     "shell.execute_reply": "2021-08-31T02:10:51.199107Z",
     "shell.execute_reply.started": "2021-08-31T01:48:29.970802Z"
    },
    "papermill": {
     "duration": 0.020784,
     "end_time": "2021-08-31T02:10:51.199380",
     "exception": false,
     "start_time": "2021-08-31T02:10:51.178596",
     "status": "completed"
    },
    "tags": []
   },
   "outputs": [
    {
     "name": "stdout",
     "output_type": "stream",
     "text": [
      "Se contruyó la función estaPuntoEnCirculo(x1, y1, ox, oy, r)\n"
     ]
    }
   ],
   "source": [
    "def estaPuntoEnCirculo(x1, y1, ox, oy, r):\n",
    "    distanciaPuntoCirculo = calcularDistancia2D(x1, y1, ox, oy)\n",
    "    if distanciaPuntoCirculo > r:\n",
    "        return False\n",
    "    else:\n",
    "        return True\n",
    "    \n",
    "print(\"Se contruyó la función estaPuntoEnCirculo(x1, y1, ox, oy, r)\")"
   ]
  },
  {
   "cell_type": "code",
   "execution_count": 6,
   "id": "8c19d5f3",
   "metadata": {
    "execution": {
     "iopub.execute_input": "2021-08-31T02:10:51.231218Z",
     "iopub.status.busy": "2021-08-31T02:10:51.230350Z",
     "iopub.status.idle": "2021-08-31T02:10:51.234633Z",
     "shell.execute_reply": "2021-08-31T02:10:51.234085Z",
     "shell.execute_reply.started": "2021-08-31T01:50:07.255030Z"
    },
    "papermill": {
     "duration": 0.021263,
     "end_time": "2021-08-31T02:10:51.234761",
     "exception": false,
     "start_time": "2021-08-31T02:10:51.213498",
     "status": "completed"
    },
    "tags": []
   },
   "outputs": [
    {
     "data": {
      "text/plain": [
       "False"
      ]
     },
     "execution_count": 6,
     "metadata": {},
     "output_type": "execute_result"
    }
   ],
   "source": [
    "estaPuntoEnCirculo(0, 2, 2, 2, 1.5)"
   ]
  },
  {
   "cell_type": "code",
   "execution_count": 7,
   "id": "653505b2",
   "metadata": {
    "execution": {
     "iopub.execute_input": "2021-08-31T02:10:51.265145Z",
     "iopub.status.busy": "2021-08-31T02:10:51.264377Z",
     "iopub.status.idle": "2021-08-31T02:10:51.268299Z",
     "shell.execute_reply": "2021-08-31T02:10:51.267698Z",
     "shell.execute_reply.started": "2021-08-31T01:50:16.639206Z"
    },
    "papermill": {
     "duration": 0.021051,
     "end_time": "2021-08-31T02:10:51.268441",
     "exception": false,
     "start_time": "2021-08-31T02:10:51.247390",
     "status": "completed"
    },
    "tags": []
   },
   "outputs": [
    {
     "data": {
      "text/plain": [
       "False"
      ]
     },
     "execution_count": 7,
     "metadata": {},
     "output_type": "execute_result"
    }
   ],
   "source": [
    "estaPuntoEnCirculo(1, 4, 2, 2, 1.5)"
   ]
  },
  {
   "cell_type": "code",
   "execution_count": 8,
   "id": "adbc876d",
   "metadata": {
    "execution": {
     "iopub.execute_input": "2021-08-31T02:10:51.298796Z",
     "iopub.status.busy": "2021-08-31T02:10:51.298210Z",
     "iopub.status.idle": "2021-08-31T02:10:51.301528Z",
     "shell.execute_reply": "2021-08-31T02:10:51.300853Z",
     "shell.execute_reply.started": "2021-08-31T01:50:25.060558Z"
    },
    "papermill": {
     "duration": 0.020378,
     "end_time": "2021-08-31T02:10:51.301674",
     "exception": false,
     "start_time": "2021-08-31T02:10:51.281296",
     "status": "completed"
    },
    "tags": []
   },
   "outputs": [
    {
     "data": {
      "text/plain": [
       "True"
      ]
     },
     "execution_count": 8,
     "metadata": {},
     "output_type": "execute_result"
    }
   ],
   "source": [
    "estaPuntoEnCirculo(3, 3, 2, 2, 1.5)"
   ]
  },
  {
   "cell_type": "markdown",
   "id": "41fff5ca",
   "metadata": {
    "papermill": {
     "duration": 0.013253,
     "end_time": "2021-08-31T02:10:51.328753",
     "exception": false,
     "start_time": "2021-08-31T02:10:51.315500",
     "status": "completed"
    },
    "tags": []
   },
   "source": [
    "## Ejercio 3 - Encender una Alarma con datos de un sensor de Humedad y Temperatura\n",
    "\n",
    "Se debe prender una alarma `CRÍTICO` cuándo los valores de Humedad superen el 60% o cuándo la temperatura llegue a 50°C o más, pero si la humedad está al 70% y la temperatura abajo de 40°C sólo debería mostrar `ADVERTENCIA`, en cualquier otro caso la alarma debería devolver `NORMAL`."
   ]
  },
  {
   "cell_type": "code",
   "execution_count": 9,
   "id": "c8fc6a65",
   "metadata": {
    "execution": {
     "iopub.execute_input": "2021-08-31T02:10:51.358431Z",
     "iopub.status.busy": "2021-08-31T02:10:51.357763Z",
     "iopub.status.idle": "2021-08-31T02:10:51.363207Z",
     "shell.execute_reply": "2021-08-31T02:10:51.363733Z",
     "shell.execute_reply.started": "2021-08-31T01:59:31.666524Z"
    },
    "papermill": {
     "duration": 0.02186,
     "end_time": "2021-08-31T02:10:51.363922",
     "exception": false,
     "start_time": "2021-08-31T02:10:51.342062",
     "status": "completed"
    },
    "tags": []
   },
   "outputs": [
    {
     "name": "stdout",
     "output_type": "stream",
     "text": [
      "Se definió la función alarmaHumedadTemperatura(temperatura, humedad)\n"
     ]
    }
   ],
   "source": [
    "def alarmaHumedadTemperatura(temperatura, humedad):\n",
    "    if temperatura < 40 and humedad >= 70:\n",
    "        return \"ADVERTENCIA\"\n",
    "    elif temperatura >= 50 or humedad >= 60:\n",
    "        return \"CRITICO\"\n",
    "    else:\n",
    "        return \"NORMAL\"\n",
    "    \n",
    "print(\"Se definió la función alarmaHumedadTemperatura(temperatura, humedad)\")"
   ]
  },
  {
   "cell_type": "code",
   "execution_count": 10,
   "id": "3a77fbf8",
   "metadata": {
    "execution": {
     "iopub.execute_input": "2021-08-31T02:10:51.395843Z",
     "iopub.status.busy": "2021-08-31T02:10:51.394918Z",
     "iopub.status.idle": "2021-08-31T02:10:51.399147Z",
     "shell.execute_reply": "2021-08-31T02:10:51.398608Z",
     "shell.execute_reply.started": "2021-08-31T01:58:40.680177Z"
    },
    "papermill": {
     "duration": 0.022061,
     "end_time": "2021-08-31T02:10:51.399298",
     "exception": false,
     "start_time": "2021-08-31T02:10:51.377237",
     "status": "completed"
    },
    "tags": []
   },
   "outputs": [
    {
     "data": {
      "text/plain": [
       "'CRITICO'"
      ]
     },
     "execution_count": 10,
     "metadata": {},
     "output_type": "execute_result"
    }
   ],
   "source": [
    "alarmaHumedadTemperatura(70, 30)"
   ]
  },
  {
   "cell_type": "code",
   "execution_count": 11,
   "id": "49d32346",
   "metadata": {
    "execution": {
     "iopub.execute_input": "2021-08-31T02:10:51.431190Z",
     "iopub.status.busy": "2021-08-31T02:10:51.430565Z",
     "iopub.status.idle": "2021-08-31T02:10:51.435295Z",
     "shell.execute_reply": "2021-08-31T02:10:51.434768Z",
     "shell.execute_reply.started": "2021-08-31T01:58:55.382249Z"
    },
    "papermill": {
     "duration": 0.022539,
     "end_time": "2021-08-31T02:10:51.435427",
     "exception": false,
     "start_time": "2021-08-31T02:10:51.412888",
     "status": "completed"
    },
    "tags": []
   },
   "outputs": [
    {
     "data": {
      "text/plain": [
       "'CRITICO'"
      ]
     },
     "execution_count": 11,
     "metadata": {},
     "output_type": "execute_result"
    }
   ],
   "source": [
    "alarmaHumedadTemperatura(30, 65)"
   ]
  },
  {
   "cell_type": "code",
   "execution_count": 12,
   "id": "869734d9",
   "metadata": {
    "execution": {
     "iopub.execute_input": "2021-08-31T02:10:51.469560Z",
     "iopub.status.busy": "2021-08-31T02:10:51.468852Z",
     "iopub.status.idle": "2021-08-31T02:10:51.473163Z",
     "shell.execute_reply": "2021-08-31T02:10:51.472554Z",
     "shell.execute_reply.started": "2021-08-31T01:59:34.555824Z"
    },
    "papermill": {
     "duration": 0.02309,
     "end_time": "2021-08-31T02:10:51.473301",
     "exception": false,
     "start_time": "2021-08-31T02:10:51.450211",
     "status": "completed"
    },
    "tags": []
   },
   "outputs": [
    {
     "data": {
      "text/plain": [
       "'ADVERTENCIA'"
      ]
     },
     "execution_count": 12,
     "metadata": {},
     "output_type": "execute_result"
    }
   ],
   "source": [
    "alarmaHumedadTemperatura(38, 70)"
   ]
  },
  {
   "cell_type": "code",
   "execution_count": 13,
   "id": "dde03473",
   "metadata": {
    "execution": {
     "iopub.execute_input": "2021-08-31T02:10:51.507941Z",
     "iopub.status.busy": "2021-08-31T02:10:51.507305Z",
     "iopub.status.idle": "2021-08-31T02:10:51.511505Z",
     "shell.execute_reply": "2021-08-31T02:10:51.511968Z",
     "shell.execute_reply.started": "2021-08-31T01:59:50.018447Z"
    },
    "papermill": {
     "duration": 0.02358,
     "end_time": "2021-08-31T02:10:51.512159",
     "exception": false,
     "start_time": "2021-08-31T02:10:51.488579",
     "status": "completed"
    },
    "tags": []
   },
   "outputs": [
    {
     "data": {
      "text/plain": [
       "'CRITICO'"
      ]
     },
     "execution_count": 13,
     "metadata": {},
     "output_type": "execute_result"
    }
   ],
   "source": [
    "alarmaHumedadTemperatura(41, 70)"
   ]
  },
  {
   "cell_type": "code",
   "execution_count": 14,
   "id": "94bbe9fa",
   "metadata": {
    "execution": {
     "iopub.execute_input": "2021-08-31T02:10:51.546177Z",
     "iopub.status.busy": "2021-08-31T02:10:51.545533Z",
     "iopub.status.idle": "2021-08-31T02:10:51.549886Z",
     "shell.execute_reply": "2021-08-31T02:10:51.549294Z",
     "shell.execute_reply.started": "2021-08-31T01:59:57.183880Z"
    },
    "papermill": {
     "duration": 0.022833,
     "end_time": "2021-08-31T02:10:51.550020",
     "exception": false,
     "start_time": "2021-08-31T02:10:51.527187",
     "status": "completed"
    },
    "tags": []
   },
   "outputs": [
    {
     "data": {
      "text/plain": [
       "'NORMAL'"
      ]
     },
     "execution_count": 14,
     "metadata": {},
     "output_type": "execute_result"
    }
   ],
   "source": [
    "alarmaHumedadTemperatura(38, 50)"
   ]
  }
 ],
 "metadata": {
  "kernelspec": {
   "display_name": "Python 3",
   "language": "python",
   "name": "python3"
  },
  "language_info": {
   "codemirror_mode": {
    "name": "ipython",
    "version": 3
   },
   "file_extension": ".py",
   "mimetype": "text/x-python",
   "name": "python",
   "nbconvert_exporter": "python",
   "pygments_lexer": "ipython3",
   "version": "3.7.10"
  },
  "papermill": {
   "default_parameters": {},
   "duration": 8.550321,
   "end_time": "2021-08-31T02:10:52.175302",
   "environment_variables": {},
   "exception": null,
   "input_path": "__notebook__.ipynb",
   "output_path": "__notebook__.ipynb",
   "parameters": {},
   "start_time": "2021-08-31T02:10:43.624981",
   "version": "2.3.3"
  }
 },
 "nbformat": 4,
 "nbformat_minor": 5
}
