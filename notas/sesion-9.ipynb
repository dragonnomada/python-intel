{
 "cells": [
  {
   "cell_type": "markdown",
   "source": [
    "# Sesión 9 - Programación Orientada a Objetos III\r\n",
    "\r\n",
    "## Conceptos\r\n",
    "\r\n",
    "* La POO se basa en el diseño de clases que tienen atributos y métodos\r\n",
    "* Los atributos son variables que retienen información dentro de la clase (formando un objeto)\r\n",
    "* Las clases pueden ser instanciadas mediante `<instancia> = <clase>()`\r\n",
    "* La instancia dentro de la clase se reconoce como el `self`\r\n",
    "* Es decir, hay una equivalencia entre la `<instancia>` y el `<self>`\r\n",
    "* Fuera de la clase se accede a los valores de los atributos mediante `<instancia>.<atributo>`\r\n",
    "* Por ejemplo, `producto = Producto()`, `producto.nombre = \"Coca Cola\"`\r\n",
    "* Dentro de la clase se accede a los valores de los atributos mediante `self.<atributo>`\r\n",
    "* Por ejemplo, `def describir(self)`, `print(self.nombre)`\r\n",
    "* Todos los métodos reciben como parámetro oculto el `self`\r\n",
    "* Existen métodos especiales, como el constructor y los métodos de acceso"
   ],
   "metadata": {}
  },
  {
   "cell_type": "code",
   "execution_count": 3,
   "source": [
    "class Fruta:\r\n",
    "    codigo = \"\"\r\n",
    "    nombre = \"\"\r\n",
    "    precio = 0.\r\n",
    "    cantidad = 0\r\n",
    "    \r\n",
    "    def capturar(self):\r\n",
    "        print(\"Ingresa los datos de la fruta\")\r\n",
    "        self.codigo = input(\"Código: \")\r\n",
    "        self.nombre = input(\"Nombre: \")\r\n",
    "        self.precio = float(input(\"Precio: \"))\r\n",
    "        self.cantidad = float(input(\"Cantidad (kg): \"))\r\n",
    "        \r\n",
    "    def quitarCantidad(self, cantidad):\r\n",
    "        if self.sePuedeVender(cantidad):\r\n",
    "            self.cantidad = self.cantidad - cantidad\r\n",
    "        else:\r\n",
    "            print(\"No se puede vender esa cantidad\")\r\n",
    "    \r\n",
    "    def sePuedeVender(self, cantidad):\r\n",
    "        if self.cantidad >= cantidad:\r\n",
    "            return True\r\n",
    "        else:\r\n",
    "            return False\r\n",
    "        \r\n",
    "    def describir(self):\r\n",
    "        print(\"| [{:4}] {:20} ${:7.2f} ({:4.1f} kgs) |\".format(self.codigo, self.nombre, self.precio, self.cantidad))"
   ],
   "outputs": [],
   "metadata": {}
  },
  {
   "cell_type": "code",
   "execution_count": 1,
   "source": [
    "class TiendaFrutas:\r\n",
    "    frutas = []\r\n",
    "    \r\n",
    "    def mostrar(self):\r\n",
    "        print(\"Frutas: {}\".format(len(self.frutas)))\r\n",
    "        for fruta in self.frutas:\r\n",
    "            fruta.describir()\r\n",
    "            \r\n",
    "    def agregarFruta(self, fruta):\r\n",
    "        self.frutas.append(fruta)\r\n",
    "        \r\n",
    "    def buscarFruta(self, codigo):\r\n",
    "        for fruta in self.frutas:\r\n",
    "            if fruta.codigo == codigo:\r\n",
    "                return fruta\r\n",
    "        return None\r\n",
    "        \r\n",
    "    def quitarFruta(self, codigo):\r\n",
    "        fruta = self.buscarFruta(codigo)\r\n",
    "        if fruta != None:\r\n",
    "            self.frutas.remove(fruta)\r\n",
    "            print(f\"Se quitó la fruta con el código {codigo}\")\r\n",
    "            fruta.describir()\r\n",
    "        else:\r\n",
    "            print(f\"No existe la fruta con el código {codigo}\")\r\n",
    "            \r\n",
    "    def vender(self):\r\n",
    "        self.mostrar()\r\n",
    "        codigo = input(\"Código Fruta: \")\r\n",
    "        cantidad = float(input(\"Cantidad (kg): \"))\r\n",
    "        fruta = self.buscarFruta(codigo)\r\n",
    "        if fruta != None:\r\n",
    "            if fruta.sePuedeVender(cantidad):\r\n",
    "                print(f\"Se vendió la fruta con el código {codigo} ({cantidad} kgs)\")\r\n",
    "                fruta.quitarCantidad(cantidad)\r\n",
    "                fruta.describir()\r\n",
    "            else:\r\n",
    "                print(f\"No se pudo vender la fruta con el código {codigo} ({cantidad} kgs)\")\r\n",
    "                fruta.describir()\r\n",
    "        else:\r\n",
    "            print(f\"No existe la fruta con el código {codigo}\")"
   ],
   "outputs": [],
   "metadata": {}
  },
  {
   "cell_type": "code",
   "execution_count": 5,
   "source": [
    "tienda = TiendaFrutas()\r\n",
    "\r\n",
    "while True:\r\n",
    "    print(\"Selecciona una opción:\")\r\n",
    "    print(\"1. Ver las frutas\")\r\n",
    "    print(\"2. Agregar fruta\")\r\n",
    "    print(\"3. Quitar fruta\")\r\n",
    "    print(\"4. Vender fruta\")\r\n",
    "    print(\"5. Salir\")\r\n",
    "    \r\n",
    "    opcion = input(\"Opción: \")\r\n",
    "    \r\n",
    "    if opcion == \"1\":\r\n",
    "        tienda.mostrar()\r\n",
    "    elif opcion == \"2\":\r\n",
    "        fruta = Fruta()\r\n",
    "        fruta.capturar()\r\n",
    "        tienda.agregarFruta(fruta)\r\n",
    "    elif opcion == \"3\":\r\n",
    "        codigo = input(\"Código Fruta: \")\r\n",
    "        tienda.quitarFruta(codigo)\r\n",
    "    elif opcion == \"4\":\r\n",
    "        tienda.vender()\r\n",
    "    elif opcion == \"5\":\r\n",
    "        break\r\n",
    "    else:\r\n",
    "        print(\"La opción no es válida\")\r\n",
    "    \r\n",
    "    print(\"[Presione ENTER para continuar]\")"
   ],
   "outputs": [
    {
     "output_type": "stream",
     "name": "stdout",
     "text": [
      "Selecciona una opción:\n",
      "1. Ver las frutas\n",
      "2. Agregar fruta\n",
      "3. Quitar fruta\n",
      "4. Vender fruta\n",
      "5. Salir\n"
     ]
    }
   ],
   "metadata": {}
  }
 ],
 "metadata": {
  "orig_nbformat": 4,
  "language_info": {
   "name": "python",
   "version": "3.9.6",
   "mimetype": "text/x-python",
   "codemirror_mode": {
    "name": "ipython",
    "version": 3
   },
   "pygments_lexer": "ipython3",
   "nbconvert_exporter": "python",
   "file_extension": ".py"
  },
  "kernelspec": {
   "name": "python3",
   "display_name": "Python 3.9.6 64-bit"
  },
  "interpreter": {
   "hash": "63fd5069d213b44bf678585dea6b12cceca9941eaf7f819626cde1f2670de90d"
  }
 },
 "nbformat": 4,
 "nbformat_minor": 2
}