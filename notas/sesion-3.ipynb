{
 "cells": [
  {
   "cell_type": "markdown",
   "id": "76e31d02",
   "metadata": {
    "_cell_guid": "b1076dfc-b9ad-4769-8c92-a6c4dae69d19",
    "_uuid": "8f2839f25d086af736a60e9eeb907d3b93b6e0e5",
    "papermill": {
     "duration": 0.049363,
     "end_time": "2021-09-03T15:01:50.546342",
     "exception": false,
     "start_time": "2021-09-03T15:01:50.496979",
     "status": "completed"
    },
    "tags": []
   },
   "source": [
    "# Datos con Python\n",
    "\n",
    "## Conceptos\n",
    "\n",
    "* `La información computada se convierte en datos. Ejemplo, la temperatura no medida es información, pero cuándo se mide se vuelve un dato`.\n",
    "* `Los datos se almacenan finalmente en forma de bits dentro de una computadora, por lo que tienen asociado un formato de conversión. Ejemplo, una imagen es la representación de pixeles, es decir, puntos en el espacio de colores distintos. Básicamente una imagen aproxima la realidad estampada en un plano momentáneamente, pero la computadora entiende cada pixel de color como el nivel de rojo, verde y azúl para mezclar o componer el color. Así, una imagen será para la computadora una matriz de pixeles y cada pixel será una tupla de 3 colores, por lo que tenemos una representación binaria de la información. Esta representación se basa en estándares.`"
   ]
  },
  {
   "cell_type": "code",
   "execution_count": 1,
   "id": "7c4386d3",
   "metadata": {
    "execution": {
     "iopub.execute_input": "2021-09-03T15:01:50.656391Z",
     "iopub.status.busy": "2021-09-03T15:01:50.652457Z",
     "iopub.status.idle": "2021-09-03T15:01:50.658595Z",
     "shell.execute_reply": "2021-09-03T15:01:50.659171Z"
    },
    "papermill": {
     "duration": 0.06441,
     "end_time": "2021-09-03T15:01:50.659485",
     "exception": false,
     "start_time": "2021-09-03T15:01:50.595075",
     "status": "completed"
    },
    "tags": []
   },
   "outputs": [],
   "source": [
    "a = 123"
   ]
  },
  {
   "cell_type": "code",
   "execution_count": 2,
   "id": "6b2ffd57",
   "metadata": {
    "execution": {
     "iopub.execute_input": "2021-09-03T15:01:50.763438Z",
     "iopub.status.busy": "2021-09-03T15:01:50.762714Z",
     "iopub.status.idle": "2021-09-03T15:01:50.767820Z",
     "shell.execute_reply": "2021-09-03T15:01:50.767156Z"
    },
    "papermill": {
     "duration": 0.058677,
     "end_time": "2021-09-03T15:01:50.767966",
     "exception": false,
     "start_time": "2021-09-03T15:01:50.709289",
     "status": "completed"
    },
    "tags": []
   },
   "outputs": [],
   "source": [
    "gradosFarenheit = 34"
   ]
  },
  {
   "cell_type": "markdown",
   "id": "28134f2a",
   "metadata": {
    "papermill": {
     "duration": 0.048112,
     "end_time": "2021-09-03T15:01:50.865376",
     "exception": false,
     "start_time": "2021-09-03T15:01:50.817264",
     "status": "completed"
    },
    "tags": []
   },
   "source": [
    "## Colecciones\n",
    "\n",
    "* `Listas` - Es un conjunto ordenado (indexado) de datos que puede cambiar en el tiempo. Sirven para retener información compleja. Ejemplo, las edades de un grupo de personas.\n",
    "* `Tuplas` - Es un conjunto ordenado (indexado) de datos que no pueden cambiar con el tiempo. Sirven como paquetes de transporte de información. Ejemplo, para retener los valores asociados a un punto espacial y pasarlo de una función a otra.\n",
    "* `Diccionarios` - Es un conjunto no ordenado (basado en clave) de datos que pueden cambiar con el tiempo. Sirven para retener datos tabulares o asociados a claves personalizadas. Ejemplo, un diccionario que retiene los datos de una persona (con diferentes tipos y sentidos)."
   ]
  },
  {
   "cell_type": "markdown",
   "id": "ff05fa11",
   "metadata": {
    "papermill": {
     "duration": 0.050893,
     "end_time": "2021-09-03T15:01:50.963753",
     "exception": false,
     "start_time": "2021-09-03T15:01:50.912860",
     "status": "completed"
    },
    "tags": []
   },
   "source": [
    "## Listas\n",
    "\n",
    "Sintaxis: `[ <elemento 0>, <elemento 1>, <elemento 2>, ..., <elemento I> ]`\n",
    "\n",
    "Índices: 0, 1, ..., N - 2, N - 1\n",
    "\n",
    "Al revés: -N, -N + 1, -N + 2, ..., -3, -2, -1"
   ]
  },
  {
   "cell_type": "code",
   "execution_count": 3,
   "id": "18a613b7",
   "metadata": {
    "execution": {
     "iopub.execute_input": "2021-09-03T15:01:51.067413Z",
     "iopub.status.busy": "2021-09-03T15:01:51.066641Z",
     "iopub.status.idle": "2021-09-03T15:01:51.071185Z",
     "shell.execute_reply": "2021-09-03T15:01:51.071796Z",
     "shell.execute_reply.started": "2021-09-03T13:47:30.432067Z"
    },
    "papermill": {
     "duration": 0.057991,
     "end_time": "2021-09-03T15:01:51.071984",
     "exception": false,
     "start_time": "2021-09-03T15:01:51.013993",
     "status": "completed"
    },
    "tags": []
   },
   "outputs": [],
   "source": [
    "edades = [23, 17, 45, 67, 85, 54]"
   ]
  },
  {
   "cell_type": "code",
   "execution_count": 4,
   "id": "dbfbe42f",
   "metadata": {
    "execution": {
     "iopub.execute_input": "2021-09-03T15:01:51.207881Z",
     "iopub.status.busy": "2021-09-03T15:01:51.207135Z",
     "iopub.status.idle": "2021-09-03T15:01:51.210568Z",
     "shell.execute_reply": "2021-09-03T15:01:51.211083Z",
     "shell.execute_reply.started": "2021-09-03T13:48:18.649494Z"
    },
    "papermill": {
     "duration": 0.076242,
     "end_time": "2021-09-03T15:01:51.211293",
     "exception": false,
     "start_time": "2021-09-03T15:01:51.135051",
     "status": "completed"
    },
    "tags": []
   },
   "outputs": [
    {
     "data": {
      "text/plain": [
       "23"
      ]
     },
     "execution_count": 4,
     "metadata": {},
     "output_type": "execute_result"
    }
   ],
   "source": [
    "edades[0] # 0 -> 23"
   ]
  },
  {
   "cell_type": "code",
   "execution_count": 5,
   "id": "bf7da1de",
   "metadata": {
    "execution": {
     "iopub.execute_input": "2021-09-03T15:01:51.308667Z",
     "iopub.status.busy": "2021-09-03T15:01:51.307889Z",
     "iopub.status.idle": "2021-09-03T15:01:51.314533Z",
     "shell.execute_reply": "2021-09-03T15:01:51.313932Z",
     "shell.execute_reply.started": "2021-09-03T13:48:49.683111Z"
    },
    "papermill": {
     "duration": 0.056508,
     "end_time": "2021-09-03T15:01:51.314694",
     "exception": false,
     "start_time": "2021-09-03T15:01:51.258186",
     "status": "completed"
    },
    "tags": []
   },
   "outputs": [
    {
     "data": {
      "text/plain": [
       "45"
      ]
     },
     "execution_count": 5,
     "metadata": {},
     "output_type": "execute_result"
    }
   ],
   "source": [
    "edades[2] # 2 -> 45"
   ]
  },
  {
   "cell_type": "code",
   "execution_count": 6,
   "id": "a83d7a17",
   "metadata": {
    "execution": {
     "iopub.execute_input": "2021-09-03T15:01:51.421785Z",
     "iopub.status.busy": "2021-09-03T15:01:51.421062Z",
     "iopub.status.idle": "2021-09-03T15:01:51.425727Z",
     "shell.execute_reply": "2021-09-03T15:01:51.425052Z",
     "shell.execute_reply.started": "2021-09-03T13:49:29.286965Z"
    },
    "papermill": {
     "duration": 0.060256,
     "end_time": "2021-09-03T15:01:51.425888",
     "exception": false,
     "start_time": "2021-09-03T15:01:51.365632",
     "status": "completed"
    },
    "tags": []
   },
   "outputs": [
    {
     "data": {
      "text/plain": [
       "54"
      ]
     },
     "execution_count": 6,
     "metadata": {},
     "output_type": "execute_result"
    }
   ],
   "source": [
    "edades[5] # 5 -> 54"
   ]
  },
  {
   "cell_type": "code",
   "execution_count": 7,
   "id": "821ad902",
   "metadata": {
    "execution": {
     "iopub.execute_input": "2021-09-03T15:01:51.526315Z",
     "iopub.status.busy": "2021-09-03T15:01:51.525591Z",
     "iopub.status.idle": "2021-09-03T15:01:51.528707Z",
     "shell.execute_reply": "2021-09-03T15:01:51.529217Z",
     "shell.execute_reply.started": "2021-09-03T13:50:13.170342Z"
    },
    "papermill": {
     "duration": 0.055871,
     "end_time": "2021-09-03T15:01:51.529400",
     "exception": false,
     "start_time": "2021-09-03T15:01:51.473529",
     "status": "completed"
    },
    "tags": []
   },
   "outputs": [
    {
     "data": {
      "text/plain": [
       "54"
      ]
     },
     "execution_count": 7,
     "metadata": {},
     "output_type": "execute_result"
    }
   ],
   "source": [
    "edades[-1] # -1 (5) -> 54"
   ]
  },
  {
   "cell_type": "code",
   "execution_count": 8,
   "id": "c74c9e86",
   "metadata": {
    "execution": {
     "iopub.execute_input": "2021-09-03T15:01:51.628005Z",
     "iopub.status.busy": "2021-09-03T15:01:51.627363Z",
     "iopub.status.idle": "2021-09-03T15:01:51.632181Z",
     "shell.execute_reply": "2021-09-03T15:01:51.632699Z",
     "shell.execute_reply.started": "2021-09-03T13:51:06.455562Z"
    },
    "papermill": {
     "duration": 0.055382,
     "end_time": "2021-09-03T15:01:51.632877",
     "exception": false,
     "start_time": "2021-09-03T15:01:51.577495",
     "status": "completed"
    },
    "tags": []
   },
   "outputs": [
    {
     "data": {
      "text/plain": [
       "67"
      ]
     },
     "execution_count": 8,
     "metadata": {},
     "output_type": "execute_result"
    }
   ],
   "source": [
    "edades[-3] # -3 (4° => 3) -> 67"
   ]
  },
  {
   "cell_type": "markdown",
   "id": "9c2714d6",
   "metadata": {
    "papermill": {
     "duration": 0.047207,
     "end_time": "2021-09-03T15:01:51.729860",
     "exception": false,
     "start_time": "2021-09-03T15:01:51.682653",
     "status": "completed"
    },
    "tags": []
   },
   "source": [
    "Lo índices negativos sirven sobre todo para obtener rápidamente las colas de la lista, es decir, los últimos elementos. Por ejemplo, imagina que ordenamos una lista de edades y queremos saber quiénes son los tres más chicos (índices 0, 1, 2) y los más grandes (índices -3, -2, -1). Con esto los índices negativos nos dan los últimos elementos sin importar el tamaño de la lista, evitando que nosotros tengamos que especificar los índices `N - 1`, `N - 2`, `N - 3`, etc. Así nos ahorramos el cálculo."
   ]
  },
  {
   "cell_type": "code",
   "execution_count": 9,
   "id": "b82cb68b",
   "metadata": {
    "execution": {
     "iopub.execute_input": "2021-09-03T15:01:51.831366Z",
     "iopub.status.busy": "2021-09-03T15:01:51.830705Z",
     "iopub.status.idle": "2021-09-03T15:01:51.833990Z",
     "shell.execute_reply": "2021-09-03T15:01:51.834568Z",
     "shell.execute_reply.started": "2021-09-03T13:55:24.915857Z"
    },
    "papermill": {
     "duration": 0.0566,
     "end_time": "2021-09-03T15:01:51.834744",
     "exception": false,
     "start_time": "2021-09-03T15:01:51.778144",
     "status": "completed"
    },
    "tags": []
   },
   "outputs": [],
   "source": [
    "# edades[6] # Error: El índices está fuera del rango\n",
    "\n",
    "#---------------------------------------------------------------------------\n",
    "#IndexError                                Traceback (most recent call last)\n",
    "#<ipython-input-7-fb77f3a860f9> in <module>\n",
    "#----> 1 edades[6] # Error: El índices está fuera del rango\n",
    "\n",
    "#IndexError: list index out of range"
   ]
  },
  {
   "cell_type": "code",
   "execution_count": 10,
   "id": "79aca89e",
   "metadata": {
    "execution": {
     "iopub.execute_input": "2021-09-03T15:01:51.941644Z",
     "iopub.status.busy": "2021-09-03T15:01:51.940944Z",
     "iopub.status.idle": "2021-09-03T15:01:51.947424Z",
     "shell.execute_reply": "2021-09-03T15:01:51.946857Z",
     "shell.execute_reply.started": "2021-09-03T13:58:23.269647Z"
    },
    "papermill": {
     "duration": 0.062398,
     "end_time": "2021-09-03T15:01:51.947572",
     "exception": false,
     "start_time": "2021-09-03T15:01:51.885174",
     "status": "completed"
    },
    "tags": []
   },
   "outputs": [
    {
     "data": {
      "text/plain": [
       "[17, 23, 45, 54, 67, 85]"
      ]
     },
     "execution_count": 10,
     "metadata": {},
     "output_type": "execute_result"
    }
   ],
   "source": [
    "edades_ordenadas = sorted(edades) # edades_ordenadas es una nueva lista con los valores ya ordenados\n",
    "\n",
    "edades_ordenadas # Debemos ordenar manualmente nuestras listas"
   ]
  },
  {
   "cell_type": "code",
   "execution_count": 11,
   "id": "ad3f20f3",
   "metadata": {
    "execution": {
     "iopub.execute_input": "2021-09-03T15:01:52.057447Z",
     "iopub.status.busy": "2021-09-03T15:01:52.056744Z",
     "iopub.status.idle": "2021-09-03T15:01:52.059857Z",
     "shell.execute_reply": "2021-09-03T15:01:52.060523Z",
     "shell.execute_reply.started": "2021-09-03T13:57:50.948323Z"
    },
    "papermill": {
     "duration": 0.060059,
     "end_time": "2021-09-03T15:01:52.060703",
     "exception": false,
     "start_time": "2021-09-03T15:01:52.000644",
     "status": "completed"
    },
    "tags": []
   },
   "outputs": [
    {
     "data": {
      "text/plain": [
       "[23, 17, 45, 67, 85, 54]"
      ]
     },
     "execution_count": 11,
     "metadata": {},
     "output_type": "execute_result"
    }
   ],
   "source": [
    "edades # La lista generalmente contiene valores en un orden no específicado"
   ]
  },
  {
   "cell_type": "code",
   "execution_count": 12,
   "id": "b5b06333",
   "metadata": {
    "execution": {
     "iopub.execute_input": "2021-09-03T15:01:52.166428Z",
     "iopub.status.busy": "2021-09-03T15:01:52.165533Z",
     "iopub.status.idle": "2021-09-03T15:01:52.171549Z",
     "shell.execute_reply": "2021-09-03T15:01:52.172069Z",
     "shell.execute_reply.started": "2021-09-03T13:59:25.804088Z"
    },
    "papermill": {
     "duration": 0.061725,
     "end_time": "2021-09-03T15:01:52.172416",
     "exception": false,
     "start_time": "2021-09-03T15:01:52.110691",
     "status": "completed"
    },
    "tags": []
   },
   "outputs": [
    {
     "data": {
      "text/plain": [
       "[85, 67, 54, 45, 23, 17]"
      ]
     },
     "execution_count": 12,
     "metadata": {},
     "output_type": "execute_result"
    }
   ],
   "source": [
    "edades_ordenadas_al_reves = sorted(edades, reverse=True) # Paramétros opcinales\n",
    "\n",
    "edades_ordenadas_al_reves"
   ]
  },
  {
   "cell_type": "markdown",
   "id": "62d9081e",
   "metadata": {
    "papermill": {
     "duration": 0.049471,
     "end_time": "2021-09-03T15:01:52.273627",
     "exception": false,
     "start_time": "2021-09-03T15:01:52.224156",
     "status": "completed"
    },
    "tags": []
   },
   "source": [
    "### Sublistas\n",
    "\n",
    "Sintaxis: `<lista>[<inicial>:<final>] -> <inicial>, <inicial + 1>, ..., <final - 1>`\n",
    "\n",
    "Alternativa: `<lista>[<inicial>:<final>:<salto>] -> <inicial>, <inicial + salto>, ..., <final - 1>`\n",
    "\n",
    "Omitir inicial: `<lista>[:<final>] -> 0, 1, ..., <final - 1>`\n",
    "\n",
    "Omitir final: `<lista>[<inicial>:] -> <inicial>, <inicial + 1>, ..., N - 1`\n",
    "\n",
    "Omitir ambos: `<lista>[:] -> 0, 1, ..., N - 1`"
   ]
  },
  {
   "cell_type": "code",
   "execution_count": 13,
   "id": "ef4dc5f2",
   "metadata": {
    "execution": {
     "iopub.execute_input": "2021-09-03T15:01:52.374738Z",
     "iopub.status.busy": "2021-09-03T15:01:52.374061Z",
     "iopub.status.idle": "2021-09-03T15:01:52.379485Z",
     "shell.execute_reply": "2021-09-03T15:01:52.380006Z",
     "shell.execute_reply.started": "2021-09-03T14:13:36.227272Z"
    },
    "papermill": {
     "duration": 0.057843,
     "end_time": "2021-09-03T15:01:52.380193",
     "exception": false,
     "start_time": "2021-09-03T15:01:52.322350",
     "status": "completed"
    },
    "tags": []
   },
   "outputs": [
    {
     "data": {
      "text/plain": [
       "[45, 67]"
      ]
     },
     "execution_count": 13,
     "metadata": {},
     "output_type": "execute_result"
    }
   ],
   "source": [
    "edades[2:4] # Índices: 2, 3"
   ]
  },
  {
   "cell_type": "code",
   "execution_count": 14,
   "id": "f1ac4b26",
   "metadata": {
    "execution": {
     "iopub.execute_input": "2021-09-03T15:01:52.484317Z",
     "iopub.status.busy": "2021-09-03T15:01:52.483486Z",
     "iopub.status.idle": "2021-09-03T15:01:52.489629Z",
     "shell.execute_reply": "2021-09-03T15:01:52.489032Z",
     "shell.execute_reply.started": "2021-09-03T14:14:37.096725Z"
    },
    "papermill": {
     "duration": 0.059831,
     "end_time": "2021-09-03T15:01:52.489773",
     "exception": false,
     "start_time": "2021-09-03T15:01:52.429942",
     "status": "completed"
    },
    "tags": []
   },
   "outputs": [
    {
     "data": {
      "text/plain": [
       "[17, 45, 67, 85]"
      ]
     },
     "execution_count": 14,
     "metadata": {},
     "output_type": "execute_result"
    }
   ],
   "source": [
    "edades[1:5] # Índices: 1, 2, 3, 4"
   ]
  },
  {
   "cell_type": "code",
   "execution_count": 15,
   "id": "3103c581",
   "metadata": {
    "execution": {
     "iopub.execute_input": "2021-09-03T15:01:52.595214Z",
     "iopub.status.busy": "2021-09-03T15:01:52.594245Z",
     "iopub.status.idle": "2021-09-03T15:01:52.598272Z",
     "shell.execute_reply": "2021-09-03T15:01:52.598724Z",
     "shell.execute_reply.started": "2021-09-03T14:15:05.423703Z"
    },
    "papermill": {
     "duration": 0.059742,
     "end_time": "2021-09-03T15:01:52.598897",
     "exception": false,
     "start_time": "2021-09-03T15:01:52.539155",
     "status": "completed"
    },
    "tags": []
   },
   "outputs": [
    {
     "data": {
      "text/plain": [
       "[23, 17, 45, 67]"
      ]
     },
     "execution_count": 15,
     "metadata": {},
     "output_type": "execute_result"
    }
   ],
   "source": [
    "edades[:4] # Índices: 0, 1, 2, 3"
   ]
  },
  {
   "cell_type": "code",
   "execution_count": 16,
   "id": "9f651284",
   "metadata": {
    "execution": {
     "iopub.execute_input": "2021-09-03T15:01:52.705085Z",
     "iopub.status.busy": "2021-09-03T15:01:52.704153Z",
     "iopub.status.idle": "2021-09-03T15:01:52.707902Z",
     "shell.execute_reply": "2021-09-03T15:01:52.708428Z",
     "shell.execute_reply.started": "2021-09-03T14:15:33.614037Z"
    },
    "papermill": {
     "duration": 0.05967,
     "end_time": "2021-09-03T15:01:52.708607",
     "exception": false,
     "start_time": "2021-09-03T15:01:52.648937",
     "status": "completed"
    },
    "tags": []
   },
   "outputs": [
    {
     "data": {
      "text/plain": [
       "[45, 67, 85, 54]"
      ]
     },
     "execution_count": 16,
     "metadata": {},
     "output_type": "execute_result"
    }
   ],
   "source": [
    "edades[2:] # Índices: 2, 3, 4, ..."
   ]
  },
  {
   "cell_type": "code",
   "execution_count": 17,
   "id": "9f76a001",
   "metadata": {
    "execution": {
     "iopub.execute_input": "2021-09-03T15:01:52.817356Z",
     "iopub.status.busy": "2021-09-03T15:01:52.816203Z",
     "iopub.status.idle": "2021-09-03T15:01:52.822457Z",
     "shell.execute_reply": "2021-09-03T15:01:52.822922Z",
     "shell.execute_reply.started": "2021-09-03T14:16:08.927258Z"
    },
    "papermill": {
     "duration": 0.062621,
     "end_time": "2021-09-03T15:01:52.823140",
     "exception": false,
     "start_time": "2021-09-03T15:01:52.760519",
     "status": "completed"
    },
    "tags": []
   },
   "outputs": [
    {
     "data": {
      "text/plain": [
       "[23, 17, 45, 67, 85, 54]"
      ]
     },
     "execution_count": 17,
     "metadata": {},
     "output_type": "execute_result"
    }
   ],
   "source": [
    "edades[:] # Índices: 0, 1, 2, ... (LISTA COPIA)"
   ]
  },
  {
   "cell_type": "code",
   "execution_count": 18,
   "id": "89a4d75b",
   "metadata": {
    "execution": {
     "iopub.execute_input": "2021-09-03T15:01:52.933747Z",
     "iopub.status.busy": "2021-09-03T15:01:52.933057Z",
     "iopub.status.idle": "2021-09-03T15:01:52.936386Z",
     "shell.execute_reply": "2021-09-03T15:01:52.936940Z",
     "shell.execute_reply.started": "2021-09-03T14:17:16.774768Z"
    },
    "papermill": {
     "duration": 0.061703,
     "end_time": "2021-09-03T15:01:52.937137",
     "exception": false,
     "start_time": "2021-09-03T15:01:52.875434",
     "status": "completed"
    },
    "tags": []
   },
   "outputs": [
    {
     "data": {
      "text/plain": [
       "[17, 23, 45, 54, 67, 85]"
      ]
     },
     "execution_count": 18,
     "metadata": {},
     "output_type": "execute_result"
    }
   ],
   "source": [
    "edades_copia = edades[:]\n",
    "\n",
    "edades_copia.sort() # Ordena la lista actual (¡cuídado!)\n",
    "\n",
    "edades_copia"
   ]
  },
  {
   "cell_type": "code",
   "execution_count": 19,
   "id": "233e254e",
   "metadata": {
    "execution": {
     "iopub.execute_input": "2021-09-03T15:01:53.049256Z",
     "iopub.status.busy": "2021-09-03T15:01:53.048483Z",
     "iopub.status.idle": "2021-09-03T15:01:53.053483Z",
     "shell.execute_reply": "2021-09-03T15:01:53.053964Z",
     "shell.execute_reply.started": "2021-09-03T14:18:14.126874Z"
    },
    "papermill": {
     "duration": 0.062396,
     "end_time": "2021-09-03T15:01:53.054312",
     "exception": false,
     "start_time": "2021-09-03T15:01:52.991916",
     "status": "completed"
    },
    "tags": []
   },
   "outputs": [
    {
     "data": {
      "text/plain": [
       "[67, 85, 54]"
      ]
     },
     "execution_count": 19,
     "metadata": {},
     "output_type": "execute_result"
    }
   ],
   "source": [
    "edades[-3:] # Últimos 3 elementos"
   ]
  },
  {
   "cell_type": "code",
   "execution_count": 20,
   "id": "5db4d96a",
   "metadata": {
    "execution": {
     "iopub.execute_input": "2021-09-03T15:01:53.164768Z",
     "iopub.status.busy": "2021-09-03T15:01:53.164010Z",
     "iopub.status.idle": "2021-09-03T15:01:53.170516Z",
     "shell.execute_reply": "2021-09-03T15:01:53.169860Z",
     "shell.execute_reply.started": "2021-09-03T14:18:17.915571Z"
    },
    "papermill": {
     "duration": 0.062001,
     "end_time": "2021-09-03T15:01:53.170672",
     "exception": false,
     "start_time": "2021-09-03T15:01:53.108671",
     "status": "completed"
    },
    "tags": []
   },
   "outputs": [
    {
     "data": {
      "text/plain": [
       "[23, 17, 45]"
      ]
     },
     "execution_count": 20,
     "metadata": {},
     "output_type": "execute_result"
    }
   ],
   "source": [
    "edades[:3] # Primeros 3 elementos"
   ]
  },
  {
   "cell_type": "code",
   "execution_count": 21,
   "id": "eabcf0f0",
   "metadata": {
    "execution": {
     "iopub.execute_input": "2021-09-03T15:01:53.283615Z",
     "iopub.status.busy": "2021-09-03T15:01:53.282667Z",
     "iopub.status.idle": "2021-09-03T15:01:53.287789Z",
     "shell.execute_reply": "2021-09-03T15:01:53.288351Z",
     "shell.execute_reply.started": "2021-09-03T14:19:18.232869Z"
    },
    "papermill": {
     "duration": 0.064784,
     "end_time": "2021-09-03T15:01:53.288549",
     "exception": false,
     "start_time": "2021-09-03T15:01:53.223765",
     "status": "completed"
    },
    "tags": []
   },
   "outputs": [
    {
     "data": {
      "text/plain": [
       "[45, 67]"
      ]
     },
     "execution_count": 21,
     "metadata": {},
     "output_type": "execute_result"
    }
   ],
   "source": [
    "edades[2:-2] # Los elementos quitando los primeros 2 y los últimos 2"
   ]
  },
  {
   "cell_type": "code",
   "execution_count": 22,
   "id": "2d781dce",
   "metadata": {
    "execution": {
     "iopub.execute_input": "2021-09-03T15:01:53.402931Z",
     "iopub.status.busy": "2021-09-03T15:01:53.401870Z",
     "iopub.status.idle": "2021-09-03T15:01:53.406457Z",
     "shell.execute_reply": "2021-09-03T15:01:53.405869Z",
     "shell.execute_reply.started": "2021-09-03T14:19:38.558009Z"
    },
    "papermill": {
     "duration": 0.063087,
     "end_time": "2021-09-03T15:01:53.406608",
     "exception": false,
     "start_time": "2021-09-03T15:01:53.343521",
     "status": "completed"
    },
    "tags": []
   },
   "outputs": [
    {
     "data": {
      "text/plain": [
       "[17, 23, 45, 54, 67, 85]"
      ]
     },
     "execution_count": 22,
     "metadata": {},
     "output_type": "execute_result"
    }
   ],
   "source": [
    "edades_copia"
   ]
  },
  {
   "cell_type": "code",
   "execution_count": 23,
   "id": "591e19ba",
   "metadata": {
    "execution": {
     "iopub.execute_input": "2021-09-03T15:01:53.518915Z",
     "iopub.status.busy": "2021-09-03T15:01:53.517842Z",
     "iopub.status.idle": "2021-09-03T15:01:53.523986Z",
     "shell.execute_reply": "2021-09-03T15:01:53.524678Z",
     "shell.execute_reply.started": "2021-09-03T14:20:34.342011Z"
    },
    "papermill": {
     "duration": 0.06361,
     "end_time": "2021-09-03T15:01:53.524880",
     "exception": false,
     "start_time": "2021-09-03T15:01:53.461270",
     "status": "completed"
    },
    "tags": []
   },
   "outputs": [
    {
     "data": {
      "text/plain": [
       "20.0"
      ]
     },
     "execution_count": 23,
     "metadata": {},
     "output_type": "execute_result"
    }
   ],
   "source": [
    "sum(edades_copia[:2]) / 2 # (23 + 17) / 2"
   ]
  },
  {
   "cell_type": "code",
   "execution_count": 24,
   "id": "d04dd677",
   "metadata": {
    "execution": {
     "iopub.execute_input": "2021-09-03T15:01:53.638146Z",
     "iopub.status.busy": "2021-09-03T15:01:53.637169Z",
     "iopub.status.idle": "2021-09-03T15:01:53.644464Z",
     "shell.execute_reply": "2021-09-03T15:01:53.643747Z",
     "shell.execute_reply.started": "2021-09-03T14:21:16.872821Z"
    },
    "papermill": {
     "duration": 0.064772,
     "end_time": "2021-09-03T15:01:53.644622",
     "exception": false,
     "start_time": "2021-09-03T15:01:53.579850",
     "status": "completed"
    },
    "tags": []
   },
   "outputs": [
    {
     "data": {
      "text/plain": [
       "76.0"
      ]
     },
     "execution_count": 24,
     "metadata": {},
     "output_type": "execute_result"
    }
   ],
   "source": [
    "sum(edades_copia[-2:]) / 2 # (67 + 85) / 2"
   ]
  },
  {
   "cell_type": "code",
   "execution_count": 25,
   "id": "c461cfe3",
   "metadata": {
    "execution": {
     "iopub.execute_input": "2021-09-03T15:01:53.851646Z",
     "iopub.status.busy": "2021-09-03T15:01:53.850837Z",
     "iopub.status.idle": "2021-09-03T15:01:53.855305Z",
     "shell.execute_reply": "2021-09-03T15:01:53.854644Z",
     "shell.execute_reply.started": "2021-09-03T14:22:06.595633Z"
    },
    "papermill": {
     "duration": 0.154222,
     "end_time": "2021-09-03T15:01:53.855456",
     "exception": false,
     "start_time": "2021-09-03T15:01:53.701234",
     "status": "completed"
    },
    "tags": []
   },
   "outputs": [
    {
     "data": {
      "text/plain": [
       "49.5"
      ]
     },
     "execution_count": 25,
     "metadata": {},
     "output_type": "execute_result"
    }
   ],
   "source": [
    "sum(edades_copia[2:-2]) / len(edades_copia[2:-2]) # (45 + 54) / 2"
   ]
  },
  {
   "cell_type": "code",
   "execution_count": 26,
   "id": "6bb184de",
   "metadata": {
    "execution": {
     "iopub.execute_input": "2021-09-03T15:01:53.970667Z",
     "iopub.status.busy": "2021-09-03T15:01:53.969786Z",
     "iopub.status.idle": "2021-09-03T15:01:53.974077Z",
     "shell.execute_reply": "2021-09-03T15:01:53.973582Z",
     "shell.execute_reply.started": "2021-09-03T14:24:28.213273Z"
    },
    "papermill": {
     "duration": 0.065228,
     "end_time": "2021-09-03T15:01:53.974279",
     "exception": false,
     "start_time": "2021-09-03T15:01:53.909051",
     "status": "completed"
    },
    "tags": []
   },
   "outputs": [
    {
     "data": {
      "text/plain": [
       "[1, 2, 3, 4, 5, 6, 7, 8, 9, 10, 11, 12, 13, 14, 15, 16, 17, 18, 19, 20]"
      ]
     },
     "execution_count": 26,
     "metadata": {},
     "output_type": "execute_result"
    }
   ],
   "source": [
    "numeros = list(range(1, 21))\n",
    "\n",
    "numeros"
   ]
  },
  {
   "cell_type": "code",
   "execution_count": 27,
   "id": "f7069575",
   "metadata": {
    "execution": {
     "iopub.execute_input": "2021-09-03T15:01:54.092005Z",
     "iopub.status.busy": "2021-09-03T15:01:54.091272Z",
     "iopub.status.idle": "2021-09-03T15:01:54.095006Z",
     "shell.execute_reply": "2021-09-03T15:01:54.094372Z",
     "shell.execute_reply.started": "2021-09-03T14:24:49.002818Z"
    },
    "papermill": {
     "duration": 0.064844,
     "end_time": "2021-09-03T15:01:54.095163",
     "exception": false,
     "start_time": "2021-09-03T15:01:54.030319",
     "status": "completed"
    },
    "tags": []
   },
   "outputs": [
    {
     "data": {
      "text/plain": [
       "[4, 5, 6, 7, 8, 9, 10, 11, 12, 13, 14]"
      ]
     },
     "execution_count": 27,
     "metadata": {},
     "output_type": "execute_result"
    }
   ],
   "source": [
    "numeros[3:14]"
   ]
  },
  {
   "cell_type": "code",
   "execution_count": 28,
   "id": "ad4288be",
   "metadata": {
    "execution": {
     "iopub.execute_input": "2021-09-03T15:01:54.211768Z",
     "iopub.status.busy": "2021-09-03T15:01:54.210846Z",
     "iopub.status.idle": "2021-09-03T15:01:54.215198Z",
     "shell.execute_reply": "2021-09-03T15:01:54.214641Z",
     "shell.execute_reply.started": "2021-09-03T14:25:02.281416Z"
    },
    "papermill": {
     "duration": 0.065133,
     "end_time": "2021-09-03T15:01:54.215353",
     "exception": false,
     "start_time": "2021-09-03T15:01:54.150220",
     "status": "completed"
    },
    "tags": []
   },
   "outputs": [
    {
     "data": {
      "text/plain": [
       "[4, 6, 8, 10, 12, 14]"
      ]
     },
     "execution_count": 28,
     "metadata": {},
     "output_type": "execute_result"
    }
   ],
   "source": [
    "numeros[3:14:2]"
   ]
  },
  {
   "cell_type": "code",
   "execution_count": 29,
   "id": "a1d83adb",
   "metadata": {
    "execution": {
     "iopub.execute_input": "2021-09-03T15:01:54.332562Z",
     "iopub.status.busy": "2021-09-03T15:01:54.331562Z",
     "iopub.status.idle": "2021-09-03T15:01:54.334641Z",
     "shell.execute_reply": "2021-09-03T15:01:54.335152Z",
     "shell.execute_reply.started": "2021-09-03T14:25:15.311374Z"
    },
    "papermill": {
     "duration": 0.064701,
     "end_time": "2021-09-03T15:01:54.335337",
     "exception": false,
     "start_time": "2021-09-03T15:01:54.270636",
     "status": "completed"
    },
    "tags": []
   },
   "outputs": [
    {
     "data": {
      "text/plain": [
       "[4, 7, 10, 13]"
      ]
     },
     "execution_count": 29,
     "metadata": {},
     "output_type": "execute_result"
    }
   ],
   "source": [
    "numeros[3:14:3]"
   ]
  },
  {
   "cell_type": "code",
   "execution_count": 30,
   "id": "1dca62dd",
   "metadata": {
    "execution": {
     "iopub.execute_input": "2021-09-03T15:01:54.456430Z",
     "iopub.status.busy": "2021-09-03T15:01:54.455657Z",
     "iopub.status.idle": "2021-09-03T15:01:54.458664Z",
     "shell.execute_reply": "2021-09-03T15:01:54.459122Z",
     "shell.execute_reply.started": "2021-09-03T14:25:46.504280Z"
    },
    "papermill": {
     "duration": 0.066934,
     "end_time": "2021-09-03T15:01:54.459307",
     "exception": false,
     "start_time": "2021-09-03T15:01:54.392373",
     "status": "completed"
    },
    "tags": []
   },
   "outputs": [
    {
     "data": {
      "text/plain": [
       "[14, 13, 12, 11, 10, 9, 8, 7, 6, 5, 4]"
      ]
     },
     "execution_count": 30,
     "metadata": {},
     "output_type": "execute_result"
    }
   ],
   "source": [
    "numeros[13:2:-1]"
   ]
  },
  {
   "cell_type": "code",
   "execution_count": 31,
   "id": "d4c41230",
   "metadata": {
    "execution": {
     "iopub.execute_input": "2021-09-03T15:01:54.576537Z",
     "iopub.status.busy": "2021-09-03T15:01:54.575666Z",
     "iopub.status.idle": "2021-09-03T15:01:54.579243Z",
     "shell.execute_reply": "2021-09-03T15:01:54.579686Z",
     "shell.execute_reply.started": "2021-09-03T14:26:07.023852Z"
    },
    "papermill": {
     "duration": 0.064124,
     "end_time": "2021-09-03T15:01:54.579858",
     "exception": false,
     "start_time": "2021-09-03T15:01:54.515734",
     "status": "completed"
    },
    "tags": []
   },
   "outputs": [
    {
     "data": {
      "text/plain": [
       "[14, 11, 8, 5]"
      ]
     },
     "execution_count": 31,
     "metadata": {},
     "output_type": "execute_result"
    }
   ],
   "source": [
    "numeros[13:2:-3]"
   ]
  },
  {
   "cell_type": "code",
   "execution_count": 32,
   "id": "93c25cf6",
   "metadata": {
    "execution": {
     "iopub.execute_input": "2021-09-03T15:01:54.700976Z",
     "iopub.status.busy": "2021-09-03T15:01:54.699949Z",
     "iopub.status.idle": "2021-09-03T15:01:54.704178Z",
     "shell.execute_reply": "2021-09-03T15:01:54.704661Z",
     "shell.execute_reply.started": "2021-09-03T14:26:32.031095Z"
    },
    "papermill": {
     "duration": 0.06927,
     "end_time": "2021-09-03T15:01:54.704850",
     "exception": false,
     "start_time": "2021-09-03T15:01:54.635580",
     "status": "completed"
    },
    "tags": []
   },
   "outputs": [
    {
     "data": {
      "text/plain": [
       "[17, 23, 45, 54, 67, 85]"
      ]
     },
     "execution_count": 32,
     "metadata": {},
     "output_type": "execute_result"
    }
   ],
   "source": [
    "edades_copia"
   ]
  },
  {
   "cell_type": "code",
   "execution_count": 33,
   "id": "e60aaa7a",
   "metadata": {
    "execution": {
     "iopub.execute_input": "2021-09-03T15:01:54.827197Z",
     "iopub.status.busy": "2021-09-03T15:01:54.826073Z",
     "iopub.status.idle": "2021-09-03T15:01:54.830472Z",
     "shell.execute_reply": "2021-09-03T15:01:54.830955Z",
     "shell.execute_reply.started": "2021-09-03T14:27:21.141869Z"
    },
    "papermill": {
     "duration": 0.067441,
     "end_time": "2021-09-03T15:01:54.831171",
     "exception": false,
     "start_time": "2021-09-03T15:01:54.763730",
     "status": "completed"
    },
    "tags": []
   },
   "outputs": [
    {
     "data": {
      "text/plain": [
       "[17, 45, 67]"
      ]
     },
     "execution_count": 33,
     "metadata": {},
     "output_type": "execute_result"
    }
   ],
   "source": [
    "edades_bajas = edades_copia[::2]\n",
    "\n",
    "edades_bajas"
   ]
  },
  {
   "cell_type": "code",
   "execution_count": 34,
   "id": "ea742c03",
   "metadata": {
    "execution": {
     "iopub.execute_input": "2021-09-03T15:01:54.954197Z",
     "iopub.status.busy": "2021-09-03T15:01:54.953326Z",
     "iopub.status.idle": "2021-09-03T15:01:54.957329Z",
     "shell.execute_reply": "2021-09-03T15:01:54.957841Z",
     "shell.execute_reply.started": "2021-09-03T14:27:39.773049Z"
    },
    "papermill": {
     "duration": 0.068584,
     "end_time": "2021-09-03T15:01:54.958024",
     "exception": false,
     "start_time": "2021-09-03T15:01:54.889440",
     "status": "completed"
    },
    "tags": []
   },
   "outputs": [
    {
     "data": {
      "text/plain": [
       "[23, 54, 85]"
      ]
     },
     "execution_count": 34,
     "metadata": {},
     "output_type": "execute_result"
    }
   ],
   "source": [
    "edades_altas = edades_copia[1::2]\n",
    "\n",
    "edades_altas"
   ]
  },
  {
   "cell_type": "code",
   "execution_count": 35,
   "id": "7f43101c",
   "metadata": {
    "execution": {
     "iopub.execute_input": "2021-09-03T15:01:55.079373Z",
     "iopub.status.busy": "2021-09-03T15:01:55.078631Z",
     "iopub.status.idle": "2021-09-03T15:01:55.086429Z",
     "shell.execute_reply": "2021-09-03T15:01:55.085734Z",
     "shell.execute_reply.started": "2021-09-03T14:27:57.260049Z"
    },
    "papermill": {
     "duration": 0.069181,
     "end_time": "2021-09-03T15:01:55.086643",
     "exception": false,
     "start_time": "2021-09-03T15:01:55.017462",
     "status": "completed"
    },
    "tags": []
   },
   "outputs": [
    {
     "data": {
      "text/plain": [
       "43.0"
      ]
     },
     "execution_count": 35,
     "metadata": {},
     "output_type": "execute_result"
    }
   ],
   "source": [
    "sum(edades_bajas) / len(edades_bajas)"
   ]
  },
  {
   "cell_type": "code",
   "execution_count": 36,
   "id": "41b6b17c",
   "metadata": {
    "execution": {
     "iopub.execute_input": "2021-09-03T15:01:55.215159Z",
     "iopub.status.busy": "2021-09-03T15:01:55.214233Z",
     "iopub.status.idle": "2021-09-03T15:01:55.219254Z",
     "shell.execute_reply": "2021-09-03T15:01:55.218669Z",
     "shell.execute_reply.started": "2021-09-03T14:28:10.528941Z"
    },
    "papermill": {
     "duration": 0.068498,
     "end_time": "2021-09-03T15:01:55.219406",
     "exception": false,
     "start_time": "2021-09-03T15:01:55.150908",
     "status": "completed"
    },
    "tags": []
   },
   "outputs": [
    {
     "data": {
      "text/plain": [
       "54.0"
      ]
     },
     "execution_count": 36,
     "metadata": {},
     "output_type": "execute_result"
    }
   ],
   "source": [
    "sum(edades_altas) / len(edades_altas)"
   ]
  },
  {
   "cell_type": "markdown",
   "id": "810a4485",
   "metadata": {
    "papermill": {
     "duration": 0.057604,
     "end_time": "2021-09-03T15:01:55.336574",
     "exception": false,
     "start_time": "2021-09-03T15:01:55.278970",
     "status": "completed"
    },
    "tags": []
   },
   "source": [
    "### Suma de elementos en una lista"
   ]
  },
  {
   "cell_type": "code",
   "execution_count": 37,
   "id": "69ae5ffa",
   "metadata": {
    "execution": {
     "iopub.execute_input": "2021-09-03T15:01:55.457745Z",
     "iopub.status.busy": "2021-09-03T15:01:55.457044Z",
     "iopub.status.idle": "2021-09-03T15:01:55.459884Z",
     "shell.execute_reply": "2021-09-03T15:01:55.460551Z",
     "shell.execute_reply.started": "2021-09-03T14:34:42.352761Z"
    },
    "papermill": {
     "duration": 0.066804,
     "end_time": "2021-09-03T15:01:55.460793",
     "exception": false,
     "start_time": "2021-09-03T15:01:55.393989",
     "status": "completed"
    },
    "tags": []
   },
   "outputs": [
    {
     "name": "stdout",
     "output_type": "stream",
     "text": [
      "356\n"
     ]
    }
   ],
   "source": [
    "pesos = [69, 34, 86, 32, 45, 90]\n",
    "\n",
    "# suma_pesos = sum(pesos)\n",
    "\n",
    "s = 0 # Acumulador de la suma de los pesos\n",
    "\n",
    "for peso in pesos:\n",
    "    s = s + peso # La suma es igual a la suma retenida (acumulada) más el peso iterado\n",
    "    \n",
    "print(s)"
   ]
  },
  {
   "cell_type": "code",
   "execution_count": 38,
   "id": "7ccc32c0",
   "metadata": {
    "execution": {
     "iopub.execute_input": "2021-09-03T15:01:55.581766Z",
     "iopub.status.busy": "2021-09-03T15:01:55.581006Z",
     "iopub.status.idle": "2021-09-03T15:01:55.585754Z",
     "shell.execute_reply": "2021-09-03T15:01:55.586272Z",
     "shell.execute_reply.started": "2021-09-03T14:34:49.914076Z"
    },
    "papermill": {
     "duration": 0.066679,
     "end_time": "2021-09-03T15:01:55.586463",
     "exception": false,
     "start_time": "2021-09-03T15:01:55.519784",
     "status": "completed"
    },
    "tags": []
   },
   "outputs": [
    {
     "data": {
      "text/plain": [
       "356"
      ]
     },
     "execution_count": 38,
     "metadata": {},
     "output_type": "execute_result"
    }
   ],
   "source": [
    "sum(pesos)"
   ]
  },
  {
   "cell_type": "code",
   "execution_count": 39,
   "id": "a181daa5",
   "metadata": {
    "execution": {
     "iopub.execute_input": "2021-09-03T15:01:55.707724Z",
     "iopub.status.busy": "2021-09-03T15:01:55.706962Z",
     "iopub.status.idle": "2021-09-03T15:01:55.712984Z",
     "shell.execute_reply": "2021-09-03T15:01:55.713506Z",
     "shell.execute_reply.started": "2021-09-03T14:36:23.282746Z"
    },
    "papermill": {
     "duration": 0.068901,
     "end_time": "2021-09-03T15:01:55.713686",
     "exception": false,
     "start_time": "2021-09-03T15:01:55.644785",
     "status": "completed"
    },
    "tags": []
   },
   "outputs": [
    {
     "name": "stdout",
     "output_type": "stream",
     "text": [
      "6\n"
     ]
    }
   ],
   "source": [
    "# total_pesos = len(pesos)\n",
    "\n",
    "i = 0 # Acumulador del total de pesos (elementos)\n",
    "\n",
    "for peso in pesos:\n",
    "    i = i + 1 # Cuenta uno más cada iteración\n",
    "    \n",
    "print(i)"
   ]
  },
  {
   "cell_type": "code",
   "execution_count": 40,
   "id": "228dc020",
   "metadata": {
    "execution": {
     "iopub.execute_input": "2021-09-03T15:01:55.835439Z",
     "iopub.status.busy": "2021-09-03T15:01:55.834748Z",
     "iopub.status.idle": "2021-09-03T15:01:55.837586Z",
     "shell.execute_reply": "2021-09-03T15:01:55.838111Z",
     "shell.execute_reply.started": "2021-09-03T14:37:09.112579Z"
    },
    "papermill": {
     "duration": 0.06582,
     "end_time": "2021-09-03T15:01:55.838290",
     "exception": false,
     "start_time": "2021-09-03T15:01:55.772470",
     "status": "completed"
    },
    "tags": []
   },
   "outputs": [
    {
     "name": "stdout",
     "output_type": "stream",
     "text": [
      "69\n",
      "86\n",
      "45\n"
     ]
    }
   ],
   "source": [
    "for i in range(len(pesos)):\n",
    "    if i % 2 == 0:\n",
    "        print(pesos[i])"
   ]
  },
  {
   "cell_type": "code",
   "execution_count": 41,
   "id": "b877b45f",
   "metadata": {
    "execution": {
     "iopub.execute_input": "2021-09-03T15:01:55.957606Z",
     "iopub.status.busy": "2021-09-03T15:01:55.956911Z",
     "iopub.status.idle": "2021-09-03T15:01:55.963315Z",
     "shell.execute_reply": "2021-09-03T15:01:55.962666Z",
     "shell.execute_reply.started": "2021-09-03T14:38:44.752133Z"
    },
    "papermill": {
     "duration": 0.067094,
     "end_time": "2021-09-03T15:01:55.963460",
     "exception": false,
     "start_time": "2021-09-03T15:01:55.896366",
     "status": "completed"
    },
    "tags": []
   },
   "outputs": [
    {
     "name": "stdout",
     "output_type": "stream",
     "text": [
      "69\n",
      "86\n",
      "45\n"
     ]
    }
   ],
   "source": [
    "print(\"\\n\".join(map(str, pesos[::2]))) # ??? Enigma"
   ]
  },
  {
   "cell_type": "markdown",
   "id": "fc7b92ec",
   "metadata": {
    "papermill": {
     "duration": 0.058717,
     "end_time": "2021-09-03T15:01:56.080625",
     "exception": false,
     "start_time": "2021-09-03T15:01:56.021908",
     "status": "completed"
    },
    "tags": []
   },
   "source": [
    "## Las retienen elementos"
   ]
  },
  {
   "cell_type": "code",
   "execution_count": 42,
   "id": "4f995896",
   "metadata": {
    "execution": {
     "iopub.execute_input": "2021-09-03T15:01:56.205032Z",
     "iopub.status.busy": "2021-09-03T15:01:56.204167Z",
     "iopub.status.idle": "2021-09-03T15:01:56.207508Z",
     "shell.execute_reply": "2021-09-03T15:01:56.208134Z",
     "shell.execute_reply.started": "2021-09-03T14:41:05.557283Z"
    },
    "papermill": {
     "duration": 0.068451,
     "end_time": "2021-09-03T15:01:56.208309",
     "exception": false,
     "start_time": "2021-09-03T15:01:56.139858",
     "status": "completed"
    },
    "tags": []
   },
   "outputs": [
    {
     "name": "stdout",
     "output_type": "stream",
     "text": [
      "La fruta es manzana\n",
      "La fruta es pera\n",
      "La fruta es mango\n",
      "La fruta es piña\n"
     ]
    }
   ],
   "source": [
    "frutas = [\"manzana\", \"pera\", \"mango\", \"piña\"]\n",
    "\n",
    "for fruta in frutas:\n",
    "    print(\"La fruta es {}\".format(fruta))"
   ]
  },
  {
   "cell_type": "code",
   "execution_count": 43,
   "id": "2ce63d78",
   "metadata": {
    "execution": {
     "iopub.execute_input": "2021-09-03T15:01:56.331985Z",
     "iopub.status.busy": "2021-09-03T15:01:56.330980Z",
     "iopub.status.idle": "2021-09-03T15:01:56.336892Z",
     "shell.execute_reply": "2021-09-03T15:01:56.336268Z",
     "shell.execute_reply.started": "2021-09-03T14:44:28.794136Z"
    },
    "papermill": {
     "duration": 0.070512,
     "end_time": "2021-09-03T15:01:56.337037",
     "exception": false,
     "start_time": "2021-09-03T15:01:56.266525",
     "status": "completed"
    },
    "tags": []
   },
   "outputs": [
    {
     "name": "stdout",
     "output_type": "stream",
     "text": [
      "(1+2j) <class 'complex'> 1.0 2.0 2.23606797749979\n",
      "(3-4j) <class 'complex'> 3.0 -4.0 5.0\n",
      "(6+3j) <class 'complex'> 6.0 3.0 6.708203932499369\n",
      "(0.5-0.5j) <class 'complex'> 0.5 -0.5 0.7071067811865476\n"
     ]
    }
   ],
   "source": [
    "frecuencias = [1 + 2j, 3 - 4j, 6 + 3j, 0.5 - 0.5j]\n",
    "\n",
    "for frecuencia in frecuencias:\n",
    "    print(frecuencia, type(frecuencia), frecuencia.real, frecuencia.imag, (frecuencia.real ** 2 + frecuencia.imag ** 2) ** 0.5)"
   ]
  },
  {
   "cell_type": "code",
   "execution_count": 44,
   "id": "2f45aeaf",
   "metadata": {
    "execution": {
     "iopub.execute_input": "2021-09-03T15:01:56.464039Z",
     "iopub.status.busy": "2021-09-03T15:01:56.463061Z",
     "iopub.status.idle": "2021-09-03T15:01:56.468862Z",
     "shell.execute_reply": "2021-09-03T15:01:56.468350Z",
     "shell.execute_reply.started": "2021-09-03T14:48:49.640546Z"
    },
    "papermill": {
     "duration": 0.072833,
     "end_time": "2021-09-03T15:01:56.469006",
     "exception": false,
     "start_time": "2021-09-03T15:01:56.396173",
     "status": "completed"
    },
    "tags": []
   },
   "outputs": [
    {
     "name": "stdout",
     "output_type": "stream",
     "text": [
      "['manzana', 'pera']\n",
      "manzanas: 1\n",
      "pera: 1\n",
      "mango: 0\n",
      "mango filia: 0.0\n",
      "--------------------------------------------------------------------------------\n",
      "['mango']\n",
      "manzanas: 0\n",
      "pera: 0\n",
      "mango: 1\n",
      "mango filia: 10000000.0\n",
      "--------------------------------------------------------------------------------\n",
      "['manzana', 'mango']\n",
      "manzanas: 1\n",
      "pera: 0\n",
      "mango: 1\n",
      "mango filia: 0.9999999000000099\n",
      "--------------------------------------------------------------------------------\n",
      "['pera']\n",
      "manzanas: 0\n",
      "pera: 1\n",
      "mango: 0\n",
      "mango filia: 0.0\n",
      "--------------------------------------------------------------------------------\n"
     ]
    }
   ],
   "source": [
    "historial_frutas = [\n",
    "    [\"manzana\", \"pera\"],\n",
    "    [\"mango\"],\n",
    "    [\"manzana\", \"mango\"],\n",
    "    [\"pera\"]\n",
    "]\n",
    "\n",
    "for frutas in historial_frutas:\n",
    "    print(frutas)\n",
    "    print(\"manzanas: {}\".format(frutas.count(\"manzana\")))\n",
    "    print(\"pera: {}\".format(frutas.count(\"pera\")))\n",
    "    print(\"mango: {}\".format(frutas.count(\"mango\")))\n",
    "    mango_filia = frutas.count(\"mango\") / (frutas.count(\"manzana\") + frutas.count(\"pera\") + 0.0000001)\n",
    "    print(\"mango filia: {}\".format(mango_filia))\n",
    "    print(\"-\" * 80)"
   ]
  },
  {
   "cell_type": "code",
   "execution_count": 45,
   "id": "2d1f4f27",
   "metadata": {
    "execution": {
     "iopub.execute_input": "2021-09-03T15:01:56.594159Z",
     "iopub.status.busy": "2021-09-03T15:01:56.593181Z",
     "iopub.status.idle": "2021-09-03T15:01:56.597687Z",
     "shell.execute_reply": "2021-09-03T15:01:56.597054Z",
     "shell.execute_reply.started": "2021-09-03T14:49:39.408693Z"
    },
    "papermill": {
     "duration": 0.069206,
     "end_time": "2021-09-03T15:01:56.597827",
     "exception": false,
     "start_time": "2021-09-03T15:01:56.528621",
     "status": "completed"
    },
    "tags": []
   },
   "outputs": [
    {
     "data": {
      "text/plain": [
       "['manzana', 'mango']"
      ]
     },
     "execution_count": 45,
     "metadata": {},
     "output_type": "execute_result"
    }
   ],
   "source": [
    "historial_frutas[2] # Cuál es la lista de frutas del historial en la tercera posición"
   ]
  },
  {
   "cell_type": "code",
   "execution_count": 46,
   "id": "4e8a140b",
   "metadata": {
    "execution": {
     "iopub.execute_input": "2021-09-03T15:01:56.724609Z",
     "iopub.status.busy": "2021-09-03T15:01:56.723853Z",
     "iopub.status.idle": "2021-09-03T15:01:56.727514Z",
     "shell.execute_reply": "2021-09-03T15:01:56.727958Z",
     "shell.execute_reply.started": "2021-09-03T14:49:50.559805Z"
    },
    "papermill": {
     "duration": 0.070963,
     "end_time": "2021-09-03T15:01:56.728154",
     "exception": false,
     "start_time": "2021-09-03T15:01:56.657191",
     "status": "completed"
    },
    "tags": []
   },
   "outputs": [
    {
     "data": {
      "text/plain": [
       "['pera']"
      ]
     },
     "execution_count": 46,
     "metadata": {},
     "output_type": "execute_result"
    }
   ],
   "source": [
    "historial_frutas[-1] # Cuál es la lista de frutas del historial en la última posición"
   ]
  },
  {
   "cell_type": "code",
   "execution_count": 47,
   "id": "668c35ee",
   "metadata": {
    "execution": {
     "iopub.execute_input": "2021-09-03T15:01:56.854839Z",
     "iopub.status.busy": "2021-09-03T15:01:56.853872Z",
     "iopub.status.idle": "2021-09-03T15:01:56.858118Z",
     "shell.execute_reply": "2021-09-03T15:01:56.857503Z",
     "shell.execute_reply.started": "2021-09-03T14:50:11.123188Z"
    },
    "papermill": {
     "duration": 0.069572,
     "end_time": "2021-09-03T15:01:56.858265",
     "exception": false,
     "start_time": "2021-09-03T15:01:56.788693",
     "status": "completed"
    },
    "tags": []
   },
   "outputs": [
    {
     "data": {
      "text/plain": [
       "'manzana'"
      ]
     },
     "execution_count": 47,
     "metadata": {},
     "output_type": "execute_result"
    }
   ],
   "source": [
    "historial_frutas[-2][0] # Cuál es la primer fruta de la lista en la penúltima posición en el historial"
   ]
  },
  {
   "cell_type": "code",
   "execution_count": 48,
   "id": "3b775928",
   "metadata": {
    "execution": {
     "iopub.execute_input": "2021-09-03T15:01:56.986792Z",
     "iopub.status.busy": "2021-09-03T15:01:56.985808Z",
     "iopub.status.idle": "2021-09-03T15:01:56.990392Z",
     "shell.execute_reply": "2021-09-03T15:01:56.989836Z",
     "shell.execute_reply.started": "2021-09-03T14:50:25.484219Z"
    },
    "papermill": {
     "duration": 0.070687,
     "end_time": "2021-09-03T15:01:56.990538",
     "exception": false,
     "start_time": "2021-09-03T15:01:56.919851",
     "status": "completed"
    },
    "tags": []
   },
   "outputs": [
    {
     "data": {
      "text/plain": [
       "'mango'"
      ]
     },
     "execution_count": 48,
     "metadata": {},
     "output_type": "execute_result"
    }
   ],
   "source": [
    "historial_frutas[1][-1] # Cuál es la última fruta de la lista de la segunda posición en el historial"
   ]
  },
  {
   "cell_type": "markdown",
   "id": "8d5a43e8",
   "metadata": {
    "papermill": {
     "duration": 0.063421,
     "end_time": "2021-09-03T15:01:57.115544",
     "exception": false,
     "start_time": "2021-09-03T15:01:57.052123",
     "status": "completed"
    },
    "tags": []
   },
   "source": [
    "## Métodos de alteración de listas (agregar y quitar)\n",
    "\n",
    "* `append(<elemento>)` - Agrega el `<elemento>` a la última posición\n",
    "* `insert(<índice>, <elemento>)` - Agrega el `<elemento>` en la posición de `<índice>` y recorre los demás elementos\n",
    "* `remove(<elemento>)` - Quita el primer `<elemento>` encontrado (¡Error si el elemento no está en la lista!)\n",
    "* `pop()` - Quita el último elemento\n",
    "* `pop(<índice>)` - Quita el elemento bajo el `<índice>` y recorre los demás"
   ]
  },
  {
   "cell_type": "code",
   "execution_count": 49,
   "id": "edf68d30",
   "metadata": {
    "execution": {
     "iopub.execute_input": "2021-09-03T15:01:57.243185Z",
     "iopub.status.busy": "2021-09-03T15:01:57.242443Z",
     "iopub.status.idle": "2021-09-03T15:01:57.245106Z",
     "shell.execute_reply": "2021-09-03T15:01:57.245605Z",
     "shell.execute_reply.started": "2021-09-03T14:59:47.215387Z"
    },
    "papermill": {
     "duration": 0.069809,
     "end_time": "2021-09-03T15:01:57.245790",
     "exception": false,
     "start_time": "2021-09-03T15:01:57.175981",
     "status": "completed"
    },
    "tags": []
   },
   "outputs": [
    {
     "data": {
      "text/plain": [
       "['manzana', 'pera', 'mango']"
      ]
     },
     "execution_count": 49,
     "metadata": {},
     "output_type": "execute_result"
    }
   ],
   "source": [
    "frutas = []\n",
    "\n",
    "frutas.append(\"manzana\") # [] -> [\"manzana\"]\n",
    "frutas.append(\"pera\") # [\"manzana\"] -> [\"manzana\", \"pera\"]\n",
    "frutas.append(\"mango\") # [\"manzana\", \"pera\"] -> [\"manzana\", \"pera\", \"mango\"]\n",
    "\n",
    "frutas"
   ]
  },
  {
   "cell_type": "code",
   "execution_count": 50,
   "id": "52180c1b",
   "metadata": {
    "execution": {
     "iopub.execute_input": "2021-09-03T15:01:57.371113Z",
     "iopub.status.busy": "2021-09-03T15:01:57.370436Z",
     "iopub.status.idle": "2021-09-03T15:01:57.376879Z",
     "shell.execute_reply": "2021-09-03T15:01:57.376186Z",
     "shell.execute_reply.started": "2021-09-03T14:59:48.999431Z"
    },
    "papermill": {
     "duration": 0.070272,
     "end_time": "2021-09-03T15:01:57.377040",
     "exception": false,
     "start_time": "2021-09-03T15:01:57.306768",
     "status": "completed"
    },
    "tags": []
   },
   "outputs": [
    {
     "data": {
      "text/plain": [
       "['manzana', 'melón', 'pera', 'mango']"
      ]
     },
     "execution_count": 50,
     "metadata": {},
     "output_type": "execute_result"
    }
   ],
   "source": [
    "frutas.insert(1, \"melón\") # [\"manzana\", \"melón\", \"pera\", \"mango\"]\n",
    "\n",
    "frutas"
   ]
  },
  {
   "cell_type": "code",
   "execution_count": 51,
   "id": "a3747804",
   "metadata": {
    "execution": {
     "iopub.execute_input": "2021-09-03T15:01:57.507130Z",
     "iopub.status.busy": "2021-09-03T15:01:57.506277Z",
     "iopub.status.idle": "2021-09-03T15:01:57.510693Z",
     "shell.execute_reply": "2021-09-03T15:01:57.510008Z",
     "shell.execute_reply.started": "2021-09-03T14:59:51.231147Z"
    },
    "papermill": {
     "duration": 0.070805,
     "end_time": "2021-09-03T15:01:57.510839",
     "exception": false,
     "start_time": "2021-09-03T15:01:57.440034",
     "status": "completed"
    },
    "tags": []
   },
   "outputs": [
    {
     "data": {
      "text/plain": [
       "['melón', 'pera', 'mango']"
      ]
     },
     "execution_count": 51,
     "metadata": {},
     "output_type": "execute_result"
    }
   ],
   "source": [
    "frutas.remove(\"manzana\")\n",
    "\n",
    "frutas"
   ]
  },
  {
   "cell_type": "code",
   "execution_count": 52,
   "id": "12a562e7",
   "metadata": {
    "execution": {
     "iopub.execute_input": "2021-09-03T15:01:57.639613Z",
     "iopub.status.busy": "2021-09-03T15:01:57.638921Z",
     "iopub.status.idle": "2021-09-03T15:01:57.640900Z",
     "shell.execute_reply": "2021-09-03T15:01:57.641365Z",
     "shell.execute_reply.started": "2021-09-03T15:00:27.798016Z"
    },
    "papermill": {
     "duration": 0.068241,
     "end_time": "2021-09-03T15:01:57.641541",
     "exception": false,
     "start_time": "2021-09-03T15:01:57.573300",
     "status": "completed"
    },
    "tags": []
   },
   "outputs": [],
   "source": [
    "# frutas.remove(\"manzana\") # Error el elemento no existe\n",
    "\n",
    "#---------------------------------------------------------------------------\n",
    "#ValueError                                Traceback (most recent call last)\n",
    "#<ipython-input-80-e986a489ade3> in <module>\n",
    "#----> 1 frutas.remove(\"manzana\")\n",
    "\n",
    "#ValueError: list.remove(x): x not in list"
   ]
  },
  {
   "cell_type": "code",
   "execution_count": 53,
   "id": "b90d0586",
   "metadata": {
    "execution": {
     "iopub.execute_input": "2021-09-03T15:01:57.771394Z",
     "iopub.status.busy": "2021-09-03T15:01:57.770688Z",
     "iopub.status.idle": "2021-09-03T15:01:57.773216Z",
     "shell.execute_reply": "2021-09-03T15:01:57.773702Z",
     "shell.execute_reply.started": "2021-09-03T15:00:54.501278Z"
    },
    "papermill": {
     "duration": 0.070332,
     "end_time": "2021-09-03T15:01:57.773887",
     "exception": false,
     "start_time": "2021-09-03T15:01:57.703555",
     "status": "completed"
    },
    "tags": []
   },
   "outputs": [
    {
     "data": {
      "text/plain": [
       "['melón', 'pera']"
      ]
     },
     "execution_count": 53,
     "metadata": {},
     "output_type": "execute_result"
    }
   ],
   "source": [
    "ultima_fruta = frutas.pop() # Quita y devuelve\n",
    "\n",
    "frutas"
   ]
  },
  {
   "cell_type": "code",
   "execution_count": 54,
   "id": "711c00b2",
   "metadata": {
    "execution": {
     "iopub.execute_input": "2021-09-03T15:01:57.900043Z",
     "iopub.status.busy": "2021-09-03T15:01:57.899412Z",
     "iopub.status.idle": "2021-09-03T15:01:57.904389Z",
     "shell.execute_reply": "2021-09-03T15:01:57.904859Z",
     "shell.execute_reply.started": "2021-09-03T15:01:13.569934Z"
    },
    "papermill": {
     "duration": 0.069552,
     "end_time": "2021-09-03T15:01:57.905041",
     "exception": false,
     "start_time": "2021-09-03T15:01:57.835489",
     "status": "completed"
    },
    "tags": []
   },
   "outputs": [
    {
     "data": {
      "text/plain": [
       "['pera']"
      ]
     },
     "execution_count": 54,
     "metadata": {},
     "output_type": "execute_result"
    }
   ],
   "source": [
    "primer_fruta = frutas.pop(0) # Quita y devuelve\n",
    "\n",
    "frutas"
   ]
  }
 ],
 "metadata": {
  "kernelspec": {
   "display_name": "Python 3",
   "language": "python",
   "name": "python3"
  },
  "language_info": {
   "codemirror_mode": {
    "name": "ipython",
    "version": 3
   },
   "file_extension": ".py",
   "mimetype": "text/x-python",
   "name": "python",
   "nbconvert_exporter": "python",
   "pygments_lexer": "ipython3",
   "version": "3.7.10"
  },
  "papermill": {
   "default_parameters": {},
   "duration": 16.999196,
   "end_time": "2021-09-03T15:01:58.677146",
   "environment_variables": {},
   "exception": null,
   "input_path": "__notebook__.ipynb",
   "output_path": "__notebook__.ipynb",
   "parameters": {},
   "start_time": "2021-09-03T15:01:41.677950",
   "version": "2.3.3"
  }
 },
 "nbformat": 4,
 "nbformat_minor": 5
}
