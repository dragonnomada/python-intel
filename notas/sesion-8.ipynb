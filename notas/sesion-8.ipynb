{
 "cells": [
  {
   "cell_type": "markdown",
   "source": [
    "# Sesión 8 - Programación Orientada a Objetos"
   ],
   "metadata": {}
  },
  {
   "cell_type": "markdown",
   "source": [
    "> escenario.txt\r\n",
    "\r\n",
    "```txt\r\n",
    "+---\r\n",
    "----\r\n",
    "-*--\r\n",
    "--*-\r\n",
    "```\r\n",
    "\r\n",
    "> escenario_2.txt\r\n",
    "\r\n",
    "```txt\r\n",
    "+----------\r\n",
    "-----------\r\n",
    "-*------*--\r\n",
    "--*--------\r\n",
    "-----------\r\n",
    "-------*---\r\n",
    "----*------\r\n",
    "```"
   ],
   "metadata": {}
  },
  {
   "cell_type": "code",
   "execution_count": 48,
   "source": [
    "# snake_case - minucula_minuscula (edad_estudiante)\r\n",
    "# camelCase - minuculaMayúscula (esCasado)\r\n",
    "# PacalCase - MayúsculaMayúscula (EstudianteRegistro)\r\n",
    "\r\n",
    "# class <nombre clase>:\r\n",
    "#   <nombre estado> = <valor inicial>\r\n",
    "#   def <nombre método>(self, <parámetros>):\r\n",
    "#       <bloque con acceso a self>\r\n",
    "#       self.<nombre estado> ~ <variable>\r\n",
    "\r\n",
    "class Escenario:\r\n",
    "    mat = []\r\n",
    "    num_filas = 0\r\n",
    "    num_columnas = 0\r\n",
    "    \r\n",
    "    def abrir(self, nombre_archivo):\r\n",
    "        f = open(nombre_archivo, \"r\")\r\n",
    "        \r\n",
    "        self.mat = []\r\n",
    "        self.num_filas = 0\r\n",
    "        \r\n",
    "        for line in f:\r\n",
    "            # line ~ \"+----------\\n\"\r\n",
    "            # line.strip() ~ \"+----------\"\r\n",
    "            # list(line) ~ [\"+\", \"-\", \"-\", \"-\", ...]\r\n",
    "            fila = list(line.strip())\r\n",
    "            self.mat.append(fila)\r\n",
    "            self.num_columnas = len(fila)\r\n",
    "            self.num_filas = self.num_filas + 1\r\n",
    "            \r\n",
    "        # self.mat ~ [ [\"+\", \"-\", ...], [\"-\", \"-\", ...], [\"-\", \"*\", ...], ... ]\r\n",
    "        # self.num_columnas ~ 4\r\n",
    "        # self.num_filas ~ 4\r\n",
    "            \r\n",
    "        f.close()\r\n",
    "        \r\n",
    "    def describir(self):\r\n",
    "        print(\"Escenario {}x{}\".format(self.num_filas, self.num_columnas))\r\n",
    "        print(\"+-\" + \"---\" * self.num_columnas + \"-+\")\r\n",
    "        for fila in self.mat:\r\n",
    "            # fila ~ ['+', '-', '-', '-']\r\n",
    "            texto = \"\"\r\n",
    "            for dato in fila:\r\n",
    "                otro_dato = dato\r\n",
    "                if dato == \"-\":\r\n",
    "                    otro_dato = \" \"\r\n",
    "                elif dato == \"+\":\r\n",
    "                    otro_dato = \"(+)\"\r\n",
    "                texto = texto + \"{:^3}\".format(otro_dato)\r\n",
    "            print(\"| \" + texto + \" |\")\r\n",
    "        print(\"+-\" + \"---\" * self.num_columnas + \"-+\")\r\n",
    "        \r\n",
    "    def mover(self, fila_1, col_1, fila_2, col_2):\r\n",
    "        if col_1 < 0 or col_1 >= self.num_columnas:\r\n",
    "            return False\r\n",
    "        if col_2 < 0 or col_2 >= self.num_columnas:\r\n",
    "            return False\r\n",
    "        if fila_1 < 0 or fila_1 >= self.num_filas:\r\n",
    "            return False\r\n",
    "        if fila_2 < 0 or fila_2 >= self.num_filas:\r\n",
    "            return False\r\n",
    "        \r\n",
    "        self.mat[fila_2][col_2] = self.mat[fila_1][col_1]\r\n",
    "        self.mat[fila_1][col_1] = \"-\"\r\n",
    "        \r\n",
    "        return True\r\n",
    "        \r\n",
    "escenario_1 = Escenario() # mat: [] num_filas: 0 num_columnas: 0\r\n",
    "escenario_2 = Escenario() # mat: [] num_filas: 0 num_columnas: 0\r\n",
    "\r\n",
    "escenario_1.abrir(\"data/escenario.txt\") # mat: [4x4] num_filas: 4 num_columnas: 4\r\n",
    "escenario_2.abrir(\"data/escenario_2.txt\") # mat: [7x11] num_filas: 7 num_columnas: 11\r\n",
    "\r\n",
    "# print(escenario_1.mat)\r\n",
    "# print(escenario_2.mat)\r\n",
    "\r\n",
    "escenario_1.describir() # mat: [4x4] num_filas: 4 num_columnas: 4\r\n",
    "escenario_1.mover(0, 0, 1, 2) # mat: [4x4] num_filas: 4 num_columnas: 4\r\n",
    "escenario_1.mover(-1, -2, 30, 50) # mat: [4x4] num_filas: 4 num_columnas: 4\r\n",
    "escenario_1.describir() # mat: [4x4] num_filas: 4 num_columnas: 4\r\n",
    "\r\n",
    "escenario_2.describir() # mat: [7x11] num_filas: 7 num_columnas: 11\r\n"
   ],
   "outputs": [
    {
     "output_type": "stream",
     "name": "stdout",
     "text": [
      "Escenario 4x4\n",
      "+--------------+\n",
      "| (+)          |\n",
      "|              |\n",
      "|     *        |\n",
      "|        *     |\n",
      "+--------------+\n",
      "Escenario 4x4\n",
      "+--------------+\n",
      "|              |\n",
      "|       (+)    |\n",
      "|     *        |\n",
      "|        *     |\n",
      "+--------------+\n",
      "Escenario 7x11\n",
      "+-----------------------------------+\n",
      "| (+)                               |\n",
      "|                                   |\n",
      "|     *                    *        |\n",
      "|        *                          |\n",
      "|                                   |\n",
      "|                       *           |\n",
      "|              *                    |\n",
      "+-----------------------------------+\n"
     ]
    }
   ],
   "metadata": {}
  },
  {
   "cell_type": "code",
   "execution_count": 49,
   "source": [
    "# mover mat[0][0] (~1) a mat[1][1]\r\n",
    "mat = [\r\n",
    "    [1, 0, 2, 0],\r\n",
    "    [0, 0, 0, 0],\r\n",
    "    [0, 0, 0, 0],\r\n",
    "    [0, 0, 0, 0],\r\n",
    "]\r\n",
    "\r\n",
    "mat[1][1] = mat[0][0]\r\n",
    "mat[0][0] = 0\r\n",
    "\r\n",
    "print(mat)"
   ],
   "outputs": [
    {
     "output_type": "stream",
     "name": "stdout",
     "text": [
      "[[0, 0, 2, 0], [0, 1, 0, 0], [0, 0, 0, 0], [0, 0, 0, 0]]\n"
     ]
    }
   ],
   "metadata": {}
  },
  {
   "cell_type": "code",
   "execution_count": 50,
   "source": [
    "[1, 2, 3, 4, 5][2:4]"
   ],
   "outputs": [
    {
     "output_type": "execute_result",
     "data": {
      "text/plain": [
       "[3, 4]"
      ]
     },
     "metadata": {},
     "execution_count": 50
    }
   ],
   "metadata": {}
  },
  {
   "cell_type": "code",
   "execution_count": 51,
   "source": [
    "def mover(mat, fila_1, col_1, fila_2, col_2):\r\n",
    "    mat[fila_2][col_2] = mat[fila_1][col_1]\r\n",
    "    mat[fila_1][col_1] = 0\r\n",
    "    \r\n",
    "mover(mat, 0, 2, 2, 1)\r\n",
    "\r\n",
    "print(mat)"
   ],
   "outputs": [
    {
     "output_type": "stream",
     "name": "stdout",
     "text": [
      "[[0, 0, 0, 0], [0, 1, 0, 0], [0, 2, 0, 0], [0, 0, 0, 0]]\n"
     ]
    }
   ],
   "metadata": {}
  },
  {
   "cell_type": "code",
   "execution_count": 52,
   "source": [
    "f = open(\"data/escenario_2.txt\", \"r\")\r\n",
    "        \r\n",
    "mat = []\r\n",
    "num_filas = 0\r\n",
    "\r\n",
    "for line in f:\r\n",
    "    # line ~ \"+----------\\n\"\r\n",
    "    # line.strip() ~ \"+----------\"\r\n",
    "    # list(line) ~ [\"+\", \"-\", \"-\", \"-\", ...]\r\n",
    "    fila = list(line.strip())\r\n",
    "    mat.append(fila)\r\n",
    "    num_columnas = len(fila)\r\n",
    "    num_filas = num_filas + 1\r\n",
    "    \r\n",
    "f.close()\r\n",
    "\r\n",
    "print(mat)\r\n",
    "print(num_filas)\r\n",
    "print(num_columnas)"
   ],
   "outputs": [
    {
     "output_type": "stream",
     "name": "stdout",
     "text": [
      "[['+', '-', '-', '-', '-', '-', '-', '-', '-', '-', '-'], ['-', '-', '-', '-', '-', '-', '-', '-', '-', '-', '-'], ['-', '*', '-', '-', '-', '-', '-', '-', '*', '-', '-'], ['-', '-', '*', '-', '-', '-', '-', '-', '-', '-', '-'], ['-', '-', '-', '-', '-', '-', '-', '-', '-', '-', '-'], ['-', '-', '-', '-', '-', '-', '-', '*', '-', '-', '-'], ['-', '-', '-', '-', '*', '-', '-', '-', '-', '-', '-']]\n",
      "7\n",
      "11\n"
     ]
    }
   ],
   "metadata": {}
  },
  {
   "cell_type": "code",
   "execution_count": 53,
   "source": [
    "class Robot:\r\n",
    "    fila = 0\r\n",
    "    columna = 0\r\n",
    "    escenario = None\r\n",
    "    \r\n",
    "    def asignarEscenario(self, escenario):\r\n",
    "        self.escenario = escenario\r\n",
    "        \r\n",
    "    def moverDerecha(self):\r\n",
    "        nueva_fila = self.fila\r\n",
    "        nueva_columna = self.columna + 1\r\n",
    "        \r\n",
    "        seMovio = self.escenario.mover(self.fila, self.columna, nueva_fila, nueva_columna)\r\n",
    "        \r\n",
    "        if seMovio:\r\n",
    "            self.fila = nueva_fila\r\n",
    "            self.columna = nueva_columna\r\n",
    "        else:\r\n",
    "            print(\"No me puedo mover a esa fila\")\r\n",
    "        \r\n",
    "    def moverIzquierda(self):\r\n",
    "        nueva_fila = self.fila\r\n",
    "        nueva_columna = self.columna - 1\r\n",
    "        \r\n",
    "        seMovio = self.escenario.mover(self.fila, self.columna, nueva_fila, nueva_columna)\r\n",
    "        \r\n",
    "        if seMovio:\r\n",
    "            self.fila = nueva_fila\r\n",
    "            self.columna = nueva_columna\r\n",
    "        else:\r\n",
    "            print(\"No me puedo mover a esa fila\")\r\n",
    "        \r\n",
    "    def moverArriba(self):\r\n",
    "        nueva_fila = self.fila - 1\r\n",
    "        nueva_columna = self.columna\r\n",
    "        \r\n",
    "        seMovio = self.escenario.mover(self.fila, self.columna, nueva_fila, nueva_columna)\r\n",
    "        \r\n",
    "        if seMovio:\r\n",
    "            self.fila = nueva_fila\r\n",
    "            self.columna = nueva_columna\r\n",
    "        else:\r\n",
    "            print(\"No me puedo mover a esa fila\")\r\n",
    "            \r\n",
    "        \r\n",
    "    def moverAbajo(self):\r\n",
    "        nueva_fila = self.fila + 1\r\n",
    "        nueva_columna = self.columna\r\n",
    "        \r\n",
    "        seMovio = self.escenario.mover(self.fila, self.columna, nueva_fila, nueva_columna)\r\n",
    "        \r\n",
    "        if seMovio:\r\n",
    "            self.fila = nueva_fila\r\n",
    "            self.columna = nueva_columna\r\n",
    "        else:\r\n",
    "            print(\"No me puedo mover a esa fila\")\r\n",
    "        \r\n",
    "robot = Robot()\r\n",
    "\r\n",
    "robot.asignarEscenario(escenario_2)\r\n",
    "\r\n",
    "robot.moverDerecha()\r\n",
    "robot.moverDerecha()\r\n",
    "robot.moverDerecha()\r\n",
    "robot.moverAbajo()\r\n",
    "robot.moverIzquierda()\r\n",
    "robot.moverAbajo()\r\n",
    "\r\n",
    "escenario_2.describir()\r\n",
    "    "
   ],
   "outputs": [
    {
     "output_type": "stream",
     "name": "stdout",
     "text": [
      "Escenario 7x11\n",
      "+-----------------------------------+\n",
      "|                                   |\n",
      "|                                   |\n",
      "|     * (+)                *        |\n",
      "|        *                          |\n",
      "|                                   |\n",
      "|                       *           |\n",
      "|              *                    |\n",
      "+-----------------------------------+\n"
     ]
    }
   ],
   "metadata": {}
  },
  {
   "cell_type": "code",
   "execution_count": null,
   "source": [],
   "outputs": [],
   "metadata": {}
  }
 ],
 "metadata": {
  "orig_nbformat": 4,
  "language_info": {
   "name": "python",
   "version": "3.9.6",
   "mimetype": "text/x-python",
   "codemirror_mode": {
    "name": "ipython",
    "version": 3
   },
   "pygments_lexer": "ipython3",
   "nbconvert_exporter": "python",
   "file_extension": ".py"
  },
  "kernelspec": {
   "name": "python3",
   "display_name": "Python 3.9.6 64-bit"
  },
  "interpreter": {
   "hash": "63fd5069d213b44bf678585dea6b12cceca9941eaf7f819626cde1f2670de90d"
  }
 },
 "nbformat": 4,
 "nbformat_minor": 2
}