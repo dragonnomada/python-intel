{
 "cells": [
  {
   "cell_type": "markdown",
   "source": [
    "# Programación Orientada a Objetos - IV (Contructores)\r\n",
    "\r\n",
    "## Conceptos sobre el modelo Orientado a Objetos\r\n",
    "\r\n",
    "* Se basa en la definición de una clase\r\n",
    "* La se clase se compone de atributos o propiedades (noción de estado interno)\r\n",
    "* La se clase se compone de métodos o funciones especiales (noción de acciones públicas)\r\n",
    "* Encapsulamiento: Las propiedades y métodos son aislados del exterior del objeto (protegidos)\r\n",
    "* Polimorfismo: Los métodos pueden sobrecargarse usando una misma acción en diferentes sentidos\r\n",
    "* Herencia: Se pueden diseñar clases derivadas de otras\r\n",
    "* Constructor y Destructor: son métodos especiales de inicialiciación y deinicilización de objetos (instancias)\r\n",
    "\r\n",
    "* **Nota:** Python no soporta directamente algunos principios de la POO, por ejemplo, el polimorfismo o la destrucción de objetos."
   ],
   "metadata": {}
  },
  {
   "cell_type": "markdown",
   "source": [
    "## Constructor\r\n",
    "\r\n",
    "Un constructor es un método especial que recibe parámetros, pero lleva el mismo nombre de la clase y su función es inicializar el estado inicial del objeto. Por ejemplo, cuándo queremos construir un objeto con ciertos valores por defecto.\r\n",
    "\r\n",
    "> Sintaxis: Contrucción de objetos\r\n",
    "\r\n",
    "```py\r\n",
    "class <Nombre>:\r\n",
    "\r\n",
    "    <propiedad> = <valor defecto>\r\n",
    "\r\n",
    "    def __init__(self, <parémetros>):\r\n",
    "        self.<propiedad> = <parámetro>\r\n",
    "        # TODO: Inicializar todas las propiedades del objeto, a través de los parámetros\r\n",
    "        # TODO: Llamar a métodos inicializadores o internos\r\n",
    "\r\n",
    "```"
   ],
   "metadata": {}
  },
  {
   "cell_type": "code",
   "execution_count": 1,
   "source": [
    "class Robot:\r\n",
    "    x = 0\r\n",
    "    y = 0\r\n",
    "    \r\n",
    "    # Método constructor\r\n",
    "    def __init__(self, x, y):\r\n",
    "        self.x = x\r\n",
    "        self.y = y\r\n",
    "        \r\n",
    "    # Método especial de Descripción: Objeto a Texto (-> str)\r\n",
    "    def __str__(self):\r\n",
    "        return f\"({self.x}, {self.y})\""
   ],
   "outputs": [],
   "metadata": {}
  },
  {
   "cell_type": "code",
   "execution_count": 2,
   "source": [
    "r2d2 = Robot(10, 10)\r\n",
    "\r\n",
    "print(r2d2)"
   ],
   "outputs": [
    {
     "output_type": "stream",
     "name": "stdout",
     "text": [
      "(10, 10)\n"
     ]
    }
   ],
   "metadata": {}
  },
  {
   "cell_type": "code",
   "execution_count": 3,
   "source": [
    "class Persona:\r\n",
    "    nombre = None\r\n",
    "    edad = None\r\n",
    "    \r\n",
    "    # edad = 18 - es parámetro con valor opcional\r\n",
    "    def __init__(self, nombre, edad = 18):\r\n",
    "        self.nombre = nombre\r\n",
    "        self.edad = edad\r\n",
    "        \r\n",
    "    def __str__(self):\r\n",
    "        return f\"Hola soy {self.nombre} y tengo {self.edad} años\""
   ],
   "outputs": [],
   "metadata": {}
  },
  {
   "cell_type": "code",
   "execution_count": 4,
   "source": [
    "pp = Persona(\"Pepe\")\r\n",
    "\r\n",
    "print(pp)"
   ],
   "outputs": [
    {
     "output_type": "stream",
     "name": "stdout",
     "text": [
      "Hola soy Pepe y tengo 18 años\n"
     ]
    }
   ],
   "metadata": {}
  },
  {
   "cell_type": "markdown",
   "source": [
    "## Herencia\r\n",
    "\r\n",
    "Una clase derivada tendrá el mismo diseño que su clase padre o clase superior, y se dirá que es clase Heredada (formalmente de Diseño Heredado) por la clase padre/superior.\r\n",
    "\r\n",
    "La herencia sirve para modelar objetos que vayan extendiendo o reemplanzando funcionalidad. Por ejemplo, una clase superior podría definir las tareas de un sistemas y una clase derivada podría ir reemplazando estas funcionalidades o agregando nuevas.\r\n",
    "\r\n",
    "Las clases heradadas pueden ser utilizadas como instancias superiores. Significa que una clase hijo/inferior puede ser tratada como la clase base o superior ya que tienen heredados las mismas propiedades y métodos.\r\n",
    "\r\n",
    "> Sintaxis de Clases Derivadas (Herencia de Clases)\r\n",
    "\r\n",
    "```py\r\n",
    "class <Padre>:\r\n",
    "    <propiedad padre> = <valor>\r\n",
    "\r\n",
    "    def <método padre>(self, <parámetros>):\r\n",
    "        # TODO: Implementar el <método padre>\r\n",
    "\r\n",
    "class <Hijo>(<Padre>):\r\n",
    "    <propiedad hijo> = <valor>\r\n",
    "\r\n",
    "    def <método padre>(self, <parámetros>):\r\n",
    "        # TODO: Reemplaza la funcionalidad del <método padre>\r\n",
    "\r\n",
    "    def <método hijo>(self, <parámetros>):\r\n",
    "        # TODO: Implementa la nueva funcionalidad del <método hijo>\r\n",
    "```"
   ],
   "metadata": {}
  },
  {
   "cell_type": "code",
   "execution_count": 7,
   "source": [
    "class Robot:\r\n",
    "    x = 0\r\n",
    "    y = 0\r\n",
    "    \r\n",
    "    def mover_enfrente(self, distancia = 1):\r\n",
    "        print(\"No sé moverme hacía enfrente\")\r\n",
    "    \r\n",
    "    def mover_atrás(self, distancia = 1):\r\n",
    "        print(\"No sé moverme hacía atrás\")\r\n",
    "    \r\n",
    "    def girar_derecha(self, angulo = 0.1):\r\n",
    "        print(\"No sé girar a la derecha\")\r\n",
    "    \r\n",
    "    def girar_izquierda(self, angulo = 0.1):\r\n",
    "        print(\"No sé girar a la izquierda\")\r\n",
    "        \r\n",
    "    def __str__(self) -> str:\r\n",
    "        return f\"({self.x}, {self.y})\"\r\n",
    "        \r\n",
    "import math        \r\n",
    "        \r\n",
    "class RobotMovil(Robot):\r\n",
    "    \r\n",
    "    def mover_enfrente(self, distancia = 1):\r\n",
    "        r = (self.x ** 2 + self.y ** 2) ** 0.5\r\n",
    "        a = math.atan2(self.y, self.x)\r\n",
    "        self.x = self.x + distancia * math.cos(a)\r\n",
    "        self.y = self.y + distancia * math.sin(a)\r\n",
    "    \r\n",
    "    def mover_atrás(self, distancia = 1):\r\n",
    "        r = (self.x ** 2 + self.y ** 2) ** 0.5\r\n",
    "        a = math.atan2(self.y, self.x)\r\n",
    "        self.x = (r - distancia) * math.cos(a)\r\n",
    "        self.y = (r - distancia) * math.sin(a)\r\n",
    "    \r\n",
    "class RobotGiratorio(Robot):\r\n",
    "    a = 0\r\n",
    "    \r\n",
    "    def girar_derecha(self, angulo = 0.1):\r\n",
    "        self.a = self.a + angulo\r\n",
    "    \r\n",
    "    def girar_izquierda(self, angulo = 0.1):\r\n",
    "        self.a = self.a - angulo"
   ],
   "outputs": [],
   "metadata": {}
  },
  {
   "cell_type": "code",
   "execution_count": 9,
   "source": [
    "r1 = Robot()\r\n",
    "\r\n",
    "r2 = RobotMovil()\r\n",
    "\r\n",
    "r3 = RobotGiratorio()\r\n",
    "\r\n",
    "r1.mover_enfrente()\r\n",
    "r1.girar_derecha()\r\n",
    "print(r1)\r\n",
    "\r\n",
    "r2.mover_enfrente()\r\n",
    "r2.girar_derecha()\r\n",
    "print(r2)\r\n",
    "\r\n",
    "r3.mover_enfrente()\r\n",
    "r3.girar_derecha()\r\n",
    "print(r3)"
   ],
   "outputs": [
    {
     "output_type": "stream",
     "name": "stdout",
     "text": [
      "No sé moverme hacía enfrente\n",
      "No sé girar a la derecha\n",
      "(0, 0)\n",
      "No sé girar a la derecha\n",
      "(1.0, 0.0)\n",
      "No sé moverme hacía enfrente\n",
      "(0, 0)\n"
     ]
    }
   ],
   "metadata": {}
  },
  {
   "cell_type": "code",
   "execution_count": null,
   "source": [
    "class A:\r\n",
    "    a = None\r\n",
    "    b = None\r\n",
    "    \r\n",
    "    def __init__(self, a = 0, b = False):\r\n",
    "        self.a = a\r\n",
    "        self.b = b\r\n",
    "        \r\n",
    "class B(A):\r\n",
    "    c = None\r\n",
    "    d = None\r\n",
    "    \r\n",
    "    def __init__(self, a=0, b=False, c = \"\", d = 0 + 0j):\r\n",
    "        # Inicializar el padre\r\n",
    "        super().__init__(a=a, b=b)\r\n",
    "        self.c = c\r\n",
    "        self.d = d"
   ],
   "outputs": [],
   "metadata": {}
  }
 ],
 "metadata": {
  "orig_nbformat": 4,
  "language_info": {
   "name": "python",
   "version": "3.9.6",
   "mimetype": "text/x-python",
   "codemirror_mode": {
    "name": "ipython",
    "version": 3
   },
   "pygments_lexer": "ipython3",
   "nbconvert_exporter": "python",
   "file_extension": ".py"
  },
  "kernelspec": {
   "name": "python3",
   "display_name": "Python 3.9.6 64-bit"
  },
  "interpreter": {
   "hash": "63fd5069d213b44bf678585dea6b12cceca9941eaf7f819626cde1f2670de90d"
  }
 },
 "nbformat": 4,
 "nbformat_minor": 2
}