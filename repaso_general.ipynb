{
 "cells": [
  {
   "cell_type": "markdown",
   "metadata": {},
   "source": [
    "# Curso de Python - Repaso General\n",
    "\n",
    "```txt\n",
    "* Módulo 1. Introducción a Python\n",
    "¿Qué es Programación?\n",
    "Escribir Código Fuente\n",
    "Ejecutar Código Fuente\n",
    "¿Por qué Python?\n",
    "Instalando\n",
    "```"
   ]
  },
  {
   "cell_type": "markdown",
   "metadata": {},
   "source": [
    "## ¿Qué es Programación?\n",
    "\n",
    "Es una comunicación entre humanos y máquinas, para poder instruir a las máquinas el cómo resolver problemas o tareas, a través de código. Dicho código son conjuntos de instrucciones bajo un lenguaje de programación (lenguaje formal), el cuál contiene símbolos, palabras y sintaxis correspondiente a las instrucciones que queremos ejecutar."
   ]
  },
  {
   "cell_type": "markdown",
   "metadata": {},
   "source": [
    "## Escribir código fuente\n",
    "\n",
    "El código generalmente dado en texto, se puede entender como una estructura organizada de palabras y símbolos para ejecutar instrucciones. Podemos crear código fuente para que la computadora a través de los interpretes y compiladores lo ejecute (o en su caso lo compile como un programa ejecutable) y es tan sencillo como colocar un archivo de texto plano en la computadora con nuestro código contenido.\n",
    "\n",
    "> hello.py\n",
    "\n",
    "```py\n",
    "print(\"Hola mundo\")\n",
    "\n",
    "for i in range(1, 6):\n",
    "    print(i)\n",
    "```"
   ]
  },
  {
   "cell_type": "markdown",
   "metadata": {},
   "source": [
    "## Ejecutar código fuente\n",
    "\n",
    "En python hay distintas formas de ejecutar el código fuente, por ejemplo, a través del interprete interactivo de pytho llamado el *ipy* disponible en la instalación a través del comando `python`.\n",
    "\n",
    "> Modo 1 - Abrir el interactor de python\n",
    "\n",
    "```bash\n",
    "$ python\n",
    ">>> 2 + 2\n",
    "4\n",
    ">>> print(\"Hola mundo\")\n",
    "'Hola mundo'\n",
    ">>> for i in range(1, 6):\n",
    "...     print(f\"i = {i}\")\n",
    "...\n",
    "1\n",
    "2\n",
    "3\n",
    "4\n",
    "5\n",
    ">>> exit()\n",
    "$\n",
    "```\n",
    "\n",
    "> Modo 2 - Ejecutar un script/código de python\n",
    "\n",
    "```bash\n",
    "$ python hello.py\n",
    "Hola mundo\n",
    "1\n",
    "2\n",
    "3\n",
    "4\n",
    "5\n",
    "```"
   ]
  },
  {
   "cell_type": "markdown",
   "metadata": {},
   "source": [
    "## Instalar una librería\n",
    "\n",
    "Python cuenta con un instalor de paquetes/módulos descargados automáticamente desde internet mediante su nombre. Por ejemplo, si queremos utilizar la librería de `numpy` o la librería de `pandas`.\n",
    "\n",
    "> Modo 1 - Usar el comando `pip` (python installer package)\n",
    "\n",
    "```bash\n",
    "$ pip install numpy pandas <nombre>\n",
    "...\n",
    "[Success]\n",
    "```\n",
    "\n",
    "> Modo 2 - Usar a python y que llame a pip\n",
    "\n",
    "```bash\n",
    "$ python -m pip install numpy pandas <nombre>\n",
    "...\n",
    "[Success]\n",
    "```"
   ]
  },
  {
   "cell_type": "markdown",
   "metadata": {},
   "source": [
    "## ¿Por qué utilizar Python?\n",
    "\n",
    "Antes para crear un programa, existían lenguajes de programación principalmente compilados. Este proceso era tardado y sensible a errores, que muchas no podían ser detectados fácilmentes. Además dichos lenguajes cargaban una sintaxis muy pesada para los programadores, por ejemplo, tener que usar `{}` para definir bloques de código, usar punteros `*` para obtener memoria dinámica, etc. Esta sintaxis hacía díficil estructurar algorimos, por lo que su curva de aprendizaje era bastante alta.\n",
    "\n",
    "En python surge la filosofía de crear código sencillo con sintaxis sencilla. Esta filosofía atrajo a muchos científicos y nuevos programadores de diversas áreas, haciendo de python un lenguaje especializado para la implementación rápida de problemas complejos. Así hoy día podemos encontrar miles de librerías potentes que van desde el manejo de imágenes, audio, video, redes neuronales, expresiones químicas, etc.\n",
    "\n",
    "Además python es uno de los lenguajes con menor curva de aprendizaje, e incluso hay libros llamados `Python en 24 horas` o `Python en 1 hora`."
   ]
  },
  {
   "cell_type": "markdown",
   "metadata": {},
   "source": [
    "## Instalación\n",
    "\n",
    "Ir a la página oficial [https://www.python.org](https://www.python.org)\n",
    "\n",
    "![Instalación 1](./recursos/instalacion_1.png)\n",
    "![Instalación 1](./recursos/instalacion_2.png)\n",
    "![Instalación 1](./recursos/instalacion_3.png)\n",
    "![Instalación 1](./recursos/instalacion_4.png)\n",
    "![Instalación 1](./recursos/instalacion_5.png)\n",
    "![Instalación 1](./recursos/instalacion_6.png)\n",
    "![Instalación 1](./recursos/instalacion_7.png)"
   ]
  },
  {
   "cell_type": "markdown",
   "metadata": {},
   "source": [
    "```txt\n",
    "* Módulo 2. Fundamentos de programación con Python\n",
    "Variables\n",
    "Tipos de Datos\n",
    "Practicando los Tipos de Datos\n",
    "```"
   ]
  },
  {
   "cell_type": "markdown",
   "metadata": {},
   "source": [
    "> Crear una variable\n",
    "\n",
    "```py\n",
    "# <nombre> = <valor>\n",
    "edad = 12                  # int\n",
    "peso = 14.5                # float\n",
    "nombre = \"Ana\"             # str\n",
    "esCasado = True            # bool\n",
    "frecuencia = 123 + 456j    # complex\n",
    "```\n",
    "\n",
    "> Tipos de datos primitivos\n",
    "\n",
    "Nombre | Tipo | Descripción\n",
    "--- | --- | ---\n",
    "Entero | `int` | Guarda un valor entero `123`, `34`, `234567`\n",
    "Decimal | `float` | Guarda un valor decimal `0.123`, `456.789`, `2131231.000123123`\n",
    "Texto | `str` | Almacena un texto `\"Hola mundo\"`, `'Hola \"mudo\"'`, `f\"Hola {nombre}\"`\n",
    "Booleano | `bool` | Guarda un valor lógico `True`, `False`, `5 > 3`, `5 > 7`\n",
    "Complejo | `complex` | Almacena un número y su parte imaginaria `1j`, `1 + 1j`, `2 - 2j`"
   ]
  },
  {
   "cell_type": "markdown",
   "metadata": {},
   "source": [
    "```txt\n",
    "* Módulo 3. Funciones, Números y Operadores\n",
    "Funciones\n",
    "Funciones con Parámetros y argumentos\n",
    "Funciones que Retornan Valores\n",
    "Diferencias entre Funciones y Métodos\n",
    "Números y ejemplos con números\n",
    "Funciones con Números\n",
    "```"
   ]
  },
  {
   "cell_type": "markdown",
   "metadata": {},
   "source": [
    "Las funciones son abstracciones de códigos en forma de procedimientos que reciben entradas variables llamadas parámetros o argumentos y devuelven una salida generalmente con valor `None` cuándo no se marca ningún retorno."
   ]
  },
  {
   "cell_type": "code",
   "execution_count": 2,
   "metadata": {},
   "outputs": [
    {
     "name": "stdout",
     "output_type": "stream",
     "text": [
      "Hola mundo\n"
     ]
    }
   ],
   "source": [
    "# def <nombre>(<parámetros>):\n",
    "def saludar(): # Sin parámetros\n",
    "    print(\"Hola mundo\")\n",
    "    # No returna valores\n",
    "    \n",
    "# <nombre>(<argumentos>)\n",
    "saludar()"
   ]
  },
  {
   "cell_type": "code",
   "execution_count": 3,
   "metadata": {},
   "outputs": [
    {
     "data": {
      "text/plain": [
       "101"
      ]
     },
     "execution_count": 3,
     "metadata": {},
     "output_type": "execute_result"
    }
   ],
   "source": [
    "def suma(a, b): # Con parámetros\n",
    "    return a + b # Si retorna valores\n",
    "\n",
    "suma(34, 67)"
   ]
  },
  {
   "cell_type": "code",
   "execution_count": 11,
   "metadata": {},
   "outputs": [
    {
     "data": {
      "text/plain": [
       "False"
      ]
     },
     "execution_count": 11,
     "metadata": {},
     "output_type": "execute_result"
    }
   ],
   "source": [
    "def esMayor(edad): # Con parámetros\n",
    "    # Si returna valores\n",
    "    if edad >= 18:\n",
    "        return True\n",
    "    else:\n",
    "        return False\n",
    "    # return edad >= 18\n",
    "    \n",
    "edad = int(input(\"Edad: \"))\n",
    "    \n",
    "esMayor(edad)"
   ]
  },
  {
   "cell_type": "code",
   "execution_count": 13,
   "metadata": {},
   "outputs": [
    {
     "name": "stdout",
     "output_type": "stream",
     "text": [
      "Hola\n",
      "Lolo\n",
      "Lolo\n",
      "Lolo\n"
     ]
    }
   ],
   "source": [
    "def imprimirMensaje(mensaje, veces = 1): # Con parámetros y argumentos\n",
    "    for i in range(veces):\n",
    "        print(mensaje)\n",
    "        \n",
    "imprimirMensaje(\"Hola\") # Sin argumentos\n",
    "\n",
    "imprimirMensaje(\"Lolo\", veces=3) # Con argumentos"
   ]
  },
  {
   "cell_type": "code",
   "execution_count": 16,
   "metadata": {},
   "outputs": [
    {
     "name": "stdout",
     "output_type": "stream",
     "text": [
      "variable = 15\n"
     ]
    }
   ],
   "source": [
    "# Esto es una función\n",
    "\n",
    "def agrega5(variable):\n",
    "    return variable + 5\n",
    "\n",
    "variable = 10\n",
    "\n",
    "variable = agrega5(variable)\n",
    "\n",
    "print(f\"variable = {variable}\")"
   ]
  },
  {
   "cell_type": "markdown",
   "metadata": {},
   "source": [
    "La diferencia entre una función y un método es que los métodos son funciones especiales que reciben un `self` que contiene el estado actual del objeto de la clase con la que fueron diseñada.\n",
    "\n",
    "* Una función puede ser definida en cualquier parte\n",
    "* Un método debe ser definido dentro de una clase\n",
    "* Una función recibe su primer argumento como el primer parámetro de la función\n",
    "* Un método recibe como primer argumento a `self` y como segundo argumento el primer parámetro de la función"
   ]
  },
  {
   "cell_type": "code",
   "execution_count": 17,
   "metadata": {},
   "outputs": [
    {
     "name": "stdout",
     "output_type": "stream",
     "text": [
      "almacen.variable = 15\n"
     ]
    }
   ],
   "source": [
    "class Almacen:\n",
    "    variable = 10 # Atributo/Propiedad/Campo/Estado\n",
    "    \n",
    "    # Esto es un método: agregar5(<self>, <parámentros>)\n",
    "    def agrega5(self): # Método/Acción/Funcionalidad\n",
    "        self.variable = self.variable + 5\n",
    "        \n",
    "almacen = Almacen()\n",
    "\n",
    "almacen.agrega5()\n",
    "\n",
    "print(f\"almacen.variable = {almacen.variable}\")"
   ]
  },
  {
   "cell_type": "code",
   "execution_count": 21,
   "metadata": {},
   "outputs": [
    {
     "data": {
      "text/plain": [
       "(-83, 9)"
      ]
     },
     "execution_count": 21,
     "metadata": {},
     "output_type": "execute_result"
    }
   ],
   "source": [
    "def min_max(lista):\n",
    "    min_n = float(\"Infinity\")\n",
    "    max_n = float(\"-Infinity\")\n",
    "    for n in lista:\n",
    "        if n < min_n:\n",
    "            min_n = n\n",
    "        if n > max_n:\n",
    "            max_n = n\n",
    "    return (min_n, max_n)\n",
    "\n",
    "min_max([4, 3, 5, 9, 2, -83, 1, 6, 3])"
   ]
  },
  {
   "cell_type": "markdown",
   "metadata": {},
   "source": [
    "```txt\n",
    "* Módulo 4. Arreglos e iteradores\n",
    "Qué son los Arreglos (Arrays) en Programación\n",
    "Trabajando con Lists en Python Veamos que son los iteradores \n",
    "```"
   ]
  },
  {
   "cell_type": "markdown",
   "metadata": {},
   "source": [
    "Los arreglos de datos en la programación son secuencias indexadas de valores, es decir, una estructura que nos permite almacenar en la memoria múltiples valores y manejarlos como una misma entidad. Por ejemplo, un conjunto indexado de calificaciones, dónde el primer elmento esté asociado al primer índice, el segundo elemento este asociado al segundo índice, y así sucesivamente.\n",
    "\n",
    "Los arreglos de datos sirven para poder condesar la información y manipularla fácilmente.\n",
    "\n",
    "En python existen las listas (la colección `list`) la cual nos permite generar listas a partir de elementos. También tenemos la posibilidad de partir de listas vacías (`[]`) e ir agregando y quitando elementos con sus métodos `append`, `pop`, `insert`, `remove`."
   ]
  },
  {
   "cell_type": "code",
   "execution_count": 22,
   "metadata": {},
   "outputs": [
    {
     "data": {
      "text/plain": [
       "[8.5, 7.6, 9.3, 10, 5, 4.2, 7.4, 9.8]"
      ]
     },
     "execution_count": 22,
     "metadata": {},
     "output_type": "execute_result"
    }
   ],
   "source": [
    "calificaciones = [8.5, 7.6, 9.3, 10, 5, 4.2, 7.4]\n",
    "\n",
    "# Agregar una calificación al final\n",
    "calificaciones.append(9.8)\n",
    "\n",
    "calificaciones"
   ]
  },
  {
   "cell_type": "code",
   "execution_count": 23,
   "metadata": {},
   "outputs": [
    {
     "data": {
      "text/plain": [
       "[8.5, 7.6, 6.7, 9.3, 10, 5, 4.2, 7.4, 9.8]"
      ]
     },
     "execution_count": 23,
     "metadata": {},
     "output_type": "execute_result"
    }
   ],
   "source": [
    "# Agregar un elemento en el índice adecuado y desplazar los demás\n",
    "# al final el nuevo elemento tendrá el índice especificado\n",
    "calificaciones.insert(2, 6.7)\n",
    "\n",
    "calificaciones"
   ]
  },
  {
   "cell_type": "code",
   "execution_count": 24,
   "metadata": {},
   "outputs": [
    {
     "name": "stdout",
     "output_type": "stream",
     "text": [
      "9.8 [8.5, 7.6, 6.7, 9.3, 10, 5, 4.2, 7.4]\n"
     ]
    }
   ],
   "source": [
    "# Quita el último elemento y nos lo devuelve\n",
    "ultimo = calificaciones.pop()\n",
    "\n",
    "print(ultimo, calificaciones)"
   ]
  },
  {
   "cell_type": "code",
   "execution_count": 25,
   "metadata": {},
   "outputs": [
    {
     "data": {
      "text/plain": [
       "[8.5, 7.6, 6.7, 10, 5, 4.2, 7.4]"
      ]
     },
     "execution_count": 25,
     "metadata": {},
     "output_type": "execute_result"
    }
   ],
   "source": [
    "# Quita un elemento existente\n",
    "# !!! Pregunta antes si el elemento está contenido\n",
    "if 9.3 in calificaciones:\n",
    "    calificaciones.remove(9.3)\n",
    "    \n",
    "calificaciones"
   ]
  },
  {
   "cell_type": "code",
   "execution_count": null,
   "metadata": {},
   "outputs": [],
   "source": [
    "# Quita todos los elementos del valor a\n",
    "# a = <valor>\n",
    "# while a in calificaciones:\n",
    "#     calificaciones.remove(a)"
   ]
  },
  {
   "cell_type": "code",
   "execution_count": 26,
   "metadata": {},
   "outputs": [
    {
     "data": {
      "text/plain": [
       "(6.7, [8.5, 7.6, 10, 5, 4.2, 7.4])"
      ]
     },
     "execution_count": 26,
     "metadata": {},
     "output_type": "execute_result"
    }
   ],
   "source": [
    "# Quita el tercer elemento: índice 0, 1, 2\n",
    "tercero = calificaciones.pop(2)\n",
    "\n",
    "tercero, calificaciones"
   ]
  },
  {
   "cell_type": "code",
   "execution_count": 27,
   "metadata": {},
   "outputs": [
    {
     "data": {
      "text/plain": [
       "42.7"
      ]
     },
     "execution_count": 27,
     "metadata": {},
     "output_type": "execute_result"
    }
   ],
   "source": [
    "suma = 0\n",
    "\n",
    "for c in calificaciones:\n",
    "    suma = suma + c\n",
    "    \n",
    "suma"
   ]
  },
  {
   "cell_type": "code",
   "execution_count": 28,
   "metadata": {},
   "outputs": [
    {
     "name": "stdout",
     "output_type": "stream",
     "text": [
      "0 8.5\n",
      "1 7.6\n",
      "2 10\n",
      "3 5\n",
      "4 4.2\n",
      "5 7.4\n"
     ]
    }
   ],
   "source": [
    "for index, calif in enumerate(calificaciones):\n",
    "    print(index, calif)"
   ]
  }
 ],
 "metadata": {
  "interpreter": {
   "hash": "63fd5069d213b44bf678585dea6b12cceca9941eaf7f819626cde1f2670de90d"
  },
  "kernelspec": {
   "display_name": "Python 3.9.6 64-bit",
   "name": "python3"
  },
  "language_info": {
   "codemirror_mode": {
    "name": "ipython",
    "version": 3
   },
   "file_extension": ".py",
   "mimetype": "text/x-python",
   "name": "python",
   "nbconvert_exporter": "python",
   "pygments_lexer": "ipython3",
   "version": "3.9.6"
  },
  "orig_nbformat": 4
 },
 "nbformat": 4,
 "nbformat_minor": 2
}
