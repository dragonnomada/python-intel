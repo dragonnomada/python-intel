{
 "cells": [
  {
   "cell_type": "markdown",
   "source": [
    "# Curso de Python - Repaso General\r\n",
    "\r\n",
    "```txt\r\n",
    "* Módulo 1. Introducción a Python\r\n",
    "¿Qué es Programación?\r\n",
    "Escribir Código Fuente\r\n",
    "Ejecutar Código Fuente\r\n",
    "¿Por qué Python?\r\n",
    "Instalando\r\n",
    "```"
   ],
   "metadata": {}
  },
  {
   "cell_type": "markdown",
   "source": [
    "## ¿Qué es Programación?\r\n",
    "\r\n",
    "Es una comunicación entre humanos y máquinas, para poder instruir a las máquinas el cómo resolver problemas o tareas, a través de código. Dicho código son conjuntos de instrucciones bajo un lenguaje de programación (lenguaje formal), el cuál contiene símbolos, palabras y sintaxis correspondiente a las instrucciones que queremos ejecutar."
   ],
   "metadata": {}
  },
  {
   "cell_type": "markdown",
   "source": [
    "## Escribir código fuente\r\n",
    "\r\n",
    "El código generalmente dado en texto, se puede entender como una estructura organizada de palabras y símbolos para ejecutar instrucciones. Podemos crear código fuente para que la computadora a través de los interpretes y compiladores lo ejecute (o en su caso lo compile como un programa ejecutable) y es tan sencillo como colocar un archivo de texto plano en la computadora con nuestro código contenido.\r\n",
    "\r\n",
    "> hello.py\r\n",
    "\r\n",
    "```py\r\n",
    "print(\"Hola mundo\")\r\n",
    "\r\n",
    "for i in range(1, 6):\r\n",
    "    print(i)\r\n",
    "```"
   ],
   "metadata": {}
  },
  {
   "cell_type": "markdown",
   "source": [
    "## Ejecutar código fuente\r\n",
    "\r\n",
    "En python hay distintas formas de ejecutar el código fuente, por ejemplo, a través del interprete interactivo de pytho llamado el *ipy* disponible en la instalación a través del comando `python`.\r\n",
    "\r\n",
    "> Modo 1 - Abrir el interactor de python\r\n",
    "\r\n",
    "```bash\r\n",
    "$ python\r\n",
    ">>> 2 + 2\r\n",
    "4\r\n",
    ">>> print(\"Hola mundo\")\r\n",
    "'Hola mundo'\r\n",
    ">>> for i in range(1, 6):\r\n",
    "...     print(f\"i = {i}\")\r\n",
    "...\r\n",
    "1\r\n",
    "2\r\n",
    "3\r\n",
    "4\r\n",
    "5\r\n",
    ">>> exit()\r\n",
    "$\r\n",
    "```\r\n",
    "\r\n",
    "> Modo 2 - Ejecutar un script/código de python\r\n",
    "\r\n",
    "```bash\r\n",
    "$ python hello.py\r\n",
    "Hola mundo\r\n",
    "1\r\n",
    "2\r\n",
    "3\r\n",
    "4\r\n",
    "5\r\n",
    "```"
   ],
   "metadata": {}
  },
  {
   "cell_type": "markdown",
   "source": [
    "## Instalar una librería\r\n",
    "\r\n",
    "Python cuenta con un instalor de paquetes/módulos descargados automáticamente desde internet mediante su nombre. Por ejemplo, si queremos utilizar la librería de `numpy` o la librería de `pandas`.\r\n",
    "\r\n",
    "> Modo 1 - Usar el comando `pip` (python installer package)\r\n",
    "\r\n",
    "```bash\r\n",
    "$ pip install numpy pandas <nombre>\r\n",
    "...\r\n",
    "[Success]\r\n",
    "```\r\n",
    "\r\n",
    "> Modo 2 - Usar a python y que llame a pip\r\n",
    "\r\n",
    "```bash\r\n",
    "$ python -m pip install numpy pandas <nombre>\r\n",
    "...\r\n",
    "[Success]\r\n",
    "```"
   ],
   "metadata": {}
  },
  {
   "cell_type": "markdown",
   "source": [
    "## ¿Por qué utilizar Python?\r\n",
    "\r\n",
    "Antes para crear un programa, existían lenguajes de programación principalmente compilados. Este proceso era tardado y sensible a errores, que muchas no podían ser detectados fácilmentes. Además dichos lenguajes cargaban una sintaxis muy pesada para los programadores, por ejemplo, tener que usar `{}` para definir bloques de código, usar punteros `*` para obtener memoria dinámica, etc. Esta sintaxis hacía díficil estructurar algorimos, por lo que su curva de aprendizaje era bastante alta.\r\n",
    "\r\n",
    "En python surge la filosofía de crear código sencillo con sintaxis sencilla. Esta filosofía atrajo a muchos científicos y nuevos programadores de diversas áreas, haciendo de python un lenguaje especializado para la implementación rápida de problemas complejos. Así hoy día podemos encontrar miles de librerías potentes que van desde el manejo de imágenes, audio, video, redes neuronales, expresiones químicas, etc.\r\n",
    "\r\n",
    "Además python es uno de los lenguajes con menor curva de aprendizaje, e incluso hay libros llamados `Python en 24 horas` o `Python en 1 hora`."
   ],
   "metadata": {}
  },
  {
   "cell_type": "markdown",
   "source": [
    "## Instalación\r\n",
    "\r\n",
    "Ir a la página oficial [https://www.python.org](https://www.python.org)\r\n",
    "\r\n",
    "![Instalación 1](./recursos/instalacion_1.png)\r\n",
    "![Instalación 1](./recursos/instalacion_2.png)\r\n",
    "![Instalación 1](./recursos/instalacion_3.png)\r\n",
    "![Instalación 1](./recursos/instalacion_4.png)\r\n",
    "![Instalación 1](./recursos/instalacion_5.png)\r\n",
    "![Instalación 1](./recursos/instalacion_6.png)\r\n",
    "![Instalación 1](./recursos/instalacion_7.png)"
   ],
   "metadata": {}
  },
  {
   "cell_type": "markdown",
   "source": [
    "```txt\r\n",
    "* Módulo 2. Fundamentos de programación con Python\r\n",
    "Variables\r\n",
    "Tipos de Datos\r\n",
    "Practicando los Tipos de Datos\r\n",
    "```"
   ],
   "metadata": {}
  },
  {
   "cell_type": "markdown",
   "source": [
    "> Crear una variable\r\n",
    "\r\n",
    "```py\r\n",
    "# <nombre> = <valor>\r\n",
    "edad = 12                  # int\r\n",
    "peso = 14.5                # float\r\n",
    "nombre = \"Ana\"             # str\r\n",
    "esCasado = True            # bool\r\n",
    "frecuencia = 123 + 456j    # complex\r\n",
    "```\r\n",
    "\r\n",
    "> Tipos de datos primitivos\r\n",
    "\r\n",
    "Nombre | Tipo | Descripción\r\n",
    "--- | --- | ---\r\n",
    "Entero | `int` | Guarda un valor entero `123`, `34`, `234567`\r\n",
    "Decimal | `float` | Guarda un valor decimal `0.123`, `456.789`, `2131231.000123123`\r\n",
    "Texto | `str` | Almacena un texto `\"Hola mundo\"`, `'Hola \"mudo\"'`, `f\"Hola {nombre}\"`\r\n",
    "Booleano | `bool` | Guarda un valor lógico `True`, `False`, `5 > 3`, `5 > 7`\r\n",
    "Complejo | `complex` | Almacena un número y su parte imaginaria `1j`, `1 + 1j`, `2 - 2j`"
   ],
   "metadata": {}
  },
  {
   "cell_type": "markdown",
   "source": [
    "```txt\r\n",
    "* Módulo 3. Funciones, Números y Operadores\r\n",
    "Funciones\r\n",
    "Funciones con Parámetros y argumentos\r\n",
    "Funciones que Retornan Valores\r\n",
    "Diferencias entre Funciones y Métodos\r\n",
    "Números y ejemplos con números\r\n",
    "Funciones con Números\r\n",
    "```"
   ],
   "metadata": {}
  },
  {
   "cell_type": "markdown",
   "source": [
    "Las funciones son abstracciones de códigos en forma de procedimientos que reciben entradas variables llamadas parámetros o argumentos y devuelven una salida generalmente con valor `None` cuándo no se marca ningún retorno."
   ],
   "metadata": {}
  },
  {
   "cell_type": "code",
   "execution_count": 2,
   "source": [
    "# def <nombre>(<parámetros>):\r\n",
    "def saludar(): # Sin parámetros\r\n",
    "    print(\"Hola mundo\")\r\n",
    "    # No returna valores\r\n",
    "    \r\n",
    "# <nombre>(<argumentos>)\r\n",
    "saludar()"
   ],
   "outputs": [
    {
     "output_type": "stream",
     "name": "stdout",
     "text": [
      "Hola mundo\n"
     ]
    }
   ],
   "metadata": {}
  },
  {
   "cell_type": "code",
   "execution_count": 3,
   "source": [
    "def suma(a, b): # Con parámetros\r\n",
    "    return a + b # Si retorna valores\r\n",
    "\r\n",
    "suma(34, 67)"
   ],
   "outputs": [
    {
     "output_type": "execute_result",
     "data": {
      "text/plain": [
       "101"
      ]
     },
     "metadata": {},
     "execution_count": 3
    }
   ],
   "metadata": {}
  },
  {
   "cell_type": "code",
   "execution_count": 11,
   "source": [
    "def esMayor(edad): # Con parámetros\r\n",
    "    # Si returna valores\r\n",
    "    if edad >= 18:\r\n",
    "        return True\r\n",
    "    else:\r\n",
    "        return False\r\n",
    "    # return edad >= 18\r\n",
    "    \r\n",
    "edad = int(input(\"Edad: \"))\r\n",
    "    \r\n",
    "esMayor(edad)"
   ],
   "outputs": [
    {
     "output_type": "execute_result",
     "data": {
      "text/plain": [
       "False"
      ]
     },
     "metadata": {},
     "execution_count": 11
    }
   ],
   "metadata": {}
  },
  {
   "cell_type": "code",
   "execution_count": 13,
   "source": [
    "def imprimirMensaje(mensaje, veces = 1): # Con parámetros y argumentos\r\n",
    "    for i in range(veces):\r\n",
    "        print(mensaje)\r\n",
    "        \r\n",
    "imprimirMensaje(\"Hola\") # Sin argumentos\r\n",
    "\r\n",
    "imprimirMensaje(\"Lolo\", veces=3) # Con argumentos"
   ],
   "outputs": [
    {
     "output_type": "stream",
     "name": "stdout",
     "text": [
      "Hola\n",
      "Lolo\n",
      "Lolo\n",
      "Lolo\n"
     ]
    }
   ],
   "metadata": {}
  },
  {
   "cell_type": "code",
   "execution_count": 16,
   "source": [
    "# Esto es una función\r\n",
    "\r\n",
    "def agrega5(variable):\r\n",
    "    return variable + 5\r\n",
    "\r\n",
    "variable = 10\r\n",
    "\r\n",
    "variable = agrega5(variable)\r\n",
    "\r\n",
    "print(f\"variable = {variable}\")"
   ],
   "outputs": [
    {
     "output_type": "stream",
     "name": "stdout",
     "text": [
      "variable = 15\n"
     ]
    }
   ],
   "metadata": {}
  },
  {
   "cell_type": "markdown",
   "source": [
    "La diferencia entre una función y un método es que los métodos son funciones especiales que reciben un `self` que contiene el estado actual del objeto de la clase con la que fueron diseñada.\r\n",
    "\r\n",
    "* Una función puede ser definida en cualquier parte\r\n",
    "* Un método debe ser definido dentro de una clase\r\n",
    "* Una función recibe su primer argumento como el primer parámetro de la función\r\n",
    "* Un método recibe como primer argumento a `self` y como segundo argumento el primer parámetro de la función"
   ],
   "metadata": {}
  },
  {
   "cell_type": "code",
   "execution_count": 17,
   "source": [
    "class Almacen:\r\n",
    "    variable = 10 # Atributo/Propiedad/Campo/Estado\r\n",
    "    \r\n",
    "    # Esto es un método: agregar5(<self>, <parámentros>)\r\n",
    "    def agrega5(self): # Método/Acción/Funcionalidad\r\n",
    "        self.variable = self.variable + 5\r\n",
    "        \r\n",
    "almacen = Almacen()\r\n",
    "\r\n",
    "almacen.agrega5()\r\n",
    "\r\n",
    "print(f\"almacen.variable = {almacen.variable}\")"
   ],
   "outputs": [
    {
     "output_type": "stream",
     "name": "stdout",
     "text": [
      "almacen.variable = 15\n"
     ]
    }
   ],
   "metadata": {}
  },
  {
   "cell_type": "code",
   "execution_count": 21,
   "source": [
    "def min_max(lista):\r\n",
    "    min_n = float(\"Infinity\")\r\n",
    "    max_n = float(\"-Infinity\")\r\n",
    "    for n in lista:\r\n",
    "        if n < min_n:\r\n",
    "            min_n = n\r\n",
    "        if n > max_n:\r\n",
    "            max_n = n\r\n",
    "    return (min_n, max_n)\r\n",
    "\r\n",
    "min_max([4, 3, 5, 9, 2, -83, 1, 6, 3])"
   ],
   "outputs": [
    {
     "output_type": "execute_result",
     "data": {
      "text/plain": [
       "(-83, 9)"
      ]
     },
     "metadata": {},
     "execution_count": 21
    }
   ],
   "metadata": {}
  },
  {
   "cell_type": "markdown",
   "source": [
    "```txt\r\n",
    "* Módulo 4. Arreglos e iteradores\r\n",
    "Qué son los Arreglos (Arrays) en Programación\r\n",
    "Trabajando con Lists en Python Veamos que son los iteradores \r\n",
    "```"
   ],
   "metadata": {}
  },
  {
   "cell_type": "markdown",
   "source": [
    "Los arreglos de datos en la programación son secuencias indexadas de valores, es decir, una estructura que nos permite almacenar en la memoria múltiples valores y manejarlos como una misma entidad. Por ejemplo, un conjunto indexado de calificaciones, dónde el primer elmento esté asociado al primer índice, el segundo elemento este asociado al segundo índice, y así sucesivamente.\r\n",
    "\r\n",
    "Los arreglos de datos sirven para poder condesar la información y manipularla fácilmente.\r\n",
    "\r\n",
    "En python existen las listas (la colección `list`) la cual nos permite generar listas a partir de elementos. También tenemos la posibilidad de partir de listas vacías (`[]`) e ir agregando y quitando elementos con sus métodos `append`, `pop`, `insert`, `remove`."
   ],
   "metadata": {}
  },
  {
   "cell_type": "code",
   "execution_count": 22,
   "source": [
    "calificaciones = [8.5, 7.6, 9.3, 10, 5, 4.2, 7.4]\r\n",
    "\r\n",
    "# Agregar una calificación al final\r\n",
    "calificaciones.append(9.8)\r\n",
    "\r\n",
    "calificaciones"
   ],
   "outputs": [
    {
     "output_type": "execute_result",
     "data": {
      "text/plain": [
       "[8.5, 7.6, 9.3, 10, 5, 4.2, 7.4, 9.8]"
      ]
     },
     "metadata": {},
     "execution_count": 22
    }
   ],
   "metadata": {}
  },
  {
   "cell_type": "code",
   "execution_count": 23,
   "source": [
    "# Agregar un elemento en el índice adecuado y desplazar los demás\r\n",
    "# al final el nuevo elemento tendrá el índice especificado\r\n",
    "calificaciones.insert(2, 6.7)\r\n",
    "\r\n",
    "calificaciones"
   ],
   "outputs": [
    {
     "output_type": "execute_result",
     "data": {
      "text/plain": [
       "[8.5, 7.6, 6.7, 9.3, 10, 5, 4.2, 7.4, 9.8]"
      ]
     },
     "metadata": {},
     "execution_count": 23
    }
   ],
   "metadata": {}
  },
  {
   "cell_type": "code",
   "execution_count": 24,
   "source": [
    "# Quita el último elemento y nos lo devuelve\r\n",
    "ultimo = calificaciones.pop()\r\n",
    "\r\n",
    "print(ultimo, calificaciones)"
   ],
   "outputs": [
    {
     "output_type": "stream",
     "name": "stdout",
     "text": [
      "9.8 [8.5, 7.6, 6.7, 9.3, 10, 5, 4.2, 7.4]\n"
     ]
    }
   ],
   "metadata": {}
  },
  {
   "cell_type": "code",
   "execution_count": 25,
   "source": [
    "# Quita un elemento existente\r\n",
    "# !!! Pregunta antes si el elemento está contenido\r\n",
    "if 9.3 in calificaciones:\r\n",
    "    calificaciones.remove(9.3)\r\n",
    "    \r\n",
    "calificaciones"
   ],
   "outputs": [
    {
     "output_type": "execute_result",
     "data": {
      "text/plain": [
       "[8.5, 7.6, 6.7, 10, 5, 4.2, 7.4]"
      ]
     },
     "metadata": {},
     "execution_count": 25
    }
   ],
   "metadata": {}
  },
  {
   "cell_type": "code",
   "execution_count": null,
   "source": [
    "# Quita todos los elementos del valor a\r\n",
    "# a = <valor>\r\n",
    "# while a in calificaciones:\r\n",
    "#     calificaciones.remove(a)"
   ],
   "outputs": [],
   "metadata": {}
  },
  {
   "cell_type": "code",
   "execution_count": 26,
   "source": [
    "# Quita el tercer elemento: índice 0, 1, 2\r\n",
    "tercero = calificaciones.pop(2)\r\n",
    "\r\n",
    "tercero, calificaciones"
   ],
   "outputs": [
    {
     "output_type": "execute_result",
     "data": {
      "text/plain": [
       "(6.7, [8.5, 7.6, 10, 5, 4.2, 7.4])"
      ]
     },
     "metadata": {},
     "execution_count": 26
    }
   ],
   "metadata": {}
  },
  {
   "cell_type": "code",
   "execution_count": 27,
   "source": [
    "suma = 0\r\n",
    "\r\n",
    "for c in calificaciones:\r\n",
    "    suma = suma + c\r\n",
    "    \r\n",
    "suma"
   ],
   "outputs": [
    {
     "output_type": "execute_result",
     "data": {
      "text/plain": [
       "42.7"
      ]
     },
     "metadata": {},
     "execution_count": 27
    }
   ],
   "metadata": {}
  },
  {
   "cell_type": "code",
   "execution_count": 28,
   "source": [
    "for index, calif in enumerate(calificaciones):\r\n",
    "    print(index, calif)"
   ],
   "outputs": [
    {
     "output_type": "stream",
     "name": "stdout",
     "text": [
      "0 8.5\n",
      "1 7.6\n",
      "2 10\n",
      "3 5\n",
      "4 4.2\n",
      "5 7.4\n"
     ]
    }
   ],
   "metadata": {}
  }
 ],
 "metadata": {
  "orig_nbformat": 4,
  "language_info": {
   "name": "python",
   "version": "3.9.6",
   "mimetype": "text/x-python",
   "codemirror_mode": {
    "name": "ipython",
    "version": 3
   },
   "pygments_lexer": "ipython3",
   "nbconvert_exporter": "python",
   "file_extension": ".py"
  },
  "kernelspec": {
   "name": "python3",
   "display_name": "Python 3.9.6 64-bit"
  },
  "interpreter": {
   "hash": "63fd5069d213b44bf678585dea6b12cceca9941eaf7f819626cde1f2670de90d"
  }
 },
 "nbformat": 4,
 "nbformat_minor": 2
}